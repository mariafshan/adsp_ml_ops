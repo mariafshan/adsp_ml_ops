{
 "cells": [
  {
   "cell_type": "markdown",
   "id": "268831c3-e9e9-4918-a6dc-f63c530b1c47",
   "metadata": {},
   "source": [
    "# Assignment 1: Data Versioning and Differential Privacy Pt. 1\n",
    "## ADSP 32021 IP01 Machine Learning Operations\n",
    "#### Maria Clarissa Fionalita\n",
    "Canvas Assignment Pages:\n",
    "\n",
    "- [Assignment 1: Data Versioning and Differential Privacy](https://canvas.uchicago.edu/courses/52013/assignments/586652)\n",
    "- [Hint for the assignment](https://edstem.org/us/courses/48613/discussion/3583746)\n",
    "- [Intro to Exploratory data analysis (EDA) in Python](https://www.kaggle.com/code/imoore/intro-to-exploratory-data-analysis-eda-in-python)\n",
    "\n",
    "References:\n",
    "\n",
    "- [Versioning Data with DVC (Hands-On Tutorial!)](https://www.youtube.com/watch?v=kLKBcPonMYw)\n",
    "- [DVC Cheatsheet](https://derekchia.com/dvc/)"
   ]
  },
  {
   "cell_type": "markdown",
   "id": "0244c1ca-d50f-43c1-b1fb-d312b1c3391c",
   "metadata": {},
   "source": [
    "#### Setting Up DVC filepath and Google Drive as remote storage"
   ]
  },
  {
   "cell_type": "code",
   "execution_count": 107,
   "id": "4f157fb5-8cc9-4bf6-b404-494c79a50a82",
   "metadata": {},
   "outputs": [
    {
     "name": "stdout",
     "output_type": "stream",
     "text": [
      "\u001b[33mhint: Using 'master' as the name for the initial branch. This default branch name\u001b[m\n",
      "\u001b[33mhint: is subject to change. To configure the initial branch name to use in all\u001b[m\n",
      "\u001b[33mhint: of your new repositories, which will suppress this warning, call:\u001b[m\n",
      "\u001b[33mhint: \u001b[m\n",
      "\u001b[33mhint: \tgit config --global init.defaultBranch <name>\u001b[m\n",
      "\u001b[33mhint: \u001b[m\n",
      "\u001b[33mhint: Names commonly chosen instead of 'master' are 'main', 'trunk' and\u001b[m\n",
      "\u001b[33mhint: 'development'. The just-created branch can be renamed via this command:\u001b[m\n",
      "\u001b[33mhint: \u001b[m\n",
      "\u001b[33mhint: \tgit branch -m <name>\u001b[m\n",
      "Initialized empty Git repository in /mnt/d/UChicago/Q4/ADSP 32021 Machine Learning Operations/Assignment 1/.git/\n",
      "Initialized DVC repository.\n",
      "\n",
      "You can now commit the changes to git.\n",
      "\n",
      "\u001b[31m+---------------------------------------------------------------------+\n",
      "\u001b[0m\u001b[31m|\u001b[0m                                                                     \u001b[31m|\u001b[0m\n",
      "\u001b[31m|\u001b[0m        DVC has enabled anonymous aggregate usage analytics.         \u001b[31m|\u001b[0m\n",
      "\u001b[31m|\u001b[0m     Read the analytics documentation (and how to opt-out) here:     \u001b[31m|\u001b[0m\n",
      "\u001b[31m|\u001b[0m             <\u001b[36mhttps://dvc.org/doc/user-guide/analytics\u001b[39m>              \u001b[31m|\u001b[0m\n",
      "\u001b[31m|\u001b[0m                                                                     \u001b[31m|\u001b[0m\n",
      "\u001b[31m+---------------------------------------------------------------------+\n",
      "\u001b[0m\n",
      "\u001b[33mWhat's next?\u001b[39m\n",
      "\u001b[33m------------\u001b[39m\n",
      "- Check out the documentation: <\u001b[36mhttps://dvc.org/doc\u001b[39m>\n",
      "- Get help and share ideas: <\u001b[36mhttps://dvc.org/chat\u001b[39m>\n",
      "- Star us on GitHub: <\u001b[36mhttps://github.com/iterative/dvc\u001b[39m>\n",
      "\u001b[0mSetting 'storage' as a default remote.\n",
      "\u001b[0m[master (root-commit) e890107] Configure remote storage\n",
      " 1 file changed, 4 insertions(+)\n",
      " create mode 100644 .dvc/config\n"
     ]
    }
   ],
   "source": [
    "!git init\n",
    "!dvc init -f\n",
    "!dvc remote add -d storage gdrive://1i8QDLTjDwMzeznRjHizajHFaEFA3O17U\n",
    "!git commit .dvc/config -m \"Configure remote storage\""
   ]
  },
  {
   "cell_type": "code",
   "execution_count": 108,
   "id": "029825ec-eb6c-4491-ab3a-e94e3271a208",
   "metadata": {
    "tags": []
   },
   "outputs": [],
   "source": [
    "import pandas as pd\n",
    "import numpy as np"
   ]
  },
  {
   "cell_type": "code",
   "execution_count": 110,
   "id": "80a35ebf-49a1-4cbe-b583-5bf5337a5ac7",
   "metadata": {
    "tags": []
   },
   "outputs": [
    {
     "name": "stdout",
     "output_type": "stream",
     "text": [
      "total 81M\n",
      "-rwxrwxrwx 1 mariafshan mariafshan 69M Mar  2  2023 athletes.csv\n",
      "-rwxrwxrwx 1 mariafshan mariafshan 13M Oct 16 13:43 athletes.csv.zip\n"
     ]
    }
   ],
   "source": [
    "# Clean cache to fresh pull data\n",
    "\n",
    "# !rm -f data/athletes.csv\n",
    "# !rm -f dvc/cache\n",
    "# !dvc pull\n",
    "\n",
    "!ls -lh data"
   ]
  },
  {
   "cell_type": "code",
   "execution_count": 111,
   "id": "d3a40941-a90e-4766-b969-fde16ff51093",
   "metadata": {
    "tags": []
   },
   "outputs": [
    {
     "name": "stdout",
     "output_type": "stream",
     "text": [
      "\u001b[?25l\u001b[32m⠋\u001b[0m Checking graph                                       core\u001b[39m>\n",
      "Adding...                                                                       \n",
      "!\u001b[A\n",
      "Collecting files and computing hashes in data/athletes.csv |0.00 [00:00,     ?fi\u001b[A\n",
      "                                                                                \u001b[A\n",
      "!\u001b[A\n",
      "  0% Checking cache in '/mnt/d/UChicago/Q4/ADSP 32021 Machine Learning Operation\u001b[A\n",
      "                                                                                \u001b[A\n",
      "!\u001b[A\n",
      "  0%|          |Adding data/athletes.csv to cache     0/? [00:00<?,     ?file/s]\u001b[A\n",
      "  0%|          |Adding data/athletes.csv to cache     0/1 [00:00<?,     ?file/s]\u001b[A\n",
      "  0%|          |Adding data/athletes.csv to cache     0/1 [00:00<?,     ?file/s]\u001b[A\n",
      "100%|██████████|Adding data/athletes.csv to cache 1/1 [00:00<00:00,  8.58file/s]\u001b[A\n",
      "                                                                                \u001b[A\n",
      "!\u001b[A\n",
      "  0%|          |Checking out /mnt/d/UChicago/Q4/ADSP 30/? [00:00<?,    ?files/s]\u001b[A\n",
      "  0%|          |Checking out /mnt/d/UChicago/Q4/ADSP 30/1 [00:00<?,    ?files/s]\u001b[A\n",
      "100%|██████████|Checking out /mnt/d/UChicago/Q4/A1/1 [00:00<00:00,  1.56files/s]\u001b[A\n",
      "100% Adding...|████████████████████████████████████████|1/1 [00:01,  1.61s/file]\u001b[A\n",
      "\n",
      "To track the changes with git, run:\n",
      "\n",
      "\tgit add data/athletes.csv.dvc data/.gitignore\n",
      "\n",
      "To enable auto staging, run:\n",
      "\n",
      "\tdvc config core.autostage true\n",
      "\u001b[0m"
     ]
    }
   ],
   "source": [
    "!dvc add data/athletes.csv\n",
    "!git add data/.gitignore data/athletes.csv.dvc"
   ]
  },
  {
   "cell_type": "code",
   "execution_count": 112,
   "id": "32e4487d-54d7-41ca-826b-62285642870a",
   "metadata": {
    "collapsed": true,
    "jupyter": {
     "outputs_hidden": true
    },
    "tags": []
   },
   "outputs": [
    {
     "name": "stdout",
     "output_type": "stream",
     "text": [
      "[master 18eacf2] add raw athletes.csv\n",
      " 5 files changed, 13 insertions(+)\n",
      " create mode 100755 .dvc/.gitignore\n",
      " mode change 100644 => 100755 .dvc/config\n",
      " create mode 100755 .dvcignore\n",
      " create mode 100644 data/.gitignore\n",
      " create mode 100644 data/athletes.csv.dvc\n",
      "outs:\n",
      "- md5: ade8057a9ad4350dfade9180f021a96d\n",
      "  size: 71546909\n",
      "  isexec: true\n",
      "  hash: md5\n",
      "  path: athletes.csv\n",
      "  0% Pushing to gdrive://1i8QDLTjDwMzeznRjHizajHFaEFA3O17U/files/md5| |0/1 [00:0\n",
      "!\u001b[A\n",
      "  0%|          |/mnt/d/UChicago/Q4/ADSP 32021 Machi0.00/? [00:00<?,        ?B/s]\u001b[A\n",
      "  0%|          |/mnt/d/UChicago/Q4/ADSP 32021 M0.00/68.2M [00:00<?,        ?B/s]\u001b[A\n",
      "  0%|          |/mnt/d/UChicago/Q4/ADSP 8.00k/68.2M [00:03<9:21:52,    2.12kB/s]\u001b[A\n",
      "  1%|          |/mnt/d/UChicago/Q4/ADSP 320712k/68.2M [00:04<04:47,     246kB/s]\u001b[A\n",
      "  1%|▏         |/mnt/d/UChicago/Q4/ADSP 320952k/68.2M [00:04<03:28,     339kB/s]\u001b[A\n",
      "  2%|▏         |/mnt/d/UChicago/Q4/ADSP 321.16M/68.2M [00:04<02:40,     438kB/s]\u001b[A\n",
      "  2%|▏         |/mnt/d/UChicago/Q4/ADSP 321.40M/68.2M [00:04<02:04,     563kB/s]\u001b[A\n",
      "  3%|▎         |/mnt/d/UChicago/Q4/ADSP 321.75M/68.2M [00:04<01:30,     772kB/s]\u001b[A\n",
      "  3%|▎         |/mnt/d/UChicago/Q4/ADSP 321.98M/68.2M [00:05<01:18,     888kB/s]\u001b[A\n",
      "  3%|▎         |/mnt/d/UChicago/Q4/ADSP 322.22M/68.2M [00:05<01:09,     992kB/s]\u001b[A\n",
      "  4%|▎         |/mnt/d/UChicago/Q4/ADSP 322.45M/68.2M [00:05<01:03,    1.09MB/s]\u001b[A\n",
      "  4%|▍         |/mnt/d/UChicago/Q4/ADSP 322.69M/68.2M [00:05<00:59,    1.16MB/s]\u001b[A\n",
      "  4%|▍         |/mnt/d/UChicago/Q4/ADSP 322.92M/68.2M [00:05<00:57,    1.20MB/s]\u001b[A\n",
      "  5%|▍         |/mnt/d/UChicago/Q4/ADSP 323.16M/68.2M [00:05<00:53,    1.27MB/s]\u001b[A\n",
      "  5%|▍         |/mnt/d/UChicago/Q4/ADSP 323.39M/68.2M [00:06<00:52,    1.31MB/s]\u001b[A\n",
      "  5%|▌         |/mnt/d/UChicago/Q4/ADSP 323.62M/68.2M [00:06<00:50,    1.35MB/s]\u001b[A\n",
      "  6%|▌         |/mnt/d/UChicago/Q4/ADSP 323.86M/68.2M [00:06<00:49,    1.38MB/s]\u001b[A\n",
      "  6%|▌         |/mnt/d/UChicago/Q4/ADSP 324.09M/68.2M [00:06<00:49,    1.36MB/s]\u001b[A\n",
      "  6%|▋         |/mnt/d/UChicago/Q4/ADSP 324.33M/68.2M [00:06<00:47,    1.40MB/s]\u001b[A\n",
      "  7%|▋         |/mnt/d/UChicago/Q4/ADSP 324.56M/68.2M [00:06<00:47,    1.42MB/s]\u001b[A\n",
      "  7%|▋         |/mnt/d/UChicago/Q4/ADSP 324.86M/68.2M [00:07<00:46,    1.43MB/s]\u001b[A\n",
      "  7%|▋         |/mnt/d/UChicago/Q4/ADSP 325.09M/68.2M [00:07<00:45,    1.44MB/s]\u001b[A\n",
      "  8%|▊         |/mnt/d/UChicago/Q4/ADSP 325.33M/68.2M [00:07<00:45,    1.44MB/s]\u001b[A\n",
      "  8%|▊         |/mnt/d/UChicago/Q4/ADSP 325.56M/68.2M [00:07<00:46,    1.41MB/s]\u001b[A\n",
      "  8%|▊         |/mnt/d/UChicago/Q4/ADSP 325.80M/68.2M [00:07<00:45,    1.44MB/s]\u001b[A\n",
      "  9%|▉         |/mnt/d/UChicago/Q4/ADSP 326.03M/68.2M [00:08<00:45,    1.42MB/s]\u001b[A\n",
      "  9%|▉         |/mnt/d/UChicago/Q4/ADSP 326.27M/68.2M [00:08<00:45,    1.43MB/s]\u001b[A\n",
      " 10%|▉         |/mnt/d/UChicago/Q4/ADSP 326.50M/68.2M [00:08<00:45,    1.43MB/s]\u001b[A\n",
      " 10%|▉         |/mnt/d/UChicago/Q4/ADSP 326.79M/68.2M [00:08<00:46,    1.37MB/s]\u001b[A\n",
      " 10%|█         |/mnt/d/UChicago/Q4/ADSP 327.02M/68.2M [00:08<00:48,    1.32MB/s]\u001b[A\n",
      " 11%|█         |/mnt/d/UChicago/Q4/ADSP 327.26M/68.2M [00:08<00:48,    1.32MB/s]\u001b[A\n",
      " 11%|█         |/mnt/d/UChicago/Q4/ADSP 327.49M/68.2M [00:09<00:50,    1.27MB/s]\u001b[A\n",
      " 11%|█▏        |/mnt/d/UChicago/Q4/ADSP 327.73M/68.2M [00:09<00:50,    1.27MB/s]\u001b[A\n",
      " 12%|█▏        |/mnt/d/UChicago/Q4/ADSP 327.96M/68.2M [00:09<00:48,    1.30MB/s]\u001b[A\n",
      " 12%|█▏        |/mnt/d/UChicago/Q4/ADSP 328.20M/68.2M [00:09<00:47,    1.33MB/s]\u001b[A\n",
      " 12%|█▏        |/mnt/d/UChicago/Q4/ADSP 328.43M/68.2M [00:09<00:47,    1.33MB/s]\u001b[A\n",
      " 13%|█▎        |/mnt/d/UChicago/Q4/ADSP 328.66M/68.2M [00:10<00:45,    1.36MB/s]\u001b[A\n",
      " 13%|█▎        |/mnt/d/UChicago/Q4/ADSP 328.90M/68.2M [00:10<00:44,    1.39MB/s]\u001b[A\n",
      " 13%|█▎        |/mnt/d/UChicago/Q4/ADSP 329.13M/68.2M [00:10<00:44,    1.40MB/s]\u001b[A\n",
      " 14%|█▎        |/mnt/d/UChicago/Q4/ADSP 329.37M/68.2M [00:10<00:43,    1.41MB/s]\u001b[A\n",
      " 14%|█▍        |/mnt/d/UChicago/Q4/ADSP 329.60M/68.2M [00:10<00:44,    1.39MB/s]\u001b[A\n",
      " 14%|█▍        |/mnt/d/UChicago/Q4/ADSP 329.84M/68.2M [00:10<00:43,    1.41MB/s]\u001b[A\n",
      " 15%|█▍        |/mnt/d/UChicago/Q4/ADSP 3210.1M/68.2M [00:11<00:43,    1.41MB/s]\u001b[A\n",
      " 15%|█▌        |/mnt/d/UChicago/Q4/ADSP 3210.3M/68.2M [00:11<00:43,    1.39MB/s]\u001b[A\n",
      " 15%|█▌        |/mnt/d/UChicago/Q4/ADSP 3210.5M/68.2M [00:11<00:45,    1.34MB/s]\u001b[A\n",
      " 16%|█▌        |/mnt/d/UChicago/Q4/ADSP 3210.8M/68.2M [00:11<00:45,    1.32MB/s]\u001b[A\n",
      " 16%|█▌        |/mnt/d/UChicago/Q4/ADSP 3211.0M/68.2M [00:11<00:46,    1.30MB/s]\u001b[A\n",
      " 16%|█▋        |/mnt/d/UChicago/Q4/ADSP 3211.2M/68.2M [00:12<00:44,    1.34MB/s]\u001b[A\n",
      " 17%|█▋        |/mnt/d/UChicago/Q4/ADSP 3211.5M/68.2M [00:12<00:43,    1.37MB/s]\u001b[A\n",
      " 17%|█▋        |/mnt/d/UChicago/Q4/ADSP 3211.7M/68.2M [00:12<00:44,    1.34MB/s]\u001b[A\n",
      " 18%|█▊        |/mnt/d/UChicago/Q4/ADSP 3211.9M/68.2M [00:12<00:44,    1.31MB/s]\u001b[A\n",
      " 18%|█▊        |/mnt/d/UChicago/Q4/ADSP 3212.2M/68.2M [00:12<00:44,    1.31MB/s]\u001b[A\n",
      " 18%|█▊        |/mnt/d/UChicago/Q4/ADSP 3212.4M/68.2M [00:13<00:46,    1.27MB/s]\u001b[A\n",
      " 19%|█▊        |/mnt/d/UChicago/Q4/ADSP 3212.6M/68.2M [00:13<00:47,    1.23MB/s]\u001b[A\n",
      " 19%|█▉        |/mnt/d/UChicago/Q4/ADSP 3212.9M/68.2M [00:13<00:42,    1.35MB/s]\u001b[A\n",
      " 19%|█▉        |/mnt/d/UChicago/Q4/ADSP 3213.2M/68.2M [00:13<00:42,    1.37MB/s]\u001b[A\n",
      " 20%|█▉        |/mnt/d/UChicago/Q4/ADSP 3213.4M/68.2M [00:13<00:41,    1.40MB/s]\u001b[A\n",
      " 20%|██        |/mnt/d/UChicago/Q4/ADSP 3213.6M/68.2M [00:13<00:40,    1.42MB/s]\u001b[A\n",
      " 20%|██        |/mnt/d/UChicago/Q4/ADSP 3213.9M/68.2M [00:14<00:40,    1.41MB/s]\u001b[A\n",
      " 21%|██        |/mnt/d/UChicago/Q4/ADSP 3214.1M/68.2M [00:14<00:40,    1.39MB/s]\u001b[A\n",
      " 21%|██        |/mnt/d/UChicago/Q4/ADSP 3214.4M/68.2M [00:14<00:40,    1.41MB/s]\u001b[A\n",
      " 21%|██▏       |/mnt/d/UChicago/Q4/ADSP 3214.6M/68.2M [00:14<00:39,    1.42MB/s]\u001b[A\n",
      " 22%|██▏       |/mnt/d/UChicago/Q4/ADSP 3214.8M/68.2M [00:14<00:39,    1.43MB/s]\u001b[A\n",
      " 22%|██▏       |/mnt/d/UChicago/Q4/ADSP 3215.1M/68.2M [00:14<00:39,    1.40MB/s]\u001b[A\n",
      " 22%|██▏       |/mnt/d/UChicago/Q4/ADSP 3215.3M/68.2M [00:15<00:41,    1.34MB/s]\u001b[A\n",
      " 23%|██▎       |/mnt/d/UChicago/Q4/ADSP 3215.5M/68.2M [00:15<00:40,    1.36MB/s]\u001b[A\n",
      " 23%|██▎       |/mnt/d/UChicago/Q4/ADSP 3215.8M/68.2M [00:15<00:40,    1.34MB/s]\u001b[A\n",
      " 23%|██▎       |/mnt/d/UChicago/Q4/ADSP 3216.0M/68.2M [00:15<00:40,    1.35MB/s]\u001b[A\n",
      " 24%|██▍       |/mnt/d/UChicago/Q4/ADSP 3216.2M/68.2M [00:15<00:39,    1.37MB/s]\u001b[A\n",
      " 24%|██▍       |/mnt/d/UChicago/Q4/ADSP 3216.5M/68.2M [00:16<00:40,    1.34MB/s]\u001b[A\n",
      " 24%|██▍       |/mnt/d/UChicago/Q4/ADSP 3216.7M/68.2M [00:16<00:41,    1.31MB/s]\u001b[A\n",
      " 25%|██▍       |/mnt/d/UChicago/Q4/ADSP 3216.9M/68.2M [00:16<00:40,    1.33MB/s]\u001b[A\n",
      " 25%|██▌       |/mnt/d/UChicago/Q4/ADSP 3217.2M/68.2M [00:16<00:38,    1.38MB/s]\u001b[A\n",
      " 25%|██▌       |/mnt/d/UChicago/Q4/ADSP 3217.4M/68.2M [00:16<00:38,    1.39MB/s]\u001b[A\n",
      " 26%|██▌       |/mnt/d/UChicago/Q4/ADSP 3217.6M/68.2M [00:16<00:38,    1.39MB/s]\u001b[A\n",
      " 26%|██▌       |/mnt/d/UChicago/Q4/ADSP 3217.9M/68.2M [00:17<00:37,    1.41MB/s]\u001b[A\n",
      " 27%|██▋       |/mnt/d/UChicago/Q4/ADSP 3218.1M/68.2M [00:17<00:37,    1.41MB/s]\u001b[A\n",
      " 27%|██▋       |/mnt/d/UChicago/Q4/ADSP 3218.3M/68.2M [00:17<00:37,    1.40MB/s]\u001b[A\n",
      " 27%|██▋       |/mnt/d/UChicago/Q4/ADSP 3218.6M/68.2M [00:17<00:37,    1.40MB/s]\u001b[A\n",
      " 28%|██▊       |/mnt/d/UChicago/Q4/ADSP 3218.8M/68.2M [00:17<00:36,    1.41MB/s]\u001b[A\n",
      " 28%|██▊       |/mnt/d/UChicago/Q4/ADSP 3219.0M/68.2M [00:18<00:36,    1.42MB/s]\u001b[A\n",
      " 28%|██▊       |/mnt/d/UChicago/Q4/ADSP 3219.3M/68.2M [00:18<00:35,    1.43MB/s]\u001b[A\n",
      " 29%|██▊       |/mnt/d/UChicago/Q4/ADSP 3219.5M/68.2M [00:18<00:36,    1.39MB/s]\u001b[A\n",
      " 29%|██▉       |/mnt/d/UChicago/Q4/ADSP 3219.8M/68.2M [00:18<00:36,    1.38MB/s]\u001b[A\n",
      " 29%|██▉       |/mnt/d/UChicago/Q4/ADSP 3220.0M/68.2M [00:18<00:36,    1.40MB/s]\u001b[A\n",
      " 30%|██▉       |/mnt/d/UChicago/Q4/ADSP 3220.3M/68.2M [00:18<00:35,    1.40MB/s]\u001b[A\n",
      " 30%|███       |/mnt/d/UChicago/Q4/ADSP 3220.5M/68.2M [00:19<00:35,    1.43MB/s]\u001b[A\n",
      " 30%|███       |/mnt/d/UChicago/Q4/ADSP 3220.7M/68.2M [00:19<00:34,    1.44MB/s]\u001b[A\n",
      " 31%|███       |/mnt/d/UChicago/Q4/ADSP 3221.0M/68.2M [00:19<00:34,    1.44MB/s]\u001b[A\n",
      " 31%|███       |/mnt/d/UChicago/Q4/ADSP 3221.2M/68.2M [00:19<00:34,    1.42MB/s]\u001b[A\n",
      " 31%|███▏      |/mnt/d/UChicago/Q4/ADSP 3221.4M/68.2M [00:19<00:34,    1.41MB/s]\u001b[A\n",
      " 32%|███▏      |/mnt/d/UChicago/Q4/ADSP 3221.7M/68.2M [00:19<00:34,    1.43MB/s]\u001b[A\n",
      " 32%|███▏      |/mnt/d/UChicago/Q4/ADSP 3221.9M/68.2M [00:20<00:33,    1.43MB/s]\u001b[A\n",
      " 32%|███▏      |/mnt/d/UChicago/Q4/ADSP 3222.1M/68.2M [00:20<00:33,    1.44MB/s]\u001b[A\n",
      " 33%|███▎      |/mnt/d/UChicago/Q4/ADSP 3222.4M/68.2M [00:20<00:33,    1.44MB/s]\u001b[A\n",
      " 33%|███▎      |/mnt/d/UChicago/Q4/ADSP 3222.6M/68.2M [00:20<00:48,     980kB/s]\u001b[A\n",
      " 33%|███▎      |/mnt/d/UChicago/Q4/ADSP 3222.8M/68.2M [00:21<00:44,    1.08MB/s]\u001b[A\n",
      " 34%|███▍      |/mnt/d/UChicago/Q4/ADSP 3223.1M/68.2M [00:21<00:40,    1.16MB/s]\u001b[A\n",
      " 34%|███▍      |/mnt/d/UChicago/Q4/ADSP 3223.3M/68.2M [00:21<00:38,    1.24MB/s]\u001b[A\n",
      " 35%|███▍      |/mnt/d/UChicago/Q4/ADSP 3223.5M/68.2M [00:21<00:37,    1.26MB/s]\u001b[A\n",
      " 35%|███▍      |/mnt/d/UChicago/Q4/ADSP 3223.8M/68.2M [00:21<00:36,    1.29MB/s]\u001b[A\n",
      " 35%|███▌      |/mnt/d/UChicago/Q4/ADSP 3224.0M/68.2M [00:21<00:34,    1.33MB/s]\u001b[A\n",
      " 36%|███▌      |/mnt/d/UChicago/Q4/ADSP 3224.2M/68.2M [00:22<00:33,    1.37MB/s]\u001b[A\n",
      " 36%|███▌      |/mnt/d/UChicago/Q4/ADSP 3224.5M/68.2M [00:22<00:33,    1.39MB/s]\u001b[A\n",
      " 36%|███▌      |/mnt/d/UChicago/Q4/ADSP 3224.7M/68.2M [00:22<00:31,    1.43MB/s]\u001b[A\n",
      " 37%|███▋      |/mnt/d/UChicago/Q4/ADSP 3225.0M/68.2M [00:22<00:31,    1.43MB/s]\u001b[A\n",
      " 37%|███▋      |/mnt/d/UChicago/Q4/ADSP 3225.2M/68.2M [00:22<00:33,    1.36MB/s]\u001b[A\n",
      " 37%|███▋      |/mnt/d/UChicago/Q4/ADSP 3225.5M/68.2M [00:23<00:30,    1.47MB/s]\u001b[A\n",
      " 38%|███▊      |/mnt/d/UChicago/Q4/ADSP 3225.7M/68.2M [00:23<00:30,    1.46MB/s]\u001b[A\n",
      " 38%|███▊      |/mnt/d/UChicago/Q4/ADSP 3226.0M/68.2M [00:23<00:31,    1.41MB/s]\u001b[A\n",
      " 38%|███▊      |/mnt/d/UChicago/Q4/ADSP 3226.2M/68.2M [00:23<00:30,    1.43MB/s]\u001b[A\n",
      " 39%|███▊      |/mnt/d/UChicago/Q4/ADSP 3226.4M/68.2M [00:23<00:30,    1.42MB/s]\u001b[A\n",
      " 39%|███▉      |/mnt/d/UChicago/Q4/ADSP 3226.7M/68.2M [00:23<00:31,    1.36MB/s]\u001b[A\n",
      " 39%|███▉      |/mnt/d/UChicago/Q4/ADSP 3226.9M/68.2M [00:24<00:33,    1.30MB/s]\u001b[A\n",
      " 40%|███▉      |/mnt/d/UChicago/Q4/ADSP 3227.2M/68.2M [00:24<00:33,    1.27MB/s]\u001b[A\n",
      " 40%|████      |/mnt/d/UChicago/Q4/ADSP 3227.4M/68.2M [00:24<00:33,    1.26MB/s]\u001b[A\n",
      " 41%|████      |/mnt/d/UChicago/Q4/ADSP 3227.7M/68.2M [00:24<00:35,    1.19MB/s]\u001b[A\n",
      " 41%|████      |/mnt/d/UChicago/Q4/ADSP 3228.0M/68.2M [00:25<00:32,    1.29MB/s]\u001b[A\n",
      " 41%|████▏     |/mnt/d/UChicago/Q4/ADSP 3228.2M/68.2M [00:25<00:32,    1.28MB/s]\u001b[A\n",
      " 42%|████▏     |/mnt/d/UChicago/Q4/ADSP 3228.5M/68.2M [00:25<00:33,    1.23MB/s]\u001b[A\n",
      " 42%|████▏     |/mnt/d/UChicago/Q4/ADSP 3228.7M/68.2M [00:25<00:34,    1.20MB/s]\u001b[A\n",
      " 42%|████▏     |/mnt/d/UChicago/Q4/ADSP 3228.9M/68.2M [00:25<00:34,    1.18MB/s]\u001b[A\n",
      " 43%|████▎     |/mnt/d/UChicago/Q4/ADSP 3229.2M/68.2M [00:26<00:35,    1.17MB/s]\u001b[A\n",
      " 43%|████▎     |/mnt/d/UChicago/Q4/ADSP 3229.4M/68.2M [00:26<00:35,    1.15MB/s]\u001b[A\n",
      " 43%|████▎     |/mnt/d/UChicago/Q4/ADSP 3229.6M/68.2M [00:26<00:34,    1.16MB/s]\u001b[A\n",
      " 44%|████▍     |/mnt/d/UChicago/Q4/ADSP 3229.9M/68.2M [00:26<00:35,    1.14MB/s]\u001b[A\n",
      " 44%|████▍     |/mnt/d/UChicago/Q4/ADSP 3230.1M/68.2M [00:26<00:34,    1.15MB/s]\u001b[A\n",
      " 44%|████▍     |/mnt/d/UChicago/Q4/ADSP 3230.3M/68.2M [00:27<00:34,    1.15MB/s]\u001b[A\n",
      " 45%|████▍     |/mnt/d/UChicago/Q4/ADSP 3230.6M/68.2M [00:27<00:34,    1.14MB/s]\u001b[A\n",
      " 45%|████▌     |/mnt/d/UChicago/Q4/ADSP 3230.8M/68.2M [00:27<00:36,    1.09MB/s]\u001b[A\n",
      " 46%|████▌     |/mnt/d/UChicago/Q4/ADSP 3231.1M/68.2M [00:27<00:33,    1.16MB/s]\u001b[A\n",
      " 46%|████▌     |/mnt/d/UChicago/Q4/ADSP 3231.3M/68.2M [00:28<00:33,    1.16MB/s]\u001b[A\n",
      " 46%|████▋     |/mnt/d/UChicago/Q4/ADSP 3231.6M/68.2M [00:28<00:33,    1.15MB/s]\u001b[A\n",
      " 47%|████▋     |/mnt/d/UChicago/Q4/ADSP 3231.8M/68.2M [00:28<00:33,    1.14MB/s]\u001b[A\n",
      " 47%|████▋     |/mnt/d/UChicago/Q4/ADSP 3232.0M/68.2M [00:28<00:33,    1.14MB/s]\u001b[A\n",
      " 47%|████▋     |/mnt/d/UChicago/Q4/ADSP 3232.3M/68.2M [00:28<00:33,    1.14MB/s]\u001b[A\n",
      " 48%|████▊     |/mnt/d/UChicago/Q4/ADSP 3232.5M/68.2M [00:29<00:32,    1.14MB/s]\u001b[A\n",
      " 48%|████▊     |/mnt/d/UChicago/Q4/ADSP 3232.8M/68.2M [00:29<00:32,    1.15MB/s]\u001b[A\n",
      " 48%|████▊     |/mnt/d/UChicago/Q4/ADSP 3233.0M/68.2M [00:29<00:32,    1.13MB/s]\u001b[A\n",
      " 49%|████▊     |/mnt/d/UChicago/Q4/ADSP 3233.2M/68.2M [00:29<00:32,    1.13MB/s]\u001b[A\n",
      " 49%|████▉     |/mnt/d/UChicago/Q4/ADSP 3233.5M/68.2M [00:30<00:32,    1.12MB/s]\u001b[A\n",
      " 49%|████▉     |/mnt/d/UChicago/Q4/ADSP 3233.7M/68.2M [00:30<00:32,    1.12MB/s]\u001b[A\n",
      " 50%|████▉     |/mnt/d/UChicago/Q4/ADSP 3233.9M/68.2M [00:30<00:33,    1.09MB/s]\u001b[A\n",
      " 50%|█████     |/mnt/d/UChicago/Q4/ADSP 3234.2M/68.2M [00:30<00:30,    1.16MB/s]\u001b[A\n",
      " 50%|█████     |/mnt/d/UChicago/Q4/ADSP 3234.4M/68.2M [00:30<00:30,    1.15MB/s]\u001b[A\n",
      " 51%|█████     |/mnt/d/UChicago/Q4/ADSP 3234.7M/68.2M [00:31<00:30,    1.14MB/s]\u001b[A\n",
      " 51%|█████     |/mnt/d/UChicago/Q4/ADSP 3234.9M/68.2M [00:31<00:31,    1.12MB/s]\u001b[A\n",
      " 52%|█████▏    |/mnt/d/UChicago/Q4/ADSP 3235.1M/68.2M [00:31<00:31,    1.11MB/s]\u001b[A\n",
      " 52%|█████▏    |/mnt/d/UChicago/Q4/ADSP 3235.4M/68.2M [00:31<00:30,    1.13MB/s]\u001b[A\n",
      " 52%|█████▏    |/mnt/d/UChicago/Q4/ADSP 3235.6M/68.2M [00:32<00:30,    1.12MB/s]\u001b[A\n",
      " 53%|█████▎    |/mnt/d/UChicago/Q4/ADSP 3235.9M/68.2M [00:32<00:30,    1.12MB/s]\u001b[A\n",
      " 53%|█████▎    |/mnt/d/UChicago/Q4/ADSP 3236.1M/68.2M [00:32<00:30,    1.11MB/s]\u001b[A\n",
      " 53%|█████▎    |/mnt/d/UChicago/Q4/ADSP 3236.3M/68.2M [00:32<00:29,    1.12MB/s]\u001b[A\n",
      " 54%|█████▎    |/mnt/d/UChicago/Q4/ADSP 3236.6M/68.2M [00:32<00:29,    1.13MB/s]\u001b[A\n",
      " 54%|█████▍    |/mnt/d/UChicago/Q4/ADSP 3236.8M/68.2M [00:33<00:29,    1.13MB/s]\u001b[A\n",
      " 54%|█████▍    |/mnt/d/UChicago/Q4/ADSP 3237.0M/68.2M [00:33<00:28,    1.13MB/s]\u001b[A\n",
      " 55%|█████▍    |/mnt/d/UChicago/Q4/ADSP 3237.3M/68.2M [00:33<00:28,    1.14MB/s]\u001b[A\n",
      " 55%|█████▍    |/mnt/d/UChicago/Q4/ADSP 3237.5M/68.2M [00:33<00:28,    1.13MB/s]\u001b[A\n",
      " 55%|█████▌    |/mnt/d/UChicago/Q4/ADSP 3237.7M/68.2M [00:34<00:28,    1.13MB/s]\u001b[A\n",
      " 56%|█████▌    |/mnt/d/UChicago/Q4/ADSP 3238.0M/68.2M [00:34<00:28,    1.13MB/s]\u001b[A\n",
      " 56%|█████▌    |/mnt/d/UChicago/Q4/ADSP 3238.2M/68.2M [00:34<00:26,    1.17MB/s]\u001b[A\n",
      " 56%|█████▋    |/mnt/d/UChicago/Q4/ADSP 3238.4M/68.2M [00:34<00:26,    1.17MB/s]\u001b[A\n",
      " 57%|█████▋    |/mnt/d/UChicago/Q4/ADSP 3238.7M/68.2M [00:34<00:26,    1.15MB/s]\u001b[A\n",
      " 57%|█████▋    |/mnt/d/UChicago/Q4/ADSP 3238.9M/68.2M [00:35<00:27,    1.13MB/s]\u001b[A\n",
      " 57%|█████▋    |/mnt/d/UChicago/Q4/ADSP 3239.1M/68.2M [00:35<00:27,    1.12MB/s]\u001b[A\n",
      " 58%|█████▊    |/mnt/d/UChicago/Q4/ADSP 3239.4M/68.2M [00:35<00:26,    1.16MB/s]\u001b[A\n",
      " 58%|█████▊    |/mnt/d/UChicago/Q4/ADSP 3239.6M/68.2M [00:35<00:24,    1.23MB/s]\u001b[A\n",
      " 58%|█████▊    |/mnt/d/UChicago/Q4/ADSP 3239.8M/68.2M [00:35<00:23,    1.29MB/s]\u001b[A\n",
      " 59%|█████▊    |/mnt/d/UChicago/Q4/ADSP 3240.1M/68.2M [00:36<00:23,    1.23MB/s]\u001b[A\n",
      " 59%|█████▉    |/mnt/d/UChicago/Q4/ADSP 3240.3M/68.2M [00:36<00:21,    1.35MB/s]\u001b[A\n",
      " 59%|█████▉    |/mnt/d/UChicago/Q4/ADSP 3240.5M/68.2M [00:36<00:21,    1.37MB/s]\u001b[A\n",
      " 60%|█████▉    |/mnt/d/UChicago/Q4/ADSP 3240.8M/68.2M [00:36<00:20,    1.41MB/s]\u001b[A\n",
      " 60%|██████    |/mnt/d/UChicago/Q4/ADSP 3241.0M/68.2M [00:36<00:20,    1.43MB/s]\u001b[A\n",
      " 60%|██████    |/mnt/d/UChicago/Q4/ADSP 3241.2M/68.2M [00:36<00:19,    1.43MB/s]\u001b[A\n",
      " 61%|██████    |/mnt/d/UChicago/Q4/ADSP 3241.5M/68.2M [00:37<00:19,    1.44MB/s]\u001b[A\n",
      " 61%|██████    |/mnt/d/UChicago/Q4/ADSP 3241.7M/68.2M [00:37<00:19,    1.43MB/s]\u001b[A\n",
      " 61%|██████▏   |/mnt/d/UChicago/Q4/ADSP 3241.9M/68.2M [00:37<00:19,    1.45MB/s]\u001b[A\n",
      " 62%|██████▏   |/mnt/d/UChicago/Q4/ADSP 3242.2M/68.2M [00:37<00:18,    1.45MB/s]\u001b[A\n",
      " 62%|██████▏   |/mnt/d/UChicago/Q4/ADSP 3242.4M/68.2M [00:37<00:18,    1.44MB/s]\u001b[A\n",
      " 63%|██████▎   |/mnt/d/UChicago/Q4/ADSP 3242.6M/68.2M [00:37<00:18,    1.46MB/s]\u001b[A\n",
      " 63%|██████▎   |/mnt/d/UChicago/Q4/ADSP 3242.9M/68.2M [00:38<00:19,    1.39MB/s]\u001b[A\n",
      " 63%|██████▎   |/mnt/d/UChicago/Q4/ADSP 3243.2M/68.2M [00:38<00:18,    1.43MB/s]\u001b[A\n",
      " 64%|██████▎   |/mnt/d/UChicago/Q4/ADSP 3243.4M/68.2M [00:38<00:18,    1.42MB/s]\u001b[A\n",
      " 64%|██████▍   |/mnt/d/UChicago/Q4/ADSP 3243.6M/68.2M [00:38<00:18,    1.42MB/s]\u001b[A\n",
      " 64%|██████▍   |/mnt/d/UChicago/Q4/ADSP 3243.9M/68.2M [00:38<00:17,    1.43MB/s]\u001b[A\n",
      " 65%|██████▍   |/mnt/d/UChicago/Q4/ADSP 3244.1M/68.2M [00:39<00:17,    1.43MB/s]\u001b[A\n",
      " 65%|██████▍   |/mnt/d/UChicago/Q4/ADSP 3244.3M/68.2M [00:39<00:17,    1.44MB/s]\u001b[A\n",
      " 65%|██████▌   |/mnt/d/UChicago/Q4/ADSP 3244.6M/68.2M [00:39<00:17,    1.43MB/s]\u001b[A\n",
      " 66%|██████▌   |/mnt/d/UChicago/Q4/ADSP 3244.8M/68.2M [00:39<00:17,    1.43MB/s]\u001b[A\n",
      " 66%|██████▌   |/mnt/d/UChicago/Q4/ADSP 3245.0M/68.2M [00:39<00:16,    1.44MB/s]\u001b[A\n",
      " 66%|██████▋   |/mnt/d/UChicago/Q4/ADSP 3245.3M/68.2M [00:39<00:16,    1.44MB/s]\u001b[A\n",
      " 67%|██████▋   |/mnt/d/UChicago/Q4/ADSP 3245.5M/68.2M [00:40<00:17,    1.33MB/s]\u001b[A\n",
      " 67%|██████▋   |/mnt/d/UChicago/Q4/ADSP 3245.8M/68.2M [00:40<00:15,    1.48MB/s]\u001b[A\n",
      " 67%|██████▋   |/mnt/d/UChicago/Q4/ADSP 3246.0M/68.2M [00:40<00:15,    1.46MB/s]\u001b[A\n",
      " 68%|██████▊   |/mnt/d/UChicago/Q4/ADSP 3246.3M/68.2M [00:40<00:15,    1.46MB/s]\u001b[A\n",
      " 68%|██████▊   |/mnt/d/UChicago/Q4/ADSP 3246.5M/68.2M [00:40<00:15,    1.45MB/s]\u001b[A\n",
      " 69%|██████▊   |/mnt/d/UChicago/Q4/ADSP 3246.8M/68.2M [00:40<00:15,    1.45MB/s]\u001b[A\n",
      " 69%|██████▉   |/mnt/d/UChicago/Q4/ADSP 3247.0M/68.2M [00:41<00:15,    1.43MB/s]\u001b[A\n",
      " 69%|██████▉   |/mnt/d/UChicago/Q4/ADSP 3247.2M/68.2M [00:41<00:15,    1.43MB/s]\u001b[A\n",
      " 70%|██████▉   |/mnt/d/UChicago/Q4/ADSP 3247.5M/68.2M [00:41<00:15,    1.43MB/s]\u001b[A\n",
      " 70%|██████▉   |/mnt/d/UChicago/Q4/ADSP 3247.7M/68.2M [00:41<00:14,    1.44MB/s]\u001b[A\n",
      " 70%|███████   |/mnt/d/UChicago/Q4/ADSP 3247.9M/68.2M [00:41<00:14,    1.45MB/s]\u001b[A\n",
      " 71%|███████   |/mnt/d/UChicago/Q4/ADSP 3248.2M/68.2M [00:41<00:14,    1.43MB/s]\u001b[A\n",
      " 71%|███████   |/mnt/d/UChicago/Q4/ADSP 3248.4M/68.2M [00:42<00:14,    1.46MB/s]\u001b[A\n",
      " 71%|███████▏  |/mnt/d/UChicago/Q4/ADSP 3248.6M/68.2M [00:42<00:14,    1.44MB/s]\u001b[A\n",
      " 72%|███████▏  |/mnt/d/UChicago/Q4/ADSP 3248.9M/68.2M [00:42<00:14,    1.43MB/s]\u001b[A\n",
      " 72%|███████▏  |/mnt/d/UChicago/Q4/ADSP 3249.1M/68.2M [00:42<00:14,    1.42MB/s]\u001b[A\n",
      " 72%|███████▏  |/mnt/d/UChicago/Q4/ADSP 3249.3M/68.2M [00:42<00:13,    1.43MB/s]\u001b[A\n",
      " 73%|███████▎  |/mnt/d/UChicago/Q4/ADSP 3249.6M/68.2M [00:43<00:13,    1.43MB/s]\u001b[A\n",
      " 73%|███████▎  |/mnt/d/UChicago/Q4/ADSP 3249.8M/68.2M [00:43<00:13,    1.43MB/s]\u001b[A\n",
      " 73%|███████▎  |/mnt/d/UChicago/Q4/ADSP 3250.0M/68.2M [00:43<00:14,    1.36MB/s]\u001b[A\n",
      " 74%|███████▎  |/mnt/d/UChicago/Q4/ADSP 3250.3M/68.2M [00:43<00:12,    1.46MB/s]\u001b[A\n",
      " 74%|███████▍  |/mnt/d/UChicago/Q4/ADSP 3250.6M/68.2M [00:43<00:12,    1.46MB/s]\u001b[A\n",
      " 74%|███████▍  |/mnt/d/UChicago/Q4/ADSP 3250.8M/68.2M [00:43<00:12,    1.44MB/s]\u001b[A\n",
      " 75%|███████▍  |/mnt/d/UChicago/Q4/ADSP 3251.0M/68.2M [00:44<00:12,    1.44MB/s]\u001b[A\n",
      " 75%|███████▌  |/mnt/d/UChicago/Q4/ADSP 3251.3M/68.2M [00:44<00:12,    1.46MB/s]\u001b[A\n",
      " 75%|███████▌  |/mnt/d/UChicago/Q4/ADSP 3251.5M/68.2M [00:44<00:12,    1.42MB/s]\u001b[A\n",
      " 76%|███████▌  |/mnt/d/UChicago/Q4/ADSP 3251.7M/68.2M [00:44<00:11,    1.45MB/s]\u001b[A\n",
      " 76%|███████▌  |/mnt/d/UChicago/Q4/ADSP 3252.0M/68.2M [00:44<00:11,    1.43MB/s]\u001b[A\n",
      " 76%|███████▋  |/mnt/d/UChicago/Q4/ADSP 3252.2M/68.2M [00:44<00:11,    1.44MB/s]\u001b[A\n",
      " 77%|███████▋  |/mnt/d/UChicago/Q4/ADSP 3252.4M/68.2M [00:45<00:11,    1.43MB/s]\u001b[A\n",
      " 77%|███████▋  |/mnt/d/UChicago/Q4/ADSP 3252.7M/68.2M [00:45<00:11,    1.44MB/s]\u001b[A\n",
      " 78%|███████▊  |/mnt/d/UChicago/Q4/ADSP 3252.9M/68.2M [00:45<00:11,    1.45MB/s]\u001b[A\n",
      " 78%|███████▊  |/mnt/d/UChicago/Q4/ADSP 3253.1M/68.2M [00:45<00:10,    1.45MB/s]\u001b[A\n",
      " 78%|███████▊  |/mnt/d/UChicago/Q4/ADSP 3253.4M/68.2M [00:45<00:10,    1.43MB/s]\u001b[A\n",
      " 79%|███████▊  |/mnt/d/UChicago/Q4/ADSP 3253.6M/68.2M [00:45<00:10,    1.42MB/s]\u001b[A\n",
      " 79%|███████▉  |/mnt/d/UChicago/Q4/ADSP 3253.8M/68.2M [00:46<00:10,    1.42MB/s]\u001b[A\n",
      " 79%|███████▉  |/mnt/d/UChicago/Q4/ADSP 3254.1M/68.2M [00:46<00:10,    1.43MB/s]\u001b[A\n",
      " 80%|███████▉  |/mnt/d/UChicago/Q4/ADSP 3254.3M/68.2M [00:46<00:10,    1.44MB/s]\u001b[A\n",
      " 80%|███████▉  |/mnt/d/UChicago/Q4/ADSP 3254.5M/68.2M [00:46<00:09,    1.46MB/s]\u001b[A\n",
      " 80%|████████  |/mnt/d/UChicago/Q4/ADSP 3254.8M/68.2M [00:46<00:09,    1.47MB/s]\u001b[A\n",
      " 81%|████████  |/mnt/d/UChicago/Q4/ADSP 3255.0M/68.2M [00:46<00:09,    1.44MB/s]\u001b[A\n",
      " 81%|████████  |/mnt/d/UChicago/Q4/ADSP 3255.2M/68.2M [00:47<00:09,    1.39MB/s]\u001b[A\n",
      " 81%|████████▏ |/mnt/d/UChicago/Q4/ADSP 3255.5M/68.2M [00:47<00:09,    1.37MB/s]\u001b[A\n",
      " 82%|████████▏ |/mnt/d/UChicago/Q4/ADSP 3255.7M/68.2M [00:47<00:09,    1.39MB/s]\u001b[A\n",
      " 82%|████████▏ |/mnt/d/UChicago/Q4/ADSP 3255.9M/68.2M [00:47<00:09,    1.34MB/s]\u001b[A\n",
      " 82%|████████▏ |/mnt/d/UChicago/Q4/ADSP 3256.2M/68.2M [00:47<00:09,    1.39MB/s]\u001b[A\n",
      " 83%|████████▎ |/mnt/d/UChicago/Q4/ADSP 3256.5M/68.2M [00:48<00:08,    1.42MB/s]\u001b[A\n",
      " 83%|████████▎ |/mnt/d/UChicago/Q4/ADSP 3256.7M/68.2M [00:48<00:08,    1.41MB/s]\u001b[A\n",
      " 83%|████████▎ |/mnt/d/UChicago/Q4/ADSP 3256.9M/68.2M [00:48<00:08,    1.41MB/s]\u001b[A\n",
      " 84%|████████▍ |/mnt/d/UChicago/Q4/ADSP 3257.2M/68.2M [00:48<00:08,    1.37MB/s]\u001b[A\n",
      " 84%|████████▍ |/mnt/d/UChicago/Q4/ADSP 3257.4M/68.2M [00:48<00:08,    1.39MB/s]\u001b[A\n",
      " 84%|████████▍ |/mnt/d/UChicago/Q4/ADSP 3257.6M/68.2M [00:48<00:07,    1.41MB/s]\u001b[A\n",
      " 85%|████████▍ |/mnt/d/UChicago/Q4/ADSP 3257.9M/68.2M [00:49<00:07,    1.44MB/s]\u001b[A\n",
      " 85%|████████▌ |/mnt/d/UChicago/Q4/ADSP 3258.1M/68.2M [00:49<00:07,    1.43MB/s]\u001b[A\n",
      " 86%|████████▌ |/mnt/d/UChicago/Q4/ADSP 3258.4M/68.2M [00:49<00:07,    1.45MB/s]\u001b[A\n",
      " 86%|████████▌ |/mnt/d/UChicago/Q4/ADSP 3258.6M/68.2M [00:49<00:07,    1.44MB/s]\u001b[A\n",
      " 86%|████████▌ |/mnt/d/UChicago/Q4/ADSP 3258.8M/68.2M [00:49<00:06,    1.45MB/s]\u001b[A\n",
      " 87%|████████▋ |/mnt/d/UChicago/Q4/ADSP 3259.1M/68.2M [00:49<00:06,    1.46MB/s]\u001b[A\n",
      " 87%|████████▋ |/mnt/d/UChicago/Q4/ADSP 3259.3M/68.2M [00:50<00:06,    1.46MB/s]\u001b[A\n",
      " 87%|████████▋ |/mnt/d/UChicago/Q4/ADSP 3259.5M/68.2M [00:50<00:06,    1.46MB/s]\u001b[A\n",
      " 88%|████████▊ |/mnt/d/UChicago/Q4/ADSP 3259.8M/68.2M [00:50<00:06,    1.47MB/s]\u001b[A\n",
      " 88%|████████▊ |/mnt/d/UChicago/Q4/ADSP 3260.0M/68.2M [00:50<00:06,    1.44MB/s]\u001b[A\n",
      " 88%|████████▊ |/mnt/d/UChicago/Q4/ADSP 3260.2M/68.2M [00:50<00:05,    1.45MB/s]\u001b[A\n",
      " 89%|████████▊ |/mnt/d/UChicago/Q4/ADSP 3260.5M/68.2M [00:50<00:05,    1.45MB/s]\u001b[A\n",
      " 89%|████████▉ |/mnt/d/UChicago/Q4/ADSP 3260.7M/68.2M [00:51<00:05,    1.46MB/s]\u001b[A\n",
      " 89%|████████▉ |/mnt/d/UChicago/Q4/ADSP 3260.9M/68.2M [00:51<00:05,    1.46MB/s]\u001b[A\n",
      " 90%|████████▉ |/mnt/d/UChicago/Q4/ADSP 3261.2M/68.2M [00:51<00:05,    1.46MB/s]\u001b[A\n",
      " 90%|████████▉ |/mnt/d/UChicago/Q4/ADSP 3261.4M/68.2M [00:51<00:04,    1.46MB/s]\u001b[A\n",
      " 90%|█████████ |/mnt/d/UChicago/Q4/ADSP 3261.6M/68.2M [00:51<00:04,    1.45MB/s]\u001b[A\n",
      " 91%|█████████ |/mnt/d/UChicago/Q4/ADSP 3261.9M/68.2M [00:52<00:04,    1.46MB/s]\u001b[A\n",
      " 91%|█████████ |/mnt/d/UChicago/Q4/ADSP 3262.1M/68.2M [00:52<00:04,    1.47MB/s]\u001b[A\n",
      " 91%|█████████▏|/mnt/d/UChicago/Q4/ADSP 3262.3M/68.2M [00:52<00:04,    1.47MB/s]\u001b[A\n",
      " 92%|█████████▏|/mnt/d/UChicago/Q4/ADSP 3262.6M/68.2M [00:52<00:04,    1.47MB/s]\u001b[A\n",
      " 92%|█████████▏|/mnt/d/UChicago/Q4/ADSP 3262.8M/68.2M [00:52<00:03,    1.46MB/s]\u001b[A\n",
      " 92%|█████████▏|/mnt/d/UChicago/Q4/ADSP 3263.0M/68.2M [00:52<00:03,    1.46MB/s]\u001b[A\n",
      " 93%|█████████▎|/mnt/d/UChicago/Q4/ADSP 3263.3M/68.2M [00:53<00:03,    1.47MB/s]\u001b[A\n",
      " 93%|█████████▎|/mnt/d/UChicago/Q4/ADSP 3263.5M/68.2M [00:53<00:03,    1.46MB/s]\u001b[A\n",
      " 93%|█████████▎|/mnt/d/UChicago/Q4/ADSP 3263.7M/68.2M [00:53<00:03,    1.46MB/s]\u001b[A\n",
      " 94%|█████████▍|/mnt/d/UChicago/Q4/ADSP 3264.0M/68.2M [00:53<00:03,    1.47MB/s]\u001b[A\n",
      " 94%|█████████▍|/mnt/d/UChicago/Q4/ADSP 3264.2M/68.2M [00:53<00:02,    1.43MB/s]\u001b[A\n",
      " 94%|█████████▍|/mnt/d/UChicago/Q4/ADSP 3264.4M/68.2M [00:53<00:02,    1.49MB/s]\u001b[A\n",
      " 95%|█████████▍|/mnt/d/UChicago/Q4/ADSP 3264.7M/68.2M [00:54<00:02,    1.49MB/s]\u001b[A\n",
      " 95%|█████████▌|/mnt/d/UChicago/Q4/ADSP 3264.9M/68.2M [00:54<00:02,    1.47MB/s]\u001b[A\n",
      " 95%|█████████▌|/mnt/d/UChicago/Q4/ADSP 3265.1M/68.2M [00:54<00:02,    1.47MB/s]\u001b[A\n",
      " 96%|█████████▌|/mnt/d/UChicago/Q4/ADSP 3265.4M/68.2M [00:54<00:02,    1.47MB/s]\u001b[A\n",
      " 96%|█████████▌|/mnt/d/UChicago/Q4/ADSP 3265.6M/68.2M [00:54<00:01,    1.46MB/s]\u001b[A\n",
      " 97%|█████████▋|/mnt/d/UChicago/Q4/ADSP 3265.9M/68.2M [00:54<00:01,    1.47MB/s]\u001b[A\n",
      " 97%|█████████▋|/mnt/d/UChicago/Q4/ADSP 3266.1M/68.2M [00:55<00:01,    1.46MB/s]\u001b[A\n",
      " 97%|█████████▋|/mnt/d/UChicago/Q4/ADSP 3266.3M/68.2M [00:55<00:01,    1.46MB/s]\u001b[A\n",
      " 98%|█████████▊|/mnt/d/UChicago/Q4/ADSP 3266.6M/68.2M [00:55<00:01,    1.48MB/s]\u001b[A\n",
      " 98%|█████████▊|/mnt/d/UChicago/Q4/ADSP 3266.8M/68.2M [00:55<00:01,    1.42MB/s]\u001b[A\n",
      " 98%|█████████▊|/mnt/d/UChicago/Q4/ADSP 3267.1M/68.2M [00:55<00:00,    1.50MB/s]\u001b[A\n",
      " 99%|█████████▊|/mnt/d/UChicago/Q4/ADSP 3267.3M/68.2M [00:55<00:00,    1.46MB/s]\u001b[A\n",
      " 99%|█████████▉|/mnt/d/UChicago/Q4/ADSP 3267.5M/68.2M [00:56<00:00,    1.49MB/s]\u001b[A\n",
      " 99%|█████████▉|/mnt/d/UChicago/Q4/ADSP 3267.8M/68.2M [00:56<00:00,    1.48MB/s]\u001b[A\n",
      "100% Pushing to gdrive://1i8QDLTjDwMzeznRjHizajHFaEFA3O17U/files/md5|█|1/1 [00:5\u001b[A\n",
      "1 file pushed                                                                   \u001b[A\n",
      "\u001b[0m"
     ]
    }
   ],
   "source": [
    "# push the raw data\n",
    "\n",
    "!git commit -m \"add raw athletes.csv\"\n",
    "!cat data/athletes.csv.dvc\n",
    "!dvc push"
   ]
  },
  {
   "cell_type": "markdown",
   "id": "fc6906d5-1ac1-438f-b727-9020608b74fd",
   "metadata": {},
   "source": [
    "# 1. Dataset Version 1"
   ]
  },
  {
   "cell_type": "code",
   "execution_count": 113,
   "id": "c3f8733e-7877-4fc8-ac0d-b76f70bf4f2f",
   "metadata": {
    "tags": []
   },
   "outputs": [
    {
     "data": {
      "text/plain": [
       "(423006, 27)"
      ]
     },
     "execution_count": 113,
     "metadata": {},
     "output_type": "execute_result"
    }
   ],
   "source": [
    "data = pd.read_csv(\"data/athletes.csv\")\n",
    "data.shape"
   ]
  },
  {
   "cell_type": "markdown",
   "id": "dc3ffcc0-d35e-4c2f-b6de-b1df1f25d090",
   "metadata": {},
   "source": [
    "## 1.1 Remove Irrelevant Columns and Missing Values"
   ]
  },
  {
   "cell_type": "code",
   "execution_count": 114,
   "id": "7b3b4488-65d4-45a7-9412-a65c2e22ec75",
   "metadata": {
    "tags": []
   },
   "outputs": [],
   "source": [
    "data = data.dropna(subset=['region','age','weight','height','howlong','gender','eat', \\\n",
    "                           'train','background','experience','schedule','howlong', \\\n",
    "                           'deadlift','candj','snatch','backsq','experience',\\\n",
    "                           'background','schedule','howlong'])\n",
    "\n",
    "data = data.drop(columns=['affiliate','team','name','athlete_id','fran','helen','grace',\\\n",
    "                          'filthy50','fgonebad','run400','run5k','pullups','train',\\\n",
    "                         \"eat\", \"background\", \"experience\", \"schedule\", \"howlong\"])"
   ]
  },
  {
   "cell_type": "code",
   "execution_count": 116,
   "id": "86e81530-323b-45c2-8d1c-1c6e0c661d29",
   "metadata": {
    "tags": []
   },
   "outputs": [
    {
     "data": {
      "text/html": [
       "<div>\n",
       "<style scoped>\n",
       "    .dataframe tbody tr th:only-of-type {\n",
       "        vertical-align: middle;\n",
       "    }\n",
       "\n",
       "    .dataframe tbody tr th {\n",
       "        vertical-align: top;\n",
       "    }\n",
       "\n",
       "    .dataframe thead th {\n",
       "        text-align: right;\n",
       "    }\n",
       "</style>\n",
       "<table border=\"1\" class=\"dataframe\">\n",
       "  <thead>\n",
       "    <tr style=\"text-align: right;\">\n",
       "      <th></th>\n",
       "      <th>region</th>\n",
       "      <th>gender</th>\n",
       "      <th>age</th>\n",
       "      <th>height</th>\n",
       "      <th>weight</th>\n",
       "      <th>candj</th>\n",
       "      <th>snatch</th>\n",
       "      <th>deadlift</th>\n",
       "      <th>backsq</th>\n",
       "    </tr>\n",
       "  </thead>\n",
       "  <tbody>\n",
       "    <tr>\n",
       "      <th>6</th>\n",
       "      <td>South Central</td>\n",
       "      <td>Male</td>\n",
       "      <td>21.0</td>\n",
       "      <td>72.0</td>\n",
       "      <td>175.0</td>\n",
       "      <td>0.0</td>\n",
       "      <td>0.0</td>\n",
       "      <td>0.0</td>\n",
       "      <td>0.0</td>\n",
       "    </tr>\n",
       "  </tbody>\n",
       "</table>\n",
       "</div>"
      ],
      "text/plain": [
       "          region gender   age  height  weight  candj  snatch  deadlift  backsq\n",
       "6  South Central   Male  21.0    72.0   175.0    0.0     0.0       0.0     0.0"
      ]
     },
     "execution_count": 116,
     "metadata": {},
     "output_type": "execute_result"
    }
   ],
   "source": [
    "data.head(1)"
   ]
  },
  {
   "cell_type": "markdown",
   "id": "a75998a0-a7dd-4fc1-95cb-d8e334ce171c",
   "metadata": {},
   "source": [
    "## 1.2 Encode Categorical Variables"
   ]
  },
  {
   "cell_type": "code",
   "execution_count": 117,
   "id": "39672f2f-425a-460b-b044-99d8f6306633",
   "metadata": {
    "tags": []
   },
   "outputs": [],
   "source": [
    "data[\"is_male\"] = (data[\"gender\"] == \"Male\") * 1"
   ]
  },
  {
   "cell_type": "code",
   "execution_count": 118,
   "id": "81ff91ef-4241-4470-bf1d-3b0b3bdf136f",
   "metadata": {
    "tags": []
   },
   "outputs": [],
   "source": [
    "data = pd.get_dummies(data, prefix = [\"region\"], columns = [\"region\"], dummy_na = True)"
   ]
  },
  {
   "cell_type": "code",
   "execution_count": 119,
   "id": "fe20f2a5-69d6-4825-bfae-986ebf541fe5",
   "metadata": {
    "tags": []
   },
   "outputs": [
    {
     "data": {
      "text/html": [
       "<div>\n",
       "<style scoped>\n",
       "    .dataframe tbody tr th:only-of-type {\n",
       "        vertical-align: middle;\n",
       "    }\n",
       "\n",
       "    .dataframe tbody tr th {\n",
       "        vertical-align: top;\n",
       "    }\n",
       "\n",
       "    .dataframe thead th {\n",
       "        text-align: right;\n",
       "    }\n",
       "</style>\n",
       "<table border=\"1\" class=\"dataframe\">\n",
       "  <thead>\n",
       "    <tr style=\"text-align: right;\">\n",
       "      <th></th>\n",
       "      <th>age</th>\n",
       "      <th>height</th>\n",
       "      <th>weight</th>\n",
       "      <th>candj</th>\n",
       "      <th>snatch</th>\n",
       "      <th>deadlift</th>\n",
       "      <th>backsq</th>\n",
       "      <th>is_male</th>\n",
       "      <th>region_Africa</th>\n",
       "      <th>region_Asia</th>\n",
       "      <th>...</th>\n",
       "      <th>region_Mid Atlantic</th>\n",
       "      <th>region_North Central</th>\n",
       "      <th>region_North East</th>\n",
       "      <th>region_North West</th>\n",
       "      <th>region_Northern California</th>\n",
       "      <th>region_South Central</th>\n",
       "      <th>region_South East</th>\n",
       "      <th>region_South West</th>\n",
       "      <th>region_Southern California</th>\n",
       "      <th>region_nan</th>\n",
       "    </tr>\n",
       "  </thead>\n",
       "  <tbody>\n",
       "    <tr>\n",
       "      <th>6</th>\n",
       "      <td>21.0</td>\n",
       "      <td>72.0</td>\n",
       "      <td>175.0</td>\n",
       "      <td>0.0</td>\n",
       "      <td>0.0</td>\n",
       "      <td>0.0</td>\n",
       "      <td>0.0</td>\n",
       "      <td>1</td>\n",
       "      <td>False</td>\n",
       "      <td>False</td>\n",
       "      <td>...</td>\n",
       "      <td>False</td>\n",
       "      <td>False</td>\n",
       "      <td>False</td>\n",
       "      <td>False</td>\n",
       "      <td>False</td>\n",
       "      <td>True</td>\n",
       "      <td>False</td>\n",
       "      <td>False</td>\n",
       "      <td>False</td>\n",
       "      <td>False</td>\n",
       "    </tr>\n",
       "  </tbody>\n",
       "</table>\n",
       "<p>1 rows × 26 columns</p>\n",
       "</div>"
      ],
      "text/plain": [
       "    age  height  weight  candj  snatch  deadlift  backsq  is_male  \\\n",
       "6  21.0    72.0   175.0    0.0     0.0       0.0     0.0        1   \n",
       "\n",
       "   region_Africa  region_Asia  ...  region_Mid Atlantic  region_North Central  \\\n",
       "6          False        False  ...                False                 False   \n",
       "\n",
       "   region_North East  region_North West  region_Northern California  \\\n",
       "6              False              False                       False   \n",
       "\n",
       "   region_South Central  region_South East  region_South West  \\\n",
       "6                  True              False              False   \n",
       "\n",
       "   region_Southern California  region_nan  \n",
       "6                       False       False  \n",
       "\n",
       "[1 rows x 26 columns]"
      ]
     },
     "execution_count": 119,
     "metadata": {},
     "output_type": "execute_result"
    }
   ],
   "source": [
    "data = data.drop(columns=['gender'])\n",
    "\n",
    "data.head(1)"
   ]
  },
  {
   "cell_type": "markdown",
   "id": "6ffc41b2-9413-4ec5-b127-808dd3281a0c",
   "metadata": {},
   "source": [
    "#### Push Data V1 to Google Storage"
   ]
  },
  {
   "cell_type": "code",
   "execution_count": 120,
   "id": "074fdf4d-d77b-4d03-968e-e18b953af435",
   "metadata": {
    "tags": []
   },
   "outputs": [
    {
     "name": "stdout",
     "output_type": "stream",
     "text": [
      "total 17M\n",
      "-rwxrwxrwx 1 mariafshan mariafshan 4.6M Oct 16 19:10 athletes.csv\n",
      "-rwxrwxrwx 1 mariafshan mariafshan  111 Oct 16 19:08 athletes.csv.dvc\n",
      "-rwxrwxrwx 1 mariafshan mariafshan  13M Oct 16 13:43 athletes.csv.zip\n"
     ]
    }
   ],
   "source": [
    "data.to_csv(\"data/athletes.csv\", index=False)\n",
    "\n",
    "!ls -lh data"
   ]
  },
  {
   "cell_type": "code",
   "execution_count": 121,
   "id": "8dec3540-69f9-4ad2-a100-0069ab562de6",
   "metadata": {
    "collapsed": true,
    "jupyter": {
     "outputs_hidden": true
    },
    "tags": []
   },
   "outputs": [
    {
     "name": "stdout",
     "output_type": "stream",
     "text": [
      "\u001b[?25l\u001b[32m⠋\u001b[0m Checking graph                                       core\u001b[39m>\n",
      "Adding...                                                                       \n",
      "!\u001b[A\n",
      "Collecting files and computing hashes in data/athletes.csv |0.00 [00:00,     ?fi\u001b[A\n",
      "                                                                                \u001b[A\n",
      "!\u001b[A\n",
      "  0% Checking cache in '/mnt/d/UChicago/Q4/ADSP 32021 Machine Learning Operation\u001b[A\n",
      "                                                                                \u001b[A\n",
      "!\u001b[A\n",
      "  0%|          |Adding data/athletes.csv to cache     0/? [00:00<?,     ?file/s]\u001b[A\n",
      "  0%|          |Adding data/athletes.csv to cache     0/1 [00:00<?,     ?file/s]\u001b[A\n",
      "  0%|          |Adding data/athletes.csv to cache     0/1 [00:00<?,     ?file/s]\u001b[A\n",
      "                                                                                \u001b[A\n",
      "!\u001b[A\n",
      "  0%|          |Checking out /mnt/d/UChicago/Q4/ADSP 30/? [00:00<?,    ?files/s]\u001b[A\n",
      "  0%|          |Checking out /mnt/d/UChicago/Q4/ADSP 30/1 [00:00<?,    ?files/s]\u001b[A\n",
      "100%|██████████|Checking out /mnt/d/UChicago/Q4/A1/1 [00:00<00:00,  8.03files/s]\u001b[A\n",
      "100% Adding...|████████████████████████████████████████|1/1 [00:00,  1.89file/s]\u001b[A\n",
      "\n",
      "To track the changes with git, run:\n",
      "\n",
      "\tgit add data/athletes.csv.dvc\n",
      "\n",
      "To enable auto staging, run:\n",
      "\n",
      "\tdvc config core.autostage true\n",
      "\u001b[0m[master 581879d] Data V1: removed irrelevant columns and encoded categorical variables\n",
      " 1 file changed, 2 insertions(+), 2 deletions(-)\n",
      "  0% Pushing to gdrive://1i8QDLTjDwMzeznRjHizajHFaEFA3O17U/files/md5| |0/1 [00:0\n",
      "!\u001b[A\n",
      "  0%|          |/mnt/d/UChicago/Q4/ADSP 32021 Machi0.00/? [00:00<?,        ?B/s]\u001b[A\n",
      "  0%|          |/mnt/d/UChicago/Q4/ADSP 32021 M0.00/4.56M [00:00<?,        ?B/s]\u001b[A\n",
      "  0%|          |/mnt/d/UChicago/Q4/ADSP 328.00k/4.56M [00:01<16:39,    4.78kB/s]\u001b[A\n",
      "  9%|▊         |/mnt/d/UChicago/Q4/ADSP 320408k/4.56M [00:01<00:13,     312kB/s]\u001b[A\n",
      " 13%|█▎        |/mnt/d/UChicago/Q4/ADSP 320584k/4.56M [00:01<00:09,     453kB/s]\u001b[A\n",
      " 16%|█▋        |/mnt/d/UChicago/Q4/ADSP 320768k/4.56M [00:02<00:06,     622kB/s]\u001b[A\n",
      " 20%|██        |/mnt/d/UChicago/Q4/ADSP 320944k/4.56M [00:02<00:04,     789kB/s]\u001b[A\n",
      " 24%|██▍       |/mnt/d/UChicago/Q4/ADSP 321.10M/4.56M [00:02<00:03,     943kB/s]\u001b[A\n",
      " 29%|██▉       |/mnt/d/UChicago/Q4/ADSP 321.34M/4.56M [00:02<00:03,    1.08MB/s]\u001b[A\n",
      " 34%|███▍      |/mnt/d/UChicago/Q4/ADSP 321.57M/4.56M [00:02<00:02,    1.20MB/s]\u001b[A\n",
      " 40%|███▉      |/mnt/d/UChicago/Q4/ADSP 321.80M/4.56M [00:02<00:02,    1.28MB/s]\u001b[A\n",
      " 45%|████▍     |/mnt/d/UChicago/Q4/ADSP 322.04M/4.56M [00:02<00:01,    1.34MB/s]\u001b[A\n",
      " 50%|████▉     |/mnt/d/UChicago/Q4/ADSP 322.27M/4.56M [00:03<00:01,    1.38MB/s]\u001b[A\n",
      " 54%|█████▎    |/mnt/d/UChicago/Q4/ADSP 322.45M/4.56M [00:03<00:01,    1.38MB/s]\u001b[A\n",
      " 59%|█████▉    |/mnt/d/UChicago/Q4/ADSP 322.68M/4.56M [00:03<00:01,    1.40MB/s]\u001b[A\n",
      " 63%|██████▎   |/mnt/d/UChicago/Q4/ADSP 322.86M/4.56M [00:03<00:01,    1.42MB/s]\u001b[A\n",
      " 66%|██████▋   |/mnt/d/UChicago/Q4/ADSP 323.03M/4.56M [00:03<00:01,    1.42MB/s]\u001b[A\n",
      " 72%|███████▏  |/mnt/d/UChicago/Q4/ADSP 323.27M/4.56M [00:03<00:00,    1.43MB/s]\u001b[A\n",
      " 77%|███████▋  |/mnt/d/UChicago/Q4/ADSP 323.50M/4.56M [00:04<00:00,    1.45MB/s]\u001b[A\n",
      " 81%|████████  |/mnt/d/UChicago/Q4/ADSP 323.68M/4.56M [00:04<00:00,    1.47MB/s]\u001b[A\n",
      " 84%|████████▍ |/mnt/d/UChicago/Q4/ADSP 323.85M/4.56M [00:04<00:00,    1.45MB/s]\u001b[A\n",
      " 90%|████████▉ |/mnt/d/UChicago/Q4/ADSP 324.09M/4.56M [00:04<00:00,    1.45MB/s]\u001b[A\n",
      " 94%|█████████▎|/mnt/d/UChicago/Q4/ADSP 324.27M/4.56M [00:04<00:00,    1.45MB/s]\u001b[A\n",
      "100% Pushing to gdrive://1i8QDLTjDwMzeznRjHizajHFaEFA3O17U/files/md5|█|1/1 [00:0\u001b[A\n",
      "1 file pushed                                                                   \u001b[A\n",
      "\u001b[0m"
     ]
    }
   ],
   "source": [
    "# push updated file\n",
    "!dvc add data/athletes.csv\n",
    "!git add data/athletes.csv.dvc\n",
    "!git commit -m \"Data V1: removed irrelevant columns and encoded categorical variables\"\n",
    "!dvc push"
   ]
  },
  {
   "cell_type": "code",
   "execution_count": 123,
   "id": "d5c19eed-2395-4244-a792-ad237f44b2d5",
   "metadata": {
    "tags": []
   },
   "outputs": [
    {
     "name": "stdout",
     "output_type": "stream",
     "text": [
      "\u001b[33m581879d\u001b[m\u001b[33m (\u001b[m\u001b[1;36mHEAD -> \u001b[m\u001b[1;32mmaster\u001b[m\u001b[33m)\u001b[m Data V1: removed irrelevant columns and encoded categorical variables\n",
      "\u001b[33m18eacf2\u001b[m add raw athletes.csv\n",
      "\u001b[33me890107\u001b[m Configure remote storage\n"
     ]
    }
   ],
   "source": [
    "!git log --oneline"
   ]
  },
  {
   "cell_type": "markdown",
   "id": "53f2d24d-d62d-4f17-80fd-ca76d55c73a6",
   "metadata": {},
   "source": [
    "# 2. Dataset Version 2"
   ]
  },
  {
   "cell_type": "markdown",
   "id": "4da8f6ec-2809-4774-827b-638a79aea7b2",
   "metadata": {},
   "source": [
    "## 2.1. Remove Outliers"
   ]
  },
  {
   "cell_type": "code",
   "execution_count": 129,
   "id": "4e008e80-74e6-4494-ad2d-94a9d098a0e1",
   "metadata": {
    "tags": []
   },
   "outputs": [],
   "source": [
    "data = data[data['weight'] < 1500]\n",
    "# data = data[data['gender'] != '--']\n",
    "data = data[data['age'] >= 18]\n",
    "data = data[(data['height'] < 96) & (data['height'] > 48)]"
   ]
  },
  {
   "cell_type": "code",
   "execution_count": 130,
   "id": "caf9dce0-6f85-42df-9894-4993e5327bbb",
   "metadata": {
    "tags": []
   },
   "outputs": [],
   "source": [
    "data = data[(data['deadlift'] > 0) & (data['deadlift'] <= 1105)|((data['is_male'] == 0) \\\n",
    "             & (data['deadlift'] <= 636))]\n",
    "data = data[(data['candj'] > 0) & (data['candj'] <= 395)]\n",
    "data = data[(data['snatch'] > 0) & (data['snatch'] <= 496)]\n",
    "data = data[(data['backsq'] > 0) & (data['backsq'] <= 1069)]"
   ]
  },
  {
   "cell_type": "markdown",
   "id": "23aba59d-0a18-469d-b2e7-5506d1b5ed4e",
   "metadata": {},
   "source": [
    "## 2.3. Clean Survey Responses"
   ]
  },
  {
   "cell_type": "code",
   "execution_count": 61,
   "id": "f69b6768-5764-4849-bcc5-aa92242c0626",
   "metadata": {},
   "outputs": [],
   "source": [
    "# decline_dict = {'Decline to answer|': np.nan}\n",
    "# data = data.replace(decline_dict)\n",
    "# data = data.dropna(subset=['background','experience','schedule','howlong','eat'])\n",
    "# data.shape"
   ]
  },
  {
   "cell_type": "code",
   "execution_count": 131,
   "id": "6a5c0036-ca56-43eb-bd21-29daaa30e965",
   "metadata": {},
   "outputs": [
    {
     "data": {
      "text/html": [
       "<div>\n",
       "<style scoped>\n",
       "    .dataframe tbody tr th:only-of-type {\n",
       "        vertical-align: middle;\n",
       "    }\n",
       "\n",
       "    .dataframe tbody tr th {\n",
       "        vertical-align: top;\n",
       "    }\n",
       "\n",
       "    .dataframe thead th {\n",
       "        text-align: right;\n",
       "    }\n",
       "</style>\n",
       "<table border=\"1\" class=\"dataframe\">\n",
       "  <thead>\n",
       "    <tr style=\"text-align: right;\">\n",
       "      <th></th>\n",
       "      <th>age</th>\n",
       "      <th>height</th>\n",
       "      <th>weight</th>\n",
       "      <th>candj</th>\n",
       "      <th>snatch</th>\n",
       "      <th>deadlift</th>\n",
       "      <th>backsq</th>\n",
       "      <th>is_male</th>\n",
       "      <th>region_Africa</th>\n",
       "      <th>region_Asia</th>\n",
       "      <th>...</th>\n",
       "      <th>region_Mid Atlantic</th>\n",
       "      <th>region_North Central</th>\n",
       "      <th>region_North East</th>\n",
       "      <th>region_North West</th>\n",
       "      <th>region_Northern California</th>\n",
       "      <th>region_South Central</th>\n",
       "      <th>region_South East</th>\n",
       "      <th>region_South West</th>\n",
       "      <th>region_Southern California</th>\n",
       "      <th>region_nan</th>\n",
       "    </tr>\n",
       "  </thead>\n",
       "  <tbody>\n",
       "    <tr>\n",
       "      <th>21</th>\n",
       "      <td>30.0</td>\n",
       "      <td>71.0</td>\n",
       "      <td>200.0</td>\n",
       "      <td>235.0</td>\n",
       "      <td>175.0</td>\n",
       "      <td>385.0</td>\n",
       "      <td>315.0</td>\n",
       "      <td>1</td>\n",
       "      <td>False</td>\n",
       "      <td>False</td>\n",
       "      <td>...</td>\n",
       "      <td>False</td>\n",
       "      <td>False</td>\n",
       "      <td>False</td>\n",
       "      <td>False</td>\n",
       "      <td>False</td>\n",
       "      <td>False</td>\n",
       "      <td>False</td>\n",
       "      <td>False</td>\n",
       "      <td>True</td>\n",
       "      <td>False</td>\n",
       "    </tr>\n",
       "  </tbody>\n",
       "</table>\n",
       "<p>1 rows × 26 columns</p>\n",
       "</div>"
      ],
      "text/plain": [
       "     age  height  weight  candj  snatch  deadlift  backsq  is_male  \\\n",
       "21  30.0    71.0   200.0  235.0   175.0     385.0   315.0        1   \n",
       "\n",
       "    region_Africa  region_Asia  ...  region_Mid Atlantic  \\\n",
       "21          False        False  ...                False   \n",
       "\n",
       "    region_North Central  region_North East  region_North West  \\\n",
       "21                 False              False              False   \n",
       "\n",
       "    region_Northern California  region_South Central  region_South East  \\\n",
       "21                       False                 False              False   \n",
       "\n",
       "    region_South West  region_Southern California  region_nan  \n",
       "21              False                        True       False  \n",
       "\n",
       "[1 rows x 26 columns]"
      ]
     },
     "execution_count": 131,
     "metadata": {},
     "output_type": "execute_result"
    }
   ],
   "source": [
    "data.head(1)"
   ]
  },
  {
   "cell_type": "code",
   "execution_count": 132,
   "id": "6a4be973-d9de-406e-bafd-f065185b99d8",
   "metadata": {
    "tags": []
   },
   "outputs": [
    {
     "data": {
      "text/plain": [
       "(30848, 26)"
      ]
     },
     "execution_count": 132,
     "metadata": {},
     "output_type": "execute_result"
    }
   ],
   "source": [
    "data.shape"
   ]
  },
  {
   "cell_type": "markdown",
   "id": "57b83f5c-c29a-49b7-898d-72cde6844cb8",
   "metadata": {},
   "source": [
    "### Save Data V.2 & Push to Cloud Storage"
   ]
  },
  {
   "cell_type": "code",
   "execution_count": 133,
   "id": "ad560c52-b56b-41d2-bc1c-bcff3f3b7be7",
   "metadata": {},
   "outputs": [],
   "source": [
    "data.to_csv(\"data/athletes.csv\", index=False)"
   ]
  },
  {
   "cell_type": "code",
   "execution_count": 134,
   "id": "4b116451-065f-46e9-b4d5-19b5a9b28dd1",
   "metadata": {},
   "outputs": [
    {
     "name": "stdout",
     "output_type": "stream",
     "text": [
      "total 17M\n",
      "-rwxrwxrwx 1 mariafshan mariafshan 4.4M Oct 16 19:14 athletes.csv\n",
      "-rwxrwxrwx 1 mariafshan mariafshan  110 Oct 16 19:11 athletes.csv.dvc\n",
      "-rwxrwxrwx 1 mariafshan mariafshan  13M Oct 16 13:43 athletes.csv.zip\n"
     ]
    }
   ],
   "source": [
    "# checking that the file is updated\n",
    "!ls -lh data"
   ]
  },
  {
   "cell_type": "code",
   "execution_count": 135,
   "id": "a46a28c6-cc4c-44d3-bf71-22c7ac17196a",
   "metadata": {
    "collapsed": true,
    "jupyter": {
     "outputs_hidden": true
    },
    "tags": []
   },
   "outputs": [
    {
     "name": "stdout",
     "output_type": "stream",
     "text": [
      "\u001b[?25l\u001b[32m⠋\u001b[0m Checking graph                                       core\u001b[39m>\n",
      "Adding...                                                                       \n",
      "!\u001b[A\n",
      "Collecting files and computing hashes in data/athletes.csv |0.00 [00:00,     ?fi\u001b[A\n",
      "                                                                                \u001b[A\n",
      "!\u001b[A\n",
      "  0% Checking cache in '/mnt/d/UChicago/Q4/ADSP 32021 Machine Learning Operation\u001b[A\n",
      "                                                                                \u001b[A\n",
      "!\u001b[A\n",
      "  0%|          |Adding data/athletes.csv to cache     0/? [00:00<?,     ?file/s]\u001b[A\n",
      "  0%|          |Adding data/athletes.csv to cache     0/1 [00:00<?,     ?file/s]\u001b[A\n",
      "  0%|          |Adding data/athletes.csv to cache     0/1 [00:00<?,     ?file/s]\u001b[A\n",
      "                                                                                \u001b[A\n",
      "!\u001b[A\n",
      "  0%|          |Checking out /mnt/d/UChicago/Q4/ADSP 30/? [00:00<?,    ?files/s]\u001b[A\n",
      "  0%|          |Checking out /mnt/d/UChicago/Q4/ADSP 30/1 [00:00<?,    ?files/s]\u001b[A\n",
      "100%|██████████|Checking out /mnt/d/UChicago/Q4/A1/1 [00:00<00:00,  7.56files/s]\u001b[A\n",
      "100% Adding...|████████████████████████████████████████|1/1 [00:00,  1.62file/s]\u001b[A\n",
      "\n",
      "To track the changes with git, run:\n",
      "\n",
      "\tgit add data/athletes.csv.dvc\n",
      "\n",
      "To enable auto staging, run:\n",
      "\n",
      "\tdvc config core.autostage true\n",
      "\u001b[0m[master 3b2451b] Data V2: removed outliers\n",
      " 1 file changed, 2 insertions(+), 2 deletions(-)\n",
      "  0% Pushing to gdrive://1i8QDLTjDwMzeznRjHizajHFaEFA3O17U/files/md5| |0/1 [00:0\n",
      "!\u001b[A\n",
      "  0%|          |/mnt/d/UChicago/Q4/ADSP 32021 Machi0.00/? [00:00<?,        ?B/s]\u001b[A\n",
      "  0%|          |/mnt/d/UChicago/Q4/ADSP 32021 M0.00/4.38M [00:00<?,        ?B/s]\u001b[A\n",
      "  0%|          |/mnt/d/UChicago/Q4/ADSP 328.00k/4.38M [00:01<18:23,    4.15kB/s]\u001b[A\n",
      "  9%|▉         |/mnt/d/UChicago/Q4/ADSP 320408k/4.38M [00:02<00:15,     273kB/s]\u001b[A\n",
      " 16%|█▌        |/mnt/d/UChicago/Q4/ADSP 320712k/4.38M [00:02<00:07,     483kB/s]\u001b[A\n",
      " 20%|█▉        |/mnt/d/UChicago/Q4/ADSP 320888k/4.38M [00:02<00:05,     614kB/s]\u001b[A\n",
      " 24%|██▍       |/mnt/d/UChicago/Q4/ADSP 321.05M/4.38M [00:02<00:04,     771kB/s]\u001b[A\n",
      " 28%|██▊       |/mnt/d/UChicago/Q4/ADSP 321.22M/4.38M [00:02<00:03,     872kB/s]\u001b[A\n",
      " 33%|███▎      |/mnt/d/UChicago/Q4/ADSP 321.45M/4.38M [00:02<00:02,    1.09MB/s]\u001b[A\n",
      " 39%|███▊      |/mnt/d/UChicago/Q4/ADSP 321.69M/4.38M [00:02<00:02,    1.18MB/s]\u001b[A\n",
      " 44%|████▍     |/mnt/d/UChicago/Q4/ADSP 321.92M/4.38M [00:03<00:02,    1.27MB/s]\u001b[A\n",
      " 49%|████▉     |/mnt/d/UChicago/Q4/ADSP 322.16M/4.38M [00:03<00:01,    1.33MB/s]\u001b[A\n",
      " 55%|█████▍    |/mnt/d/UChicago/Q4/ADSP 322.39M/4.38M [00:03<00:01,    1.36MB/s]\u001b[A\n",
      " 60%|█████▉    |/mnt/d/UChicago/Q4/ADSP 322.62M/4.38M [00:03<00:01,    1.38MB/s]\u001b[A\n",
      " 65%|██████▌   |/mnt/d/UChicago/Q4/ADSP 322.86M/4.38M [00:03<00:01,    1.42MB/s]\u001b[A\n",
      " 71%|███████   |/mnt/d/UChicago/Q4/ADSP 323.09M/4.38M [00:03<00:00,    1.42MB/s]\u001b[A\n",
      " 76%|███████▌  |/mnt/d/UChicago/Q4/ADSP 323.33M/4.38M [00:04<00:00,    1.40MB/s]\u001b[A\n",
      " 81%|████████▏ |/mnt/d/UChicago/Q4/ADSP 323.56M/4.38M [00:04<00:00,    1.46MB/s]\u001b[A\n",
      " 87%|████████▋ |/mnt/d/UChicago/Q4/ADSP 323.80M/4.38M [00:04<00:00,    1.45MB/s]\u001b[A\n",
      " 92%|█████████▏|/mnt/d/UChicago/Q4/ADSP 324.03M/4.38M [00:04<00:00,    1.45MB/s]\u001b[A\n",
      "100% Pushing to gdrive://1i8QDLTjDwMzeznRjHizajHFaEFA3O17U/files/md5|█|1/1 [00:0\u001b[A\n",
      "1 file pushed                                                                   \u001b[A\n",
      "\u001b[0m"
     ]
    }
   ],
   "source": [
    "# # remove tracker to update file\n",
    "# !git rm -r --cached 'data/athletes.csv'\n",
    "# !git commit -m \"stop tracking data/athletes.csv\"\n",
    "\n",
    "# push updated file\n",
    "!dvc add data/athletes.csv\n",
    "!git add data/athletes.csv.dvc\n",
    "!git commit -m \"Data V2: removed outliers\"\n",
    "!dvc push"
   ]
  },
  {
   "cell_type": "markdown",
   "id": "de09de70-66b9-43f0-8430-6b2693f0999b",
   "metadata": {},
   "source": [
    "# 3. For both versions calculate total_lift and divide dataset into train and test, keeping the same split ratio."
   ]
  },
  {
   "cell_type": "markdown",
   "id": "8622d5cb-2913-43da-ae50-27b466c4d63a",
   "metadata": {},
   "source": [
    "## 3.1 total_lift for V1"
   ]
  },
  {
   "cell_type": "markdown",
   "id": "ca379edf-22e1-4b28-a98d-5e9e495be584",
   "metadata": {},
   "source": [
    "### 3.1.1 Load V1 data"
   ]
  },
  {
   "cell_type": "code",
   "execution_count": 136,
   "id": "70e0dbc5-3d41-4ea2-9dd6-fb9d1f7f3158",
   "metadata": {},
   "outputs": [
    {
     "name": "stdout",
     "output_type": "stream",
     "text": [
      "\u001b[33m3b2451b\u001b[m\u001b[33m (\u001b[m\u001b[1;36mHEAD -> \u001b[m\u001b[1;32mmaster\u001b[m\u001b[33m)\u001b[m Data V2: removed outliers\n",
      "\u001b[33m581879d\u001b[m Data V1: removed irrelevant columns and encoded categorical variables\n",
      "\u001b[33m18eacf2\u001b[m add raw athletes.csv\n",
      "\u001b[33me890107\u001b[m Configure remote storage\n"
     ]
    }
   ],
   "source": [
    "!git log --oneline"
   ]
  },
  {
   "cell_type": "code",
   "execution_count": 137,
   "id": "07b1e81d-9ffe-46bd-acd1-1cfc3f9fdee9",
   "metadata": {},
   "outputs": [
    {
     "name": "stdout",
     "output_type": "stream",
     "text": [
      "Updated 1 path from aa2fa08\n",
      "Building workspace index                              |2.00 [00:00, 71.4entry/s]\n",
      "Comparing indexes                                     |3.00 [00:00,  997entry/s]\n",
      "Applying changes                                      |0.00 [00:00,     ?file/s]\n",
      "!\u001b[A\n",
      "  0%|          |/mnt/d/UChicago/Q4/ADSP 32021 Machi0.00/? [00:00<?,        ?B/s]\u001b[A\n",
      "  0%|          |/mnt/d/UChicago/Q4/ADSP 32021 M0.00/4.56M [00:00<?,        ?B/s]\u001b[A\n",
      "Applying changes                                      |1.00 [00:00,  8.60file/s]\u001b[A\n",
      "\u001b[33mM\u001b[0m       data/athletes.csv\n",
      "\u001b[0m"
     ]
    }
   ],
   "source": [
    "# !git checkout HEAD^1 data/athletes.csv.dvc\n",
    "\n",
    "!git checkout 581879d data/athletes.csv.dvc\n",
    "!dvc checkout"
   ]
  },
  {
   "cell_type": "code",
   "execution_count": 138,
   "id": "b0f0212a-1062-43d8-950f-5b0b8b6fe02f",
   "metadata": {},
   "outputs": [
    {
     "name": "stdout",
     "output_type": "stream",
     "text": [
      "v1 dimension: (32172, 26)\n",
      "v2 dimension: (30848, 26)\n"
     ]
    }
   ],
   "source": [
    "v1 = pd.read_csv(\"data/athletes.csv\")\n",
    "print(\"v1 dimension:\", v1.shape)\n",
    "print(\"v2 dimension:\", data.shape)"
   ]
  },
  {
   "cell_type": "markdown",
   "id": "a50db60b-2ba7-4660-8f05-2b1498400bce",
   "metadata": {},
   "source": [
    "### 3.1.2 Calculate Total Lift for Data V1"
   ]
  },
  {
   "cell_type": "code",
   "execution_count": 139,
   "id": "4577eb05-f8c8-40d0-97d9-09d2c661f542",
   "metadata": {
    "tags": []
   },
   "outputs": [],
   "source": [
    "v1[\"total_lift\"] = v1[\"deadlift\"] + v1['candj'] + v1['snatch'] + v1['backsq']"
   ]
  },
  {
   "cell_type": "code",
   "execution_count": 140,
   "id": "cb08c56b-155f-4b59-9b86-a13f0f21c962",
   "metadata": {
    "tags": []
   },
   "outputs": [
    {
     "data": {
      "text/plain": [
       "0       0.0\n",
       "1       0.0\n",
       "2    1110.0\n",
       "3     910.0\n",
       "4    1335.0\n",
       "Name: total_lift, dtype: float64"
      ]
     },
     "execution_count": 140,
     "metadata": {},
     "output_type": "execute_result"
    }
   ],
   "source": [
    "v1[\"total_lift\"].head()"
   ]
  },
  {
   "cell_type": "markdown",
   "id": "eb3c65d4-e3c9-41d9-a1b1-183521fc6c37",
   "metadata": {},
   "source": [
    "### 3.1.3 Save Data v1 with total lift & Push to Cloud Storage"
   ]
  },
  {
   "cell_type": "code",
   "execution_count": 141,
   "id": "e90d5b0f-0836-436a-80d6-a889273d05f7",
   "metadata": {
    "tags": []
   },
   "outputs": [],
   "source": [
    "v1.to_csv(\"data/athletes.csv\", index=False)"
   ]
  },
  {
   "cell_type": "code",
   "execution_count": 142,
   "id": "3c4a0f92-791c-4231-913c-1ceb9e23c82a",
   "metadata": {
    "tags": []
   },
   "outputs": [
    {
     "name": "stdout",
     "output_type": "stream",
     "text": [
      "total 18M\n",
      "-rwxrwxrwx 1 mariafshan mariafshan 4.8M Oct 16 19:20 athletes.csv\n",
      "-rwxrwxrwx 1 mariafshan mariafshan  110 Oct 16 19:15 athletes.csv.dvc\n",
      "-rwxrwxrwx 1 mariafshan mariafshan  13M Oct 16 13:43 athletes.csv.zip\n"
     ]
    }
   ],
   "source": [
    "# checking that the file is updated\n",
    "!ls -lh data"
   ]
  },
  {
   "cell_type": "code",
   "execution_count": 143,
   "id": "7a4aae1c-50d3-4ade-af2f-ecb8b153f073",
   "metadata": {
    "collapsed": true,
    "jupyter": {
     "outputs_hidden": true
    },
    "tags": []
   },
   "outputs": [
    {
     "name": "stdout",
     "output_type": "stream",
     "text": [
      "\u001b[?25l\u001b[32m⠋\u001b[0m Checking graph                                       core\u001b[39m>\n",
      "Adding...                                                                       \n",
      "!\u001b[A\n",
      "Collecting files and computing hashes in data/athletes.csv |0.00 [00:00,     ?fi\u001b[A\n",
      "                                                                                \u001b[A\n",
      "!\u001b[A\n",
      "  0% Checking cache in '/mnt/d/UChicago/Q4/ADSP 32021 Machine Learning Operation\u001b[A\n",
      "                                                                                \u001b[A\n",
      "!\u001b[A\n",
      "  0%|          |Adding data/athletes.csv to cache     0/? [00:00<?,     ?file/s]\u001b[A\n",
      "  0%|          |Adding data/athletes.csv to cache     0/1 [00:00<?,     ?file/s]\u001b[A\n",
      "  0%|          |Adding data/athletes.csv to cache     0/1 [00:00<?,     ?file/s]\u001b[A\n",
      "                                                                                \u001b[A\n",
      "!\u001b[A\n",
      "  0%|          |Checking out /mnt/d/UChicago/Q4/ADSP 30/? [00:00<?,    ?files/s]\u001b[A\n",
      "  0%|          |Checking out /mnt/d/UChicago/Q4/ADSP 30/1 [00:00<?,    ?files/s]\u001b[A\n",
      "100% Adding...|████████████████████████████████████████|1/1 [00:00,  2.69file/s]\u001b[A\n",
      "\n",
      "To track the changes with git, run:\n",
      "\n",
      "\tgit add data/athletes.csv.dvc\n",
      "\n",
      "To enable auto staging, run:\n",
      "\n",
      "\tdvc config core.autostage true\n",
      "\u001b[0m[master 3631c64] Updated V1 Data with total lift\n",
      " 1 file changed, 2 insertions(+), 2 deletions(-)\n",
      "  0% Pushing to gdrive://1i8QDLTjDwMzeznRjHizajHFaEFA3O17U/files/md5| |0/1 [00:0\n",
      "!\u001b[A\n",
      "  0%|          |/mnt/d/UChicago/Q4/ADSP 32021 Machi0.00/? [00:00<?,        ?B/s]\u001b[A\n",
      "  0%|          |/mnt/d/UChicago/Q4/ADSP 32021 M0.00/4.76M [00:00<?,        ?B/s]\u001b[A\n",
      "  0%|          |/mnt/d/UChicago/Q4/ADSP 328.00k/4.76M [00:01<15:56,    5.21kB/s]\u001b[A\n",
      " 11%|█         |/mnt/d/UChicago/Q4/ADSP 320520k/4.76M [00:01<00:10,     410kB/s]\u001b[A\n",
      " 14%|█▍        |/mnt/d/UChicago/Q4/ADSP 320696k/4.76M [00:01<00:07,     544kB/s]\u001b[A\n",
      " 18%|█▊        |/mnt/d/UChicago/Q4/ADSP 320880k/4.76M [00:01<00:05,     707kB/s]\u001b[A\n",
      " 22%|██▏       |/mnt/d/UChicago/Q4/ADSP 321.03M/4.76M [00:02<00:04,     815kB/s]\u001b[A\n",
      " 27%|██▋       |/mnt/d/UChicago/Q4/ADSP 321.27M/4.76M [00:02<00:03,    1.03MB/s]\u001b[A\n",
      " 32%|███▏      |/mnt/d/UChicago/Q4/ADSP 321.50M/4.76M [00:02<00:02,    1.16MB/s]\u001b[A\n",
      " 36%|███▋      |/mnt/d/UChicago/Q4/ADSP 321.73M/4.76M [00:02<00:02,    1.23MB/s]\u001b[A\n",
      " 41%|████▏     |/mnt/d/UChicago/Q4/ADSP 321.97M/4.76M [00:02<00:02,    1.31MB/s]\u001b[A\n",
      " 46%|████▋     |/mnt/d/UChicago/Q4/ADSP 322.20M/4.76M [00:02<00:01,    1.36MB/s]\u001b[A\n",
      " 51%|█████     |/mnt/d/UChicago/Q4/ADSP 322.44M/4.76M [00:03<00:01,    1.39MB/s]\u001b[A\n",
      " 56%|█████▌    |/mnt/d/UChicago/Q4/ADSP 322.67M/4.76M [00:03<00:01,    1.42MB/s]\u001b[A\n",
      " 61%|██████    |/mnt/d/UChicago/Q4/ADSP 322.91M/4.76M [00:03<00:01,    1.44MB/s]\u001b[A\n",
      " 66%|██████▌   |/mnt/d/UChicago/Q4/ADSP 323.14M/4.76M [00:03<00:01,    1.46MB/s]\u001b[A\n",
      " 71%|███████   |/mnt/d/UChicago/Q4/ADSP 323.38M/4.76M [00:03<00:00,    1.46MB/s]\u001b[A\n",
      " 76%|███████▌  |/mnt/d/UChicago/Q4/ADSP 323.61M/4.76M [00:03<00:00,    1.47MB/s]\u001b[A\n",
      " 81%|████████  |/mnt/d/UChicago/Q4/ADSP 323.84M/4.76M [00:04<00:00,    1.49MB/s]\u001b[A\n",
      " 86%|████████▌ |/mnt/d/UChicago/Q4/ADSP 324.08M/4.76M [00:04<00:00,    1.49MB/s]\u001b[A\n",
      " 89%|████████▉ |/mnt/d/UChicago/Q4/ADSP 324.26M/4.76M [00:04<00:00,    1.49MB/s]\u001b[A\n",
      " 94%|█████████▍|/mnt/d/UChicago/Q4/ADSP 324.49M/4.76M [00:04<00:00,    1.48MB/s]\u001b[A\n",
      "100% Pushing to gdrive://1i8QDLTjDwMzeznRjHizajHFaEFA3O17U/files/md5|█|1/1 [00:0\u001b[A\n",
      "1 file pushed                                                                   \u001b[A\n",
      "\u001b[0m"
     ]
    }
   ],
   "source": [
    "# push updated file\n",
    "!dvc add data/athletes.csv\n",
    "!git add data/athletes.csv.dvc\n",
    "!git commit -m \"Updated V1 Data with total lift\"\n",
    "!dvc push"
   ]
  },
  {
   "cell_type": "markdown",
   "id": "0f8bf6cf-2e10-4149-acb6-1a048711a11e",
   "metadata": {},
   "source": [
    "### 3.1.4 Checking different version of data"
   ]
  },
  {
   "cell_type": "code",
   "execution_count": 144,
   "id": "d5af7037-cb3b-451d-b199-42f4277dcd93",
   "metadata": {
    "tags": []
   },
   "outputs": [
    {
     "name": "stdout",
     "output_type": "stream",
     "text": [
      "\u001b[33m3631c64\u001b[m\u001b[33m (\u001b[m\u001b[1;36mHEAD -> \u001b[m\u001b[1;32mmaster\u001b[m\u001b[33m)\u001b[m Updated V1 Data with total lift\n",
      "\u001b[33m3b2451b\u001b[m Data V2: removed outliers\n",
      "\u001b[33m581879d\u001b[m Data V1: removed irrelevant columns and encoded categorical variables\n",
      "\u001b[33m18eacf2\u001b[m add raw athletes.csv\n",
      "\u001b[33me890107\u001b[m Configure remote storage\n"
     ]
    }
   ],
   "source": [
    "!git log --oneline"
   ]
  },
  {
   "cell_type": "code",
   "execution_count": 145,
   "id": "8de10018-6a2b-48a5-8a43-8e16c97d044c",
   "metadata": {
    "tags": []
   },
   "outputs": [
    {
     "name": "stdout",
     "output_type": "stream",
     "text": [
      "Updated 1 path from e3504f6\n",
      "Building workspace index                              |2.00 [00:00, 81.8entry/s]\n",
      "Comparing indexes                                     |3.00 [00:00,  828entry/s]\n",
      "Applying changes                                      |0.00 [00:00,     ?file/s]\n",
      "!\u001b[A\n",
      "  0%|          |/mnt/d/UChicago/Q4/ADSP 32021 Machi0.00/? [00:00<?,        ?B/s]\u001b[A\n",
      "  0%|          |/mnt/d/UChicago/Q4/ADSP 32021 M0.00/68.2M [00:00<?,        ?B/s]\u001b[A\n",
      " 16%|█▌        |/mnt/d/UChicago/Q4/ADSP 3211.0M/68.2M [00:00<00:00,     110MB/s]\u001b[A\n",
      " 37%|███▋      |/mnt/d/UChicago/Q4/ADSP 3225.0M/68.2M [00:00<00:00,     126MB/s]\u001b[A\n",
      " 60%|██████    |/mnt/d/UChicago/Q4/ADSP 3241.0M/68.2M [00:00<00:00,     141MB/s]\u001b[A\n",
      " 85%|████████▌ |/mnt/d/UChicago/Q4/ADSP 3258.0M/68.2M [00:00<00:00,     153MB/s]\u001b[A\n",
      "Applying changes                                      |1.00 [00:00,  1.74file/s]\u001b[A\n",
      "\u001b[33mM\u001b[0m       data/athletes.csv\n",
      "\u001b[0m"
     ]
    },
    {
     "data": {
      "text/plain": [
       "(423006, 27)"
      ]
     },
     "execution_count": 145,
     "metadata": {},
     "output_type": "execute_result"
    }
   ],
   "source": [
    "# raw data\n",
    "\n",
    "!git checkout 18eacf2 data/athletes.csv.dvc\n",
    "!dvc checkout\n",
    "pd.read_csv(\"data/athletes.csv\").shape"
   ]
  },
  {
   "cell_type": "markdown",
   "id": "3a7963e2-6ce4-4609-b201-fc0b1833b072",
   "metadata": {},
   "source": [
    "## 3.2 total_lift for V2"
   ]
  },
  {
   "cell_type": "markdown",
   "id": "0642979e-1a02-42ee-9b0a-6577cd349018",
   "metadata": {},
   "source": [
    "### 3.2.1 Load V2 data"
   ]
  },
  {
   "cell_type": "code",
   "execution_count": 146,
   "id": "e35e3b79-6d8e-4c2c-888e-a7ffd5711ca4",
   "metadata": {
    "tags": []
   },
   "outputs": [],
   "source": [
    "del data"
   ]
  },
  {
   "cell_type": "code",
   "execution_count": 147,
   "id": "12ef6a0d-69ab-4877-a71c-b5620ec4de6a",
   "metadata": {
    "tags": []
   },
   "outputs": [
    {
     "name": "stdout",
     "output_type": "stream",
     "text": [
      "\u001b[33m3631c64\u001b[m\u001b[33m (\u001b[m\u001b[1;36mHEAD -> \u001b[m\u001b[1;32mmaster\u001b[m\u001b[33m)\u001b[m Updated V1 Data with total lift\n",
      "\u001b[33m3b2451b\u001b[m Data V2: removed outliers\n",
      "\u001b[33m581879d\u001b[m Data V1: removed irrelevant columns and encoded categorical variables\n",
      "\u001b[33m18eacf2\u001b[m add raw athletes.csv\n",
      "\u001b[33me890107\u001b[m Configure remote storage\n"
     ]
    }
   ],
   "source": [
    "!git log --oneline"
   ]
  },
  {
   "cell_type": "code",
   "execution_count": 148,
   "id": "1e41edc2-31ad-4c39-a3e6-e3a1cc07ab28",
   "metadata": {
    "tags": []
   },
   "outputs": [
    {
     "name": "stdout",
     "output_type": "stream",
     "text": [
      "Updated 1 path from b60c4d3\n",
      "Building workspace index                              |2.00 [00:00, 88.6entry/s]\n",
      "Comparing indexes                                    |3.00 [00:00, 1.20kentry/s]\n",
      "Applying changes                                      |0.00 [00:00,     ?file/s]\n",
      "!\u001b[A\n",
      "  0%|          |/mnt/d/UChicago/Q4/ADSP 32021 Machi0.00/? [00:00<?,        ?B/s]\u001b[A\n",
      "  0%|          |/mnt/d/UChicago/Q4/ADSP 32021 M0.00/4.38M [00:00<?,        ?B/s]\u001b[A\n",
      "Applying changes                                      |1.00 [00:00,  11.3file/s]\u001b[A\n",
      "\u001b[33mM\u001b[0m       data/athletes.csv\n",
      "\u001b[0m"
     ]
    },
    {
     "data": {
      "text/plain": [
       "(30848, 26)"
      ]
     },
     "execution_count": 148,
     "metadata": {},
     "output_type": "execute_result"
    }
   ],
   "source": [
    "!git checkout 3b2451b data/athletes.csv.dvc\n",
    "!dvc checkout\n",
    "v2 = pd.read_csv(\"data/athletes.csv\")\n",
    "v2.shape"
   ]
  },
  {
   "cell_type": "markdown",
   "id": "7cbde422-6918-434f-aabd-fd671daf3392",
   "metadata": {},
   "source": [
    "### 3.1.2 Calculate Total Lift for Data V1"
   ]
  },
  {
   "cell_type": "code",
   "execution_count": 149,
   "id": "7b2cf4bd-6cbb-481f-8170-f5bbf74bfeec",
   "metadata": {
    "tags": []
   },
   "outputs": [],
   "source": [
    "v2[\"total_lift\"] = v2[\"deadlift\"] + v2['candj'] + v2['snatch'] + v2['backsq']"
   ]
  },
  {
   "cell_type": "code",
   "execution_count": 150,
   "id": "ad2c3a07-27af-4470-a63a-587f29d2cdbe",
   "metadata": {
    "tags": []
   },
   "outputs": [
    {
     "data": {
      "text/plain": [
       "0    1110.0\n",
       "1     910.0\n",
       "2    1335.0\n",
       "3    1354.0\n",
       "4    1225.0\n",
       "Name: total_lift, dtype: float64"
      ]
     },
     "execution_count": 150,
     "metadata": {},
     "output_type": "execute_result"
    }
   ],
   "source": [
    "v2[\"total_lift\"].head()"
   ]
  },
  {
   "cell_type": "markdown",
   "id": "8c59d79e-6385-43ce-a512-5d8dcc5cd773",
   "metadata": {},
   "source": [
    "### 3.2.3 Save Data v2 with total lift & Push to Cloud Storage"
   ]
  },
  {
   "cell_type": "code",
   "execution_count": 151,
   "id": "b3ba227b-f3ee-4878-8e78-42dd10dc1b28",
   "metadata": {
    "tags": []
   },
   "outputs": [],
   "source": [
    "v2.to_csv(\"data/athletes.csv\", index=False)"
   ]
  },
  {
   "cell_type": "code",
   "execution_count": 152,
   "id": "23ff3efa-84c7-40d0-a358-093eee7962f4",
   "metadata": {
    "tags": []
   },
   "outputs": [
    {
     "name": "stdout",
     "output_type": "stream",
     "text": [
      "total 17M\n",
      "-rwxrwxrwx 1 mariafshan mariafshan 4.6M Oct 16 19:22 athletes.csv\n",
      "-rwxrwxrwx 1 mariafshan mariafshan  110 Oct 16 19:21 athletes.csv.dvc\n",
      "-rwxrwxrwx 1 mariafshan mariafshan  13M Oct 16 13:43 athletes.csv.zip\n"
     ]
    }
   ],
   "source": [
    "# checking that the file is updated\n",
    "!ls -lh data"
   ]
  },
  {
   "cell_type": "code",
   "execution_count": 153,
   "id": "2a3821d7-7bda-439f-ab61-0da083031397",
   "metadata": {
    "tags": []
   },
   "outputs": [
    {
     "name": "stdout",
     "output_type": "stream",
     "text": [
      "\u001b[?25l\u001b[32m⠋\u001b[0m Checking graph                                       core\u001b[39m>\n",
      "Adding...                                                                       \n",
      "!\u001b[A\n",
      "Collecting files and computing hashes in data/athletes.csv |0.00 [00:00,     ?fi\u001b[A\n",
      "                                                                                \u001b[A\n",
      "!\u001b[A\n",
      "  0% Checking cache in '/mnt/d/UChicago/Q4/ADSP 32021 Machine Learning Operation\u001b[A\n",
      "                                                                                \u001b[A\n",
      "!\u001b[A\n",
      "  0%|          |Adding data/athletes.csv to cache     0/? [00:00<?,     ?file/s]\u001b[A\n",
      "  0%|          |Adding data/athletes.csv to cache     0/1 [00:00<?,     ?file/s]\u001b[A\n",
      "  0%|          |Adding data/athletes.csv to cache     0/1 [00:00<?,     ?file/s]\u001b[A\n",
      "                                                                                \u001b[A\n",
      "!\u001b[A\n",
      "  0%|          |Checking out /mnt/d/UChicago/Q4/ADSP 30/? [00:00<?,    ?files/s]\u001b[A\n",
      "  0%|          |Checking out /mnt/d/UChicago/Q4/ADSP 30/1 [00:00<?,    ?files/s]\u001b[A\n",
      "100% Adding...|████████████████████████████████████████|1/1 [00:00,  2.58file/s]\u001b[A\n",
      "\n",
      "To track the changes with git, run:\n",
      "\n",
      "\tgit add data/athletes.csv.dvc\n",
      "\n",
      "To enable auto staging, run:\n",
      "\n",
      "\tdvc config core.autostage true\n",
      "\u001b[0m[master bfe075a] Updated V2 Data with total lift\n",
      " 1 file changed, 2 insertions(+), 2 deletions(-)\n",
      "  0% Pushing to gdrive://1i8QDLTjDwMzeznRjHizajHFaEFA3O17U/files/md5| |0/1 [00:0\n",
      "!\u001b[A\n",
      "  0%|          |/mnt/d/UChicago/Q4/ADSP 32021 Machi0.00/? [00:00<?,        ?B/s]\u001b[A\n",
      "  0%|          |/mnt/d/UChicago/Q4/ADSP 32021 M0.00/4.57M [00:00<?,        ?B/s]\u001b[A\n",
      "  0%|          |/mnt/d/UChicago/Q4/ADSP 328.00k/4.57M [00:02<20:45,    3.84kB/s]\u001b[A\n",
      " 11%|█         |/mnt/d/UChicago/Q4/ADSP 320520k/4.57M [00:02<00:13,     316kB/s]\u001b[A\n",
      " 15%|█▍        |/mnt/d/UChicago/Q4/ADSP 320696k/4.57M [00:02<00:09,     432kB/s]\u001b[A\n",
      " 19%|█▉        |/mnt/d/UChicago/Q4/ADSP 320880k/4.57M [00:02<00:06,     573kB/s]\u001b[A\n",
      " 23%|██▎       |/mnt/d/UChicago/Q4/ADSP 321.03M/4.57M [00:02<00:05,     724kB/s]\u001b[A\n",
      " 28%|██▊       |/mnt/d/UChicago/Q4/ADSP 321.27M/4.57M [00:02<00:03,     908kB/s]\u001b[A\n",
      " 33%|███▎      |/mnt/d/UChicago/Q4/ADSP 321.50M/4.57M [00:02<00:03,    1.05MB/s]\u001b[A\n",
      " 38%|███▊      |/mnt/d/UChicago/Q4/ADSP 321.73M/4.57M [00:03<00:02,    1.16MB/s]\u001b[A\n",
      " 43%|████▎     |/mnt/d/UChicago/Q4/ADSP 321.97M/4.57M [00:03<00:02,    1.25MB/s]\u001b[A\n",
      " 48%|████▊     |/mnt/d/UChicago/Q4/ADSP 322.20M/4.57M [00:03<00:01,    1.31MB/s]\u001b[A\n",
      " 53%|█████▎    |/mnt/d/UChicago/Q4/ADSP 322.44M/4.57M [00:03<00:01,    1.36MB/s]\u001b[A\n",
      " 58%|█████▊    |/mnt/d/UChicago/Q4/ADSP 322.67M/4.57M [00:03<00:01,    1.39MB/s]\u001b[A\n",
      " 64%|██████▎   |/mnt/d/UChicago/Q4/ADSP 322.91M/4.57M [00:03<00:01,    1.43MB/s]\u001b[A\n",
      " 69%|██████▊   |/mnt/d/UChicago/Q4/ADSP 323.14M/4.57M [00:04<00:01,    1.44MB/s]\u001b[A\n",
      " 74%|███████▍  |/mnt/d/UChicago/Q4/ADSP 323.38M/4.57M [00:04<00:00,    1.44MB/s]\u001b[A\n",
      " 79%|███████▉  |/mnt/d/UChicago/Q4/ADSP 323.61M/4.57M [00:04<00:00,    1.46MB/s]\u001b[A\n",
      " 84%|████████▍ |/mnt/d/UChicago/Q4/ADSP 323.84M/4.57M [00:04<00:00,    1.50MB/s]\u001b[A\n",
      " 89%|████████▉ |/mnt/d/UChicago/Q4/ADSP 324.08M/4.57M [00:04<00:00,    1.47MB/s]\u001b[A\n",
      " 94%|█████████▍|/mnt/d/UChicago/Q4/ADSP 324.31M/4.57M [00:04<00:00,    1.48MB/s]\u001b[A\n",
      "100% Pushing to gdrive://1i8QDLTjDwMzeznRjHizajHFaEFA3O17U/files/md5|█|1/1 [00:0\u001b[A\n",
      "1 file pushed                                                                   \u001b[A\n",
      "\u001b[0m"
     ]
    }
   ],
   "source": [
    "# push updated file\n",
    "!dvc add data/athletes.csv\n",
    "!git add data/athletes.csv.dvc\n",
    "!git commit -m \"Updated V2 Data with total lift\"\n",
    "!dvc push"
   ]
  },
  {
   "cell_type": "code",
   "execution_count": 154,
   "id": "a44be715-c2ba-4cf3-bfab-b37f4211d9e7",
   "metadata": {
    "tags": []
   },
   "outputs": [
    {
     "name": "stdout",
     "output_type": "stream",
     "text": [
      "\u001b[33mbfe075a\u001b[m\u001b[33m (\u001b[m\u001b[1;36mHEAD -> \u001b[m\u001b[1;32mmaster\u001b[m\u001b[33m)\u001b[m Updated V2 Data with total lift\n",
      "\u001b[33m3631c64\u001b[m Updated V1 Data with total lift\n",
      "\u001b[33m3b2451b\u001b[m Data V2: removed outliers\n",
      "\u001b[33m581879d\u001b[m Data V1: removed irrelevant columns and encoded categorical variables\n",
      "\u001b[33m18eacf2\u001b[m add raw athletes.csv\n",
      "\u001b[33me890107\u001b[m Configure remote storage\n"
     ]
    }
   ],
   "source": [
    "# checking upload log\n",
    "!git log --oneline"
   ]
  },
  {
   "cell_type": "markdown",
   "id": "d2ea8cbc-4b37-449e-8398-cb4ef7eea2e1",
   "metadata": {},
   "source": [
    "# 13. Data Privacy\n",
    "Use tensor flow privacy library with the dataset v2 and calculate the metrics for the new DP model.\n",
    "\n",
    "https://www.tensorflow.org/responsible_ai/privacy/tutorials/classification_privacy"
   ]
  },
  {
   "cell_type": "code",
   "execution_count": 155,
   "id": "a7359bf2-87c6-4964-a26c-7b9c6931505d",
   "metadata": {
    "tags": []
   },
   "outputs": [
    {
     "name": "stdout",
     "output_type": "stream",
     "text": [
      "\u001b[33mbfe075a\u001b[m\u001b[33m (\u001b[m\u001b[1;36mHEAD -> \u001b[m\u001b[1;32mmaster\u001b[m\u001b[33m)\u001b[m Updated V2 Data with total lift\n",
      "\u001b[33m3631c64\u001b[m Updated V1 Data with total lift\n",
      "\u001b[33m3b2451b\u001b[m Data V2: removed outliers\n",
      "\u001b[33m581879d\u001b[m Data V1: removed irrelevant columns and encoded categorical variables\n",
      "\u001b[33m18eacf2\u001b[m add raw athletes.csv\n",
      "\u001b[33me890107\u001b[m Configure remote storage\n"
     ]
    }
   ],
   "source": [
    "!git log --oneline"
   ]
  },
  {
   "cell_type": "code",
   "execution_count": 156,
   "id": "9b72154c-d950-4282-980c-0b5dbe6658b1",
   "metadata": {
    "tags": []
   },
   "outputs": [
    {
     "name": "stdout",
     "output_type": "stream",
     "text": [
      "Updated 0 paths from 8357cb4\n",
      "Building workspace index                              |2.00 [00:00,  152entry/s]\n",
      "Comparing indexes                                    |3.00 [00:00, 1.09kentry/s]\n",
      "Applying changes                                      |0.00 [00:00,     ?file/s]\n",
      "\u001b[33mM\u001b[0m       data/athletes.csv\n",
      "\u001b[0m"
     ]
    },
    {
     "data": {
      "text/plain": [
       "(30848, 27)"
      ]
     },
     "execution_count": 156,
     "metadata": {},
     "output_type": "execute_result"
    }
   ],
   "source": [
    "!git checkout bfe075a data/athletes.csv.dvc\n",
    "!dvc checkout\n",
    "data = pd.read_csv(\"data/athletes.csv\")\n",
    "data.shape"
   ]
  },
  {
   "cell_type": "code",
   "execution_count": null,
   "id": "e109a3c0-aa9c-4f40-a082-635ca11f32c1",
   "metadata": {},
   "outputs": [],
   "source": []
  }
 ],
 "metadata": {
  "kernelspec": {
   "display_name": "python39",
   "language": "python",
   "name": "python39"
  },
  "language_info": {
   "codemirror_mode": {
    "name": "ipython",
    "version": 3
   },
   "file_extension": ".py",
   "mimetype": "text/x-python",
   "name": "python",
   "nbconvert_exporter": "python",
   "pygments_lexer": "ipython3",
   "version": "3.9.18"
  }
 },
 "nbformat": 4,
 "nbformat_minor": 5
}
