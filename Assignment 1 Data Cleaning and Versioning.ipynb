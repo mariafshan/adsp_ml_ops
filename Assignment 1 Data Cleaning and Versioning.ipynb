{
 "cells": [
  {
   "cell_type": "markdown",
   "id": "268831c3-e9e9-4918-a6dc-f63c530b1c47",
   "metadata": {},
   "source": [
    "# Assignment 1: Data Versioning and Differential Privacy Pt. 1\n",
    "## ADSP 32021 IP01 Machine Learning Operations\n",
    "#### Maria Clarissa Fionalita\n",
    "Canvas Assignment Pages:\n",
    "\n",
    "- [Assignment 1: Data Versioning and Differential Privacy](https://canvas.uchicago.edu/courses/52013/assignments/586652)\n",
    "- [Hint for the assignment](https://edstem.org/us/courses/48613/discussion/3583746)\n",
    "- [Intro to Exploratory data analysis (EDA) in Python](https://www.kaggle.com/code/imoore/intro-to-exploratory-data-analysis-eda-in-python)\n",
    "\n",
    "References:\n",
    "\n",
    "- [Versioning Data with DVC (Hands-On Tutorial!)](https://www.youtube.com/watch?v=kLKBcPonMYw)\n",
    "- [DVC Cheatsheet](https://derekchia.com/dvc/)"
   ]
  },
  {
   "cell_type": "markdown",
   "id": "0244c1ca-d50f-43c1-b1fb-d312b1c3391c",
   "metadata": {},
   "source": [
    "#### Setting Up DVC filepath and Google Drive as remote storage"
   ]
  },
  {
   "cell_type": "code",
   "execution_count": 41,
   "id": "4f157fb5-8cc9-4bf6-b404-494c79a50a82",
   "metadata": {},
   "outputs": [
    {
     "name": "stdout",
     "output_type": "stream",
     "text": [
      "\u001b[33mhint: Using 'master' as the name for the initial branch. This default branch name\u001b[m\n",
      "\u001b[33mhint: is subject to change. To configure the initial branch name to use in all\u001b[m\n",
      "\u001b[33mhint: of your new repositories, which will suppress this warning, call:\u001b[m\n",
      "\u001b[33mhint: \u001b[m\n",
      "\u001b[33mhint: \tgit config --global init.defaultBranch <name>\u001b[m\n",
      "\u001b[33mhint: \u001b[m\n",
      "\u001b[33mhint: Names commonly chosen instead of 'master' are 'main', 'trunk' and\u001b[m\n",
      "\u001b[33mhint: 'development'. The just-created branch can be renamed via this command:\u001b[m\n",
      "\u001b[33mhint: \u001b[m\n",
      "\u001b[33mhint: \tgit branch -m <name>\u001b[m\n",
      "Initialized empty Git repository in /mnt/d/UChicago/Q4/ADSP 32021 Machine Learning Operations/Assignment 1/.git/\n",
      "Initialized DVC repository.\n",
      "\n",
      "You can now commit the changes to git.\n",
      "\n",
      "\u001b[31m+---------------------------------------------------------------------+\n",
      "\u001b[0m\u001b[31m|\u001b[0m                                                                     \u001b[31m|\u001b[0m\n",
      "\u001b[31m|\u001b[0m        DVC has enabled anonymous aggregate usage analytics.         \u001b[31m|\u001b[0m\n",
      "\u001b[31m|\u001b[0m     Read the analytics documentation (and how to opt-out) here:     \u001b[31m|\u001b[0m\n",
      "\u001b[31m|\u001b[0m             <\u001b[36mhttps://dvc.org/doc/user-guide/analytics\u001b[39m>              \u001b[31m|\u001b[0m\n",
      "\u001b[31m|\u001b[0m                                                                     \u001b[31m|\u001b[0m\n",
      "\u001b[31m+---------------------------------------------------------------------+\n",
      "\u001b[0m\n",
      "\u001b[33mWhat's next?\u001b[39m\n",
      "\u001b[33m------------\u001b[39m\n",
      "- Check out the documentation: <\u001b[36mhttps://dvc.org/doc\u001b[39m>\n",
      "- Get help and share ideas: <\u001b[36mhttps://dvc.org/chat\u001b[39m>\n",
      "- Star us on GitHub: <\u001b[36mhttps://github.com/iterative/dvc\u001b[39m>\n",
      "\u001b[0mSetting 'storage' as a default remote.\n",
      "\u001b[0m[master (root-commit) a119039] Configure remote storage\n",
      " 1 file changed, 4 insertions(+)\n",
      " create mode 100644 .dvc/config\n"
     ]
    }
   ],
   "source": [
    "!git init\n",
    "!dvc init -f\n",
    "!dvc remote add -d storage gdrive://1i8QDLTjDwMzeznRjHizajHFaEFA3O17U\n",
    "!git commit .dvc/config -m \"Configure remote storage\""
   ]
  },
  {
   "cell_type": "markdown",
   "id": "6ffc41b2-9413-4ec5-b127-808dd3281a0c",
   "metadata": {},
   "source": [
    "#### Push raw data to Google Storage"
   ]
  },
  {
   "cell_type": "code",
   "execution_count": 42,
   "id": "074fdf4d-d77b-4d03-968e-e18b953af435",
   "metadata": {
    "tags": []
   },
   "outputs": [
    {
     "name": "stdout",
     "output_type": "stream",
     "text": [
      "\u001b[?25l\u001b[32m⠋\u001b[0m Checking graph                                       core\u001b[39m>\n",
      "Adding...                                                                       \n",
      "!\u001b[A\n",
      "Collecting files and computing hashes in data/athletes.csv |0.00 [00:00,     ?fi\u001b[A\n",
      "                                                                                \u001b[A\n",
      "!\u001b[A\n",
      "  0% Checking cache in '/mnt/d/UChicago/Q4/ADSP 32021 Machine Learning Operation\u001b[A\n",
      "                                                                                \u001b[A\n",
      "!\u001b[A\n",
      "  0%|          |Adding data/athletes.csv to cache     0/? [00:00<?,     ?file/s]\u001b[A\n",
      "  0%|          |Adding data/athletes.csv to cache     0/1 [00:00<?,     ?file/s]\u001b[A\n",
      "  0%|          |Adding data/athletes.csv to cache     0/1 [00:00<?,     ?file/s]\u001b[A\n",
      "                                                                                \u001b[A\n",
      "!\u001b[A\n",
      "  0%|          |Checking out /mnt/d/UChicago/Q4/ADSP 30/? [00:00<?,    ?files/s]\u001b[A\n",
      "  0%|          |Checking out /mnt/d/UChicago/Q4/ADSP 30/1 [00:00<?,    ?files/s]\u001b[A\n",
      "100%|██████████|Checking out /mnt/d/UChicago/Q4/A1/1 [00:00<00:00,  2.93files/s]\u001b[A\n",
      "100% Adding...|████████████████████████████████████████|1/1 [00:00,  1.06file/s]\u001b[A\n",
      "\n",
      "To track the changes with git, run:\n",
      "\n",
      "\tgit add data/athletes.csv.dvc data/.gitignore\n",
      "\n",
      "To enable auto staging, run:\n",
      "\n",
      "\tdvc config core.autostage true\n",
      "\u001b[0m"
     ]
    }
   ],
   "source": [
    "!dvc add data/athletes.csv\n",
    "!git add data/.gitignore data/athletes.csv.dvc"
   ]
  },
  {
   "cell_type": "code",
   "execution_count": 43,
   "id": "8dec3540-69f9-4ad2-a100-0069ab562de6",
   "metadata": {
    "tags": []
   },
   "outputs": [
    {
     "name": "stdout",
     "output_type": "stream",
     "text": [
      "[master 3f8ec5b] add raw (v1) athletes.csv\n",
      " 5 files changed, 13 insertions(+)\n",
      " create mode 100755 .dvc/.gitignore\n",
      " mode change 100644 => 100755 .dvc/config\n",
      " create mode 100755 .dvcignore\n",
      " create mode 100644 data/.gitignore\n",
      " create mode 100644 data/athletes.csv.dvc\n",
      "outs:\n",
      "- md5: ade8057a9ad4350dfade9180f021a96d\n",
      "  size: 71546909\n",
      "  isexec: true\n",
      "  hash: md5\n",
      "  path: athletes.csv\n"
     ]
    }
   ],
   "source": [
    "!git commit -m \"add raw (v1) athletes.csv\"\n",
    "!cat data/athletes.csv.dvc"
   ]
  },
  {
   "cell_type": "code",
   "execution_count": 44,
   "id": "648a12c1-3091-4c5b-b296-87a88f8d8c59",
   "metadata": {
    "collapsed": true,
    "jupyter": {
     "outputs_hidden": true
    },
    "tags": []
   },
   "outputs": [
    {
     "name": "stdout",
     "output_type": "stream",
     "text": [
      "  0% Pushing to gdrive://1i8QDLTjDwMzeznRjHizajHFaEFA3O17U/files/md5| |0/1 [00:0\n",
      "!\u001b[A\n",
      "  0%|          |/mnt/d/UChicago/Q4/ADSP 32021 Machi0.00/? [00:00<?,        ?B/s]\u001b[A\n",
      "  0%|          |/mnt/d/UChicago/Q4/ADSP 32021 M0.00/68.2M [00:00<?,        ?B/s]\u001b[A\n",
      "  0%|          |/mnt/d/UChicago/Q4/ADSP8.00k/68.2M [00:04<10:01:19,    1.98kB/s]\u001b[A\n",
      "  1%|          |/mnt/d/UChicago/Q4/ADSP 320712k/68.2M [00:04<05:02,     234kB/s]\u001b[A\n",
      "  1%|▏         |/mnt/d/UChicago/Q4/ADSP 320.99M/68.2M [00:04<03:22,     349kB/s]\u001b[A\n",
      "  2%|▏         |/mnt/d/UChicago/Q4/ADSP 321.28M/68.2M [00:04<02:27,     474kB/s]\u001b[A\n",
      "  2%|▏         |/mnt/d/UChicago/Q4/ADSP 321.58M/68.2M [00:04<01:53,     618kB/s]\u001b[A\n",
      "  3%|▎         |/mnt/d/UChicago/Q4/ADSP 321.87M/68.2M [00:05<01:32,     755kB/s]\u001b[A\n",
      "  3%|▎         |/mnt/d/UChicago/Q4/ADSP 322.16M/68.2M [00:05<01:17,     899kB/s]\u001b[A\n",
      "  4%|▎         |/mnt/d/UChicago/Q4/ADSP 322.45M/68.2M [00:05<01:07,    1.02MB/s]\u001b[A\n",
      "  4%|▍         |/mnt/d/UChicago/Q4/ADSP 322.75M/68.2M [00:05<01:00,    1.13MB/s]\u001b[A\n",
      "  4%|▍         |/mnt/d/UChicago/Q4/ADSP 323.04M/68.2M [00:05<00:56,    1.21MB/s]\u001b[A\n",
      "  5%|▍         |/mnt/d/UChicago/Q4/ADSP 323.34M/68.2M [00:06<00:52,    1.29MB/s]\u001b[A\n",
      "  5%|▌         |/mnt/d/UChicago/Q4/ADSP 323.62M/68.2M [00:06<00:50,    1.34MB/s]\u001b[A\n",
      "  6%|▌         |/mnt/d/UChicago/Q4/ADSP 323.92M/68.2M [00:06<00:48,    1.38MB/s]\u001b[A\n",
      "  6%|▌         |/mnt/d/UChicago/Q4/ADSP 324.21M/68.2M [00:06<00:47,    1.42MB/s]\u001b[A\n",
      "  7%|▋         |/mnt/d/UChicago/Q4/ADSP 324.51M/68.2M [00:06<00:46,    1.44MB/s]\u001b[A\n",
      "  7%|▋         |/mnt/d/UChicago/Q4/ADSP 324.80M/68.2M [00:07<00:45,    1.46MB/s]\u001b[A\n",
      "  7%|▋         |/mnt/d/UChicago/Q4/ADSP 325.09M/68.2M [00:07<00:45,    1.47MB/s]\u001b[A\n",
      "  8%|▊         |/mnt/d/UChicago/Q4/ADSP 325.38M/68.2M [00:07<00:45,    1.46MB/s]\u001b[A\n",
      "  8%|▊         |/mnt/d/UChicago/Q4/ADSP 325.68M/68.2M [00:07<00:44,    1.48MB/s]\u001b[A\n",
      "  9%|▊         |/mnt/d/UChicago/Q4/ADSP 325.97M/68.2M [00:08<00:44,    1.47MB/s]\u001b[A\n",
      "  9%|▉         |/mnt/d/UChicago/Q4/ADSP 326.27M/68.2M [00:08<00:44,    1.47MB/s]\u001b[A\n",
      " 10%|▉         |/mnt/d/UChicago/Q4/ADSP 326.55M/68.2M [00:08<00:43,    1.48MB/s]\u001b[A\n",
      " 10%|█         |/mnt/d/UChicago/Q4/ADSP 326.85M/68.2M [00:08<00:43,    1.48MB/s]\u001b[A\n",
      " 10%|█         |/mnt/d/UChicago/Q4/ADSP 327.14M/68.2M [00:08<00:43,    1.48MB/s]\u001b[A\n",
      " 11%|█         |/mnt/d/UChicago/Q4/ADSP 327.44M/68.2M [00:09<00:43,    1.48MB/s]\u001b[A\n",
      " 11%|█▏        |/mnt/d/UChicago/Q4/ADSP 327.73M/68.2M [00:09<00:42,    1.48MB/s]\u001b[A\n",
      " 12%|█▏        |/mnt/d/UChicago/Q4/ADSP 327.96M/68.2M [00:09<00:42,    1.48MB/s]\u001b[A\n",
      " 12%|█▏        |/mnt/d/UChicago/Q4/ADSP 328.26M/68.2M [00:09<00:42,    1.49MB/s]\u001b[A\n",
      " 13%|█▎        |/mnt/d/UChicago/Q4/ADSP 328.55M/68.2M [00:09<00:42,    1.47MB/s]\u001b[A\n",
      " 13%|█▎        |/mnt/d/UChicago/Q4/ADSP 328.84M/68.2M [00:10<00:41,    1.49MB/s]\u001b[A\n",
      " 13%|█▎        |/mnt/d/UChicago/Q4/ADSP 329.13M/68.2M [00:10<00:41,    1.50MB/s]\u001b[A\n",
      " 14%|█▍        |/mnt/d/UChicago/Q4/ADSP 329.43M/68.2M [00:10<00:41,    1.49MB/s]\u001b[A\n",
      " 14%|█▍        |/mnt/d/UChicago/Q4/ADSP 329.72M/68.2M [00:10<00:41,    1.49MB/s]\u001b[A\n",
      " 15%|█▍        |/mnt/d/UChicago/Q4/ADSP 3210.0M/68.2M [00:10<00:41,    1.48MB/s]\u001b[A\n",
      " 15%|█▌        |/mnt/d/UChicago/Q4/ADSP 3210.3M/68.2M [00:11<00:41,    1.47MB/s]\u001b[A\n",
      " 16%|█▌        |/mnt/d/UChicago/Q4/ADSP 3210.6M/68.2M [00:11<00:40,    1.49MB/s]\u001b[A\n",
      " 16%|█▌        |/mnt/d/UChicago/Q4/ADSP 3210.9M/68.2M [00:11<00:40,    1.48MB/s]\u001b[A\n",
      " 16%|█▋        |/mnt/d/UChicago/Q4/ADSP 3211.2M/68.2M [00:11<00:40,    1.49MB/s]\u001b[A\n",
      " 17%|█▋        |/mnt/d/UChicago/Q4/ADSP 3211.5M/68.2M [00:11<00:40,    1.48MB/s]\u001b[A\n",
      " 17%|█▋        |/mnt/d/UChicago/Q4/ADSP 3211.8M/68.2M [00:12<00:39,    1.48MB/s]\u001b[A\n",
      " 18%|█▊        |/mnt/d/UChicago/Q4/ADSP 3212.1M/68.2M [00:12<00:39,    1.49MB/s]\u001b[A\n",
      " 18%|█▊        |/mnt/d/UChicago/Q4/ADSP 3212.4M/68.2M [00:12<00:39,    1.49MB/s]\u001b[A\n",
      " 19%|█▊        |/mnt/d/UChicago/Q4/ADSP 3212.6M/68.2M [00:12<00:39,    1.49MB/s]\u001b[A\n",
      " 19%|█▉        |/mnt/d/UChicago/Q4/ADSP 3212.9M/68.2M [00:12<00:38,    1.49MB/s]\u001b[A\n",
      " 19%|█▉        |/mnt/d/UChicago/Q4/ADSP 3213.2M/68.2M [00:13<00:38,    1.48MB/s]\u001b[A\n",
      " 20%|█▉        |/mnt/d/UChicago/Q4/ADSP 3213.5M/68.2M [00:13<00:38,    1.49MB/s]\u001b[A\n",
      " 20%|██        |/mnt/d/UChicago/Q4/ADSP 3213.8M/68.2M [00:13<00:38,    1.48MB/s]\u001b[A\n",
      " 21%|██        |/mnt/d/UChicago/Q4/ADSP 3214.1M/68.2M [00:13<00:38,    1.49MB/s]\u001b[A\n",
      " 21%|██        |/mnt/d/UChicago/Q4/ADSP 3214.4M/68.2M [00:13<00:38,    1.48MB/s]\u001b[A\n",
      " 21%|██▏       |/mnt/d/UChicago/Q4/ADSP 3214.6M/68.2M [00:14<00:37,    1.48MB/s]\u001b[A\n",
      " 22%|██▏       |/mnt/d/UChicago/Q4/ADSP 3214.9M/68.2M [00:14<00:37,    1.50MB/s]\u001b[A\n",
      " 22%|██▏       |/mnt/d/UChicago/Q4/ADSP 3215.2M/68.2M [00:14<00:37,    1.49MB/s]\u001b[A\n",
      " 23%|██▎       |/mnt/d/UChicago/Q4/ADSP 3215.5M/68.2M [00:14<00:37,    1.49MB/s]\u001b[A\n",
      " 23%|██▎       |/mnt/d/UChicago/Q4/ADSP 3215.8M/68.2M [00:14<00:37,    1.48MB/s]\u001b[A\n",
      " 24%|██▎       |/mnt/d/UChicago/Q4/ADSP 3216.1M/68.2M [00:15<00:36,    1.49MB/s]\u001b[A\n",
      " 24%|██▍       |/mnt/d/UChicago/Q4/ADSP 3216.4M/68.2M [00:15<00:36,    1.48MB/s]\u001b[A\n",
      " 24%|██▍       |/mnt/d/UChicago/Q4/ADSP 3216.7M/68.2M [00:15<00:36,    1.49MB/s]\u001b[A\n",
      " 25%|██▍       |/mnt/d/UChicago/Q4/ADSP 3217.0M/68.2M [00:15<00:36,    1.48MB/s]\u001b[A\n",
      " 25%|██▌       |/mnt/d/UChicago/Q4/ADSP 3217.3M/68.2M [00:16<00:36,    1.48MB/s]\u001b[A\n",
      " 26%|██▌       |/mnt/d/UChicago/Q4/ADSP 3217.6M/68.2M [00:16<00:37,    1.41MB/s]\u001b[A\n",
      " 26%|██▌       |/mnt/d/UChicago/Q4/ADSP 3217.9M/68.2M [00:16<00:34,    1.53MB/s]\u001b[A\n",
      " 27%|██▋       |/mnt/d/UChicago/Q4/ADSP 3218.2M/68.2M [00:16<00:34,    1.50MB/s]\u001b[A\n",
      " 27%|██▋       |/mnt/d/UChicago/Q4/ADSP 3218.5M/68.2M [00:16<00:34,    1.50MB/s]\u001b[A\n",
      " 27%|██▋       |/mnt/d/UChicago/Q4/ADSP 3218.7M/68.2M [00:17<00:34,    1.49MB/s]\u001b[A\n",
      " 28%|██▊       |/mnt/d/UChicago/Q4/ADSP 3219.0M/68.2M [00:17<00:34,    1.49MB/s]\u001b[A\n",
      " 28%|██▊       |/mnt/d/UChicago/Q4/ADSP 3219.3M/68.2M [00:17<00:34,    1.48MB/s]\u001b[A\n",
      " 29%|██▉       |/mnt/d/UChicago/Q4/ADSP 3219.6M/68.2M [00:17<00:34,    1.49MB/s]\u001b[A\n",
      " 29%|██▉       |/mnt/d/UChicago/Q4/ADSP 3219.9M/68.2M [00:17<00:34,    1.48MB/s]\u001b[A\n",
      " 30%|██▉       |/mnt/d/UChicago/Q4/ADSP 3220.2M/68.2M [00:18<00:33,    1.49MB/s]\u001b[A\n",
      " 30%|███       |/mnt/d/UChicago/Q4/ADSP 3220.5M/68.2M [00:18<00:33,    1.49MB/s]\u001b[A\n",
      " 30%|███       |/mnt/d/UChicago/Q4/ADSP 3220.8M/68.2M [00:18<00:33,    1.50MB/s]\u001b[A\n",
      " 31%|███       |/mnt/d/UChicago/Q4/ADSP 3221.1M/68.2M [00:18<00:33,    1.48MB/s]\u001b[A\n",
      " 31%|███▏      |/mnt/d/UChicago/Q4/ADSP 3221.4M/68.2M [00:18<00:33,    1.49MB/s]\u001b[A\n",
      " 32%|███▏      |/mnt/d/UChicago/Q4/ADSP 3221.7M/68.2M [00:19<00:33,    1.47MB/s]\u001b[A\n",
      " 32%|███▏      |/mnt/d/UChicago/Q4/ADSP 3222.0M/68.2M [00:19<00:32,    1.48MB/s]\u001b[A\n",
      " 33%|███▎      |/mnt/d/UChicago/Q4/ADSP 3222.3M/68.2M [00:19<00:32,    1.47MB/s]\u001b[A\n",
      " 33%|███▎      |/mnt/d/UChicago/Q4/ADSP 3222.6M/68.2M [00:19<00:32,    1.48MB/s]\u001b[A\n",
      " 33%|███▎      |/mnt/d/UChicago/Q4/ADSP 3222.8M/68.2M [00:19<00:32,    1.47MB/s]\u001b[A\n",
      " 34%|███▍      |/mnt/d/UChicago/Q4/ADSP 3223.1M/68.2M [00:20<00:31,    1.50MB/s]\u001b[A\n",
      " 34%|███▍      |/mnt/d/UChicago/Q4/ADSP 3223.4M/68.2M [00:20<00:31,    1.49MB/s]\u001b[A\n",
      " 35%|███▍      |/mnt/d/UChicago/Q4/ADSP 3223.7M/68.2M [00:20<00:31,    1.50MB/s]\u001b[A\n",
      " 35%|███▌      |/mnt/d/UChicago/Q4/ADSP 3224.0M/68.2M [00:20<00:31,    1.50MB/s]\u001b[A\n",
      " 36%|███▌      |/mnt/d/UChicago/Q4/ADSP 3224.2M/68.2M [00:20<00:30,    1.49MB/s]\u001b[A\n",
      " 36%|███▌      |/mnt/d/UChicago/Q4/ADSP 3224.5M/68.2M [00:21<00:30,    1.48MB/s]\u001b[A\n",
      " 36%|███▋      |/mnt/d/UChicago/Q4/ADSP 3224.8M/68.2M [00:21<00:30,    1.48MB/s]\u001b[A\n",
      " 37%|███▋      |/mnt/d/UChicago/Q4/ADSP 3225.1M/68.2M [00:21<00:30,    1.49MB/s]\u001b[A\n",
      " 37%|███▋      |/mnt/d/UChicago/Q4/ADSP 3225.4M/68.2M [00:21<00:30,    1.47MB/s]\u001b[A\n",
      " 38%|███▊      |/mnt/d/UChicago/Q4/ADSP 3225.7M/68.2M [00:21<00:29,    1.49MB/s]\u001b[A\n",
      " 38%|███▊      |/mnt/d/UChicago/Q4/ADSP 3226.0M/68.2M [00:22<00:30,    1.44MB/s]\u001b[A\n",
      " 39%|███▊      |/mnt/d/UChicago/Q4/ADSP 3226.3M/68.2M [00:22<00:29,    1.51MB/s]\u001b[A\n",
      " 39%|███▉      |/mnt/d/UChicago/Q4/ADSP 3226.6M/68.2M [00:22<00:29,    1.50MB/s]\u001b[A\n",
      " 39%|███▉      |/mnt/d/UChicago/Q4/ADSP 3226.9M/68.2M [00:22<00:28,    1.50MB/s]\u001b[A\n",
      " 40%|███▉      |/mnt/d/UChicago/Q4/ADSP 3227.2M/68.2M [00:23<00:29,    1.48MB/s]\u001b[A\n",
      " 40%|████      |/mnt/d/UChicago/Q4/ADSP 3227.5M/68.2M [00:23<00:28,    1.50MB/s]\u001b[A\n",
      " 41%|████      |/mnt/d/UChicago/Q4/ADSP 3227.8M/68.2M [00:23<00:28,    1.48MB/s]\u001b[A\n",
      " 41%|████      |/mnt/d/UChicago/Q4/ADSP 3228.1M/68.2M [00:23<00:28,    1.49MB/s]\u001b[A\n",
      " 42%|████▏     |/mnt/d/UChicago/Q4/ADSP 3228.4M/68.2M [00:23<00:28,    1.48MB/s]\u001b[A\n",
      " 42%|████▏     |/mnt/d/UChicago/Q4/ADSP 3228.6M/68.2M [00:24<00:28,    1.48MB/s]\u001b[A\n",
      " 42%|████▏     |/mnt/d/UChicago/Q4/ADSP 3228.9M/68.2M [00:24<00:27,    1.48MB/s]\u001b[A\n",
      " 43%|████▎     |/mnt/d/UChicago/Q4/ADSP 3229.2M/68.2M [00:24<00:27,    1.46MB/s]\u001b[A\n",
      " 43%|████▎     |/mnt/d/UChicago/Q4/ADSP 3229.5M/68.2M [00:24<00:27,    1.48MB/s]\u001b[A\n",
      " 44%|████▎     |/mnt/d/UChicago/Q4/ADSP 3229.8M/68.2M [00:24<00:27,    1.47MB/s]\u001b[A\n",
      " 44%|████▍     |/mnt/d/UChicago/Q4/ADSP 3230.1M/68.2M [00:25<00:27,    1.48MB/s]\u001b[A\n",
      " 44%|████▍     |/mnt/d/UChicago/Q4/ADSP 3230.3M/68.2M [00:25<00:27,    1.46MB/s]\u001b[A\n",
      " 45%|████▍     |/mnt/d/UChicago/Q4/ADSP 3230.6M/68.2M [00:25<00:26,    1.48MB/s]\u001b[A\n",
      " 45%|████▌     |/mnt/d/UChicago/Q4/ADSP 3230.9M/68.2M [00:25<00:26,    1.47MB/s]\u001b[A\n",
      " 46%|████▌     |/mnt/d/UChicago/Q4/ADSP 3231.2M/68.2M [00:25<00:26,    1.48MB/s]\u001b[A\n",
      " 46%|████▌     |/mnt/d/UChicago/Q4/ADSP 3231.5M/68.2M [00:26<00:25,    1.48MB/s]\u001b[A\n",
      " 47%|████▋     |/mnt/d/UChicago/Q4/ADSP 3231.8M/68.2M [00:26<00:25,    1.49MB/s]\u001b[A\n",
      " 47%|████▋     |/mnt/d/UChicago/Q4/ADSP 3232.1M/68.2M [00:26<00:25,    1.48MB/s]\u001b[A\n",
      " 47%|████▋     |/mnt/d/UChicago/Q4/ADSP 3232.4M/68.2M [00:26<00:25,    1.48MB/s]\u001b[A\n",
      " 48%|████▊     |/mnt/d/UChicago/Q4/ADSP 3232.7M/68.2M [00:26<00:25,    1.47MB/s]\u001b[A\n",
      " 48%|████▊     |/mnt/d/UChicago/Q4/ADSP 3233.0M/68.2M [00:27<00:24,    1.49MB/s]\u001b[A\n",
      " 49%|████▉     |/mnt/d/UChicago/Q4/ADSP 3233.3M/68.2M [00:27<00:24,    1.49MB/s]\u001b[A\n",
      " 49%|████▉     |/mnt/d/UChicago/Q4/ADSP 3233.6M/68.2M [00:27<00:24,    1.49MB/s]\u001b[A\n",
      " 50%|████▉     |/mnt/d/UChicago/Q4/ADSP 3233.9M/68.2M [00:27<00:24,    1.48MB/s]\u001b[A\n",
      " 50%|█████     |/mnt/d/UChicago/Q4/ADSP 3234.2M/68.2M [00:27<00:25,    1.42MB/s]\u001b[A\n",
      " 50%|█████     |/mnt/d/UChicago/Q4/ADSP 3234.4M/68.2M [00:28<00:23,    1.51MB/s]\u001b[A\n",
      " 51%|█████     |/mnt/d/UChicago/Q4/ADSP 3234.7M/68.2M [00:28<00:23,    1.51MB/s]\u001b[A\n",
      " 51%|█████▏    |/mnt/d/UChicago/Q4/ADSP 3235.0M/68.2M [00:28<00:23,    1.49MB/s]\u001b[A\n",
      " 52%|█████▏    |/mnt/d/UChicago/Q4/ADSP 3235.3M/68.2M [00:28<00:23,    1.49MB/s]\u001b[A\n",
      " 52%|█████▏    |/mnt/d/UChicago/Q4/ADSP 3235.6M/68.2M [00:28<00:23,    1.47MB/s]\u001b[A\n",
      " 53%|█████▎    |/mnt/d/UChicago/Q4/ADSP 3235.9M/68.2M [00:29<00:22,    1.48MB/s]\u001b[A\n",
      " 53%|█████▎    |/mnt/d/UChicago/Q4/ADSP 3236.2M/68.2M [00:29<00:22,    1.47MB/s]\u001b[A\n",
      " 53%|█████▎    |/mnt/d/UChicago/Q4/ADSP 3236.5M/68.2M [00:29<00:22,    1.48MB/s]\u001b[A\n",
      " 54%|█████▍    |/mnt/d/UChicago/Q4/ADSP 3236.8M/68.2M [00:29<00:22,    1.48MB/s]\u001b[A\n",
      " 54%|█████▍    |/mnt/d/UChicago/Q4/ADSP 3237.1M/68.2M [00:30<00:22,    1.48MB/s]\u001b[A\n",
      " 55%|█████▍    |/mnt/d/UChicago/Q4/ADSP 3237.4M/68.2M [00:30<00:21,    1.47MB/s]\u001b[A\n",
      " 55%|█████▌    |/mnt/d/UChicago/Q4/ADSP 3237.7M/68.2M [00:30<00:21,    1.48MB/s]\u001b[A\n",
      " 56%|█████▌    |/mnt/d/UChicago/Q4/ADSP 3238.0M/68.2M [00:30<00:21,    1.47MB/s]\u001b[A\n",
      " 56%|█████▌    |/mnt/d/UChicago/Q4/ADSP 3238.3M/68.2M [00:30<00:21,    1.49MB/s]\u001b[A\n",
      " 56%|█████▋    |/mnt/d/UChicago/Q4/ADSP 3238.5M/68.2M [00:31<00:21,    1.47MB/s]\u001b[A\n",
      " 57%|█████▋    |/mnt/d/UChicago/Q4/ADSP 3238.8M/68.2M [00:31<00:20,    1.48MB/s]\u001b[A\n",
      " 57%|█████▋    |/mnt/d/UChicago/Q4/ADSP 3239.1M/68.2M [00:31<00:20,    1.47MB/s]\u001b[A\n",
      " 58%|█████▊    |/mnt/d/UChicago/Q4/ADSP 3239.4M/68.2M [00:31<00:20,    1.50MB/s]\u001b[A\n",
      " 58%|█████▊    |/mnt/d/UChicago/Q4/ADSP 3239.7M/68.2M [00:31<00:20,    1.49MB/s]\u001b[A\n",
      " 59%|█████▊    |/mnt/d/UChicago/Q4/ADSP 3240.0M/68.2M [00:32<00:19,    1.49MB/s]\u001b[A\n",
      " 59%|█████▉    |/mnt/d/UChicago/Q4/ADSP 3240.3M/68.2M [00:32<00:19,    1.48MB/s]\u001b[A\n",
      " 60%|█████▉    |/mnt/d/UChicago/Q4/ADSP 3240.6M/68.2M [00:32<00:19,    1.48MB/s]\u001b[A\n",
      " 60%|█████▉    |/mnt/d/UChicago/Q4/ADSP 3240.9M/68.2M [00:32<00:19,    1.48MB/s]\u001b[A\n",
      " 60%|██████    |/mnt/d/UChicago/Q4/ADSP 3241.2M/68.2M [00:32<00:19,    1.49MB/s]\u001b[A\n",
      " 61%|██████    |/mnt/d/UChicago/Q4/ADSP 3241.5M/68.2M [00:33<00:18,    1.48MB/s]\u001b[A\n",
      " 61%|██████    |/mnt/d/UChicago/Q4/ADSP 3241.8M/68.2M [00:33<00:18,    1.47MB/s]\u001b[A\n",
      " 62%|██████▏   |/mnt/d/UChicago/Q4/ADSP 3242.1M/68.2M [00:33<00:18,    1.48MB/s]\u001b[A\n",
      " 62%|██████▏   |/mnt/d/UChicago/Q4/ADSP 3242.4M/68.2M [00:33<00:18,    1.49MB/s]\u001b[A\n",
      " 63%|██████▎   |/mnt/d/UChicago/Q4/ADSP 3242.6M/68.2M [00:33<00:17,    1.50MB/s]\u001b[A\n",
      " 63%|██████▎   |/mnt/d/UChicago/Q4/ADSP 3242.9M/68.2M [00:34<00:17,    1.48MB/s]\u001b[A\n",
      " 63%|██████▎   |/mnt/d/UChicago/Q4/ADSP 3243.2M/68.2M [00:34<00:17,    1.49MB/s]\u001b[A\n",
      " 64%|██████▍   |/mnt/d/UChicago/Q4/ADSP 3243.5M/68.2M [00:34<00:17,    1.47MB/s]\u001b[A\n",
      " 64%|██████▍   |/mnt/d/UChicago/Q4/ADSP 3243.8M/68.2M [00:34<00:17,    1.49MB/s]\u001b[A\n",
      " 65%|██████▍   |/mnt/d/UChicago/Q4/ADSP 3244.1M/68.2M [00:34<00:17,    1.48MB/s]\u001b[A\n",
      " 65%|██████▌   |/mnt/d/UChicago/Q4/ADSP 3244.4M/68.2M [00:35<00:16,    1.48MB/s]\u001b[A\n",
      " 66%|██████▌   |/mnt/d/UChicago/Q4/ADSP 3244.7M/68.2M [00:35<00:16,    1.48MB/s]\u001b[A\n",
      " 66%|██████▌   |/mnt/d/UChicago/Q4/ADSP 3245.0M/68.2M [00:35<00:16,    1.49MB/s]\u001b[A\n",
      " 66%|██████▋   |/mnt/d/UChicago/Q4/ADSP 3245.3M/68.2M [00:35<00:16,    1.47MB/s]\u001b[A\n",
      " 67%|██████▋   |/mnt/d/UChicago/Q4/ADSP 3245.6M/68.2M [00:36<00:15,    1.50MB/s]\u001b[A\n",
      " 67%|██████▋   |/mnt/d/UChicago/Q4/ADSP 3245.9M/68.2M [00:36<00:15,    1.48MB/s]\u001b[A\n",
      " 68%|██████▊   |/mnt/d/UChicago/Q4/ADSP 3246.2M/68.2M [00:36<00:15,    1.49MB/s]\u001b[A\n",
      " 68%|██████▊   |/mnt/d/UChicago/Q4/ADSP 3246.5M/68.2M [00:36<00:15,    1.48MB/s]\u001b[A\n",
      " 69%|██████▊   |/mnt/d/UChicago/Q4/ADSP 3246.8M/68.2M [00:36<00:15,    1.48MB/s]\u001b[A\n",
      " 69%|██████▉   |/mnt/d/UChicago/Q4/ADSP 3247.0M/68.2M [00:37<00:15,    1.48MB/s]\u001b[A\n",
      " 69%|██████▉   |/mnt/d/UChicago/Q4/ADSP 3247.3M/68.2M [00:37<00:14,    1.49MB/s]\u001b[A\n",
      " 70%|██████▉   |/mnt/d/UChicago/Q4/ADSP 3247.6M/68.2M [00:37<00:14,    1.50MB/s]\u001b[A\n",
      " 70%|███████   |/mnt/d/UChicago/Q4/ADSP 3247.9M/68.2M [00:37<00:14,    1.49MB/s]\u001b[A\n",
      " 71%|███████   |/mnt/d/UChicago/Q4/ADSP 3248.2M/68.2M [00:37<00:14,    1.49MB/s]\u001b[A\n",
      " 71%|███████   |/mnt/d/UChicago/Q4/ADSP 3248.5M/68.2M [00:38<00:13,    1.49MB/s]\u001b[A\n",
      " 72%|███████▏  |/mnt/d/UChicago/Q4/ADSP 3248.8M/68.2M [00:38<00:13,    1.48MB/s]\u001b[A\n",
      " 72%|███████▏  |/mnt/d/UChicago/Q4/ADSP 3249.0M/68.2M [00:38<00:13,    1.48MB/s]\u001b[A\n",
      " 72%|███████▏  |/mnt/d/UChicago/Q4/ADSP 3249.3M/68.2M [00:38<00:13,    1.49MB/s]\u001b[A\n",
      " 73%|███████▎  |/mnt/d/UChicago/Q4/ADSP 3249.6M/68.2M [00:38<00:13,    1.48MB/s]\u001b[A\n",
      " 73%|███████▎  |/mnt/d/UChicago/Q4/ADSP 3249.9M/68.2M [00:39<00:12,    1.48MB/s]\u001b[A\n",
      " 74%|███████▎  |/mnt/d/UChicago/Q4/ADSP 3250.2M/68.2M [00:39<00:13,    1.38MB/s]\u001b[A\n",
      " 74%|███████▍  |/mnt/d/UChicago/Q4/ADSP 3250.6M/68.2M [00:39<00:12,    1.52MB/s]\u001b[A\n",
      " 75%|███████▍  |/mnt/d/UChicago/Q4/ADSP 3250.9M/68.2M [00:39<00:12,    1.52MB/s]\u001b[A\n",
      " 75%|███████▍  |/mnt/d/UChicago/Q4/ADSP 3251.1M/68.2M [00:39<00:11,    1.50MB/s]\u001b[A\n",
      " 75%|███████▌  |/mnt/d/UChicago/Q4/ADSP 3251.4M/68.2M [00:40<00:11,    1.49MB/s]\u001b[A\n",
      " 76%|███████▌  |/mnt/d/UChicago/Q4/ADSP 3251.7M/68.2M [00:40<00:11,    1.49MB/s]\u001b[A\n",
      " 76%|███████▌  |/mnt/d/UChicago/Q4/ADSP 3252.0M/68.2M [00:40<00:11,    1.48MB/s]\u001b[A\n",
      " 76%|███████▋  |/mnt/d/UChicago/Q4/ADSP 3252.2M/68.2M [00:40<00:11,    1.49MB/s]\u001b[A\n",
      " 77%|███████▋  |/mnt/d/UChicago/Q4/ADSP 3252.4M/68.2M [00:40<00:11,    1.49MB/s]\u001b[A\n",
      " 77%|███████▋  |/mnt/d/UChicago/Q4/ADSP 3252.7M/68.2M [00:41<00:10,    1.49MB/s]\u001b[A\n",
      " 78%|███████▊  |/mnt/d/UChicago/Q4/ADSP 3253.0M/68.2M [00:41<00:10,    1.48MB/s]\u001b[A\n",
      " 78%|███████▊  |/mnt/d/UChicago/Q4/ADSP 3253.3M/68.2M [00:41<00:10,    1.50MB/s]\u001b[A\n",
      " 79%|███████▊  |/mnt/d/UChicago/Q4/ADSP 3253.6M/68.2M [00:41<00:10,    1.49MB/s]\u001b[A\n",
      " 79%|███████▉  |/mnt/d/UChicago/Q4/ADSP 3253.9M/68.2M [00:41<00:10,    1.49MB/s]\u001b[A\n",
      " 79%|███████▉  |/mnt/d/UChicago/Q4/ADSP 3254.2M/68.2M [00:42<00:10,    1.47MB/s]\u001b[A\n",
      " 80%|███████▉  |/mnt/d/UChicago/Q4/ADSP 3254.5M/68.2M [00:42<00:09,    1.48MB/s]\u001b[A\n",
      " 80%|████████  |/mnt/d/UChicago/Q4/ADSP 3254.8M/68.2M [00:42<00:09,    1.47MB/s]\u001b[A\n",
      " 81%|████████  |/mnt/d/UChicago/Q4/ADSP 3255.1M/68.2M [00:42<00:09,    1.49MB/s]\u001b[A\n",
      " 81%|████████  |/mnt/d/UChicago/Q4/ADSP 3255.4M/68.2M [00:42<00:09,    1.48MB/s]\u001b[A\n",
      " 82%|████████▏ |/mnt/d/UChicago/Q4/ADSP 3255.7M/68.2M [00:43<00:08,    1.49MB/s]\u001b[A\n",
      " 82%|████████▏ |/mnt/d/UChicago/Q4/ADSP 3255.9M/68.2M [00:43<00:08,    1.50MB/s]\u001b[A\n",
      " 82%|████████▏ |/mnt/d/UChicago/Q4/ADSP 3256.2M/68.2M [00:43<00:08,    1.49MB/s]\u001b[A\n",
      " 83%|████████▎ |/mnt/d/UChicago/Q4/ADSP 3256.5M/68.2M [00:43<00:08,    1.49MB/s]\u001b[A\n",
      " 83%|████████▎ |/mnt/d/UChicago/Q4/ADSP 3256.8M/68.2M [00:43<00:08,    1.48MB/s]\u001b[A\n",
      " 84%|████████▎ |/mnt/d/UChicago/Q4/ADSP 3257.1M/68.2M [00:44<00:07,    1.49MB/s]\u001b[A\n",
      " 84%|████████▍ |/mnt/d/UChicago/Q4/ADSP 3257.4M/68.2M [00:44<00:07,    1.48MB/s]\u001b[A\n",
      " 84%|████████▍ |/mnt/d/UChicago/Q4/ADSP 3257.6M/68.2M [00:44<00:07,    1.49MB/s]\u001b[A\n",
      " 85%|████████▍ |/mnt/d/UChicago/Q4/ADSP 3257.9M/68.2M [00:44<00:07,    1.48MB/s]\u001b[A\n",
      " 85%|████████▌ |/mnt/d/UChicago/Q4/ADSP 3258.2M/68.2M [00:44<00:07,    1.48MB/s]\u001b[A\n",
      " 86%|████████▌ |/mnt/d/UChicago/Q4/ADSP 3258.5M/68.2M [00:45<00:06,    1.48MB/s]\u001b[A\n",
      " 86%|████████▌ |/mnt/d/UChicago/Q4/ADSP 3258.8M/68.2M [00:45<00:06,    1.49MB/s]\u001b[A\n",
      " 87%|████████▋ |/mnt/d/UChicago/Q4/ADSP 3259.1M/68.2M [00:45<00:06,    1.50MB/s]\u001b[A\n",
      " 87%|████████▋ |/mnt/d/UChicago/Q4/ADSP 3259.4M/68.2M [00:45<00:06,    1.49MB/s]\u001b[A\n",
      " 87%|████████▋ |/mnt/d/UChicago/Q4/ADSP 3259.7M/68.2M [00:45<00:06,    1.48MB/s]\u001b[A\n",
      " 88%|████████▊ |/mnt/d/UChicago/Q4/ADSP 3260.0M/68.2M [00:46<00:05,    1.48MB/s]\u001b[A\n",
      " 88%|████████▊ |/mnt/d/UChicago/Q4/ADSP 3260.3M/68.2M [00:46<00:05,    1.48MB/s]\u001b[A\n",
      " 89%|████████▉ |/mnt/d/UChicago/Q4/ADSP 3260.6M/68.2M [00:46<00:05,    1.49MB/s]\u001b[A\n",
      " 89%|████████▉ |/mnt/d/UChicago/Q4/ADSP 3260.9M/68.2M [00:46<00:05,    1.48MB/s]\u001b[A\n",
      " 90%|████████▉ |/mnt/d/UChicago/Q4/ADSP 3261.2M/68.2M [00:47<00:04,    1.49MB/s]\u001b[A\n",
      " 90%|█████████ |/mnt/d/UChicago/Q4/ADSP 3261.5M/68.2M [00:47<00:04,    1.48MB/s]\u001b[A\n",
      " 90%|█████████ |/mnt/d/UChicago/Q4/ADSP 3261.8M/68.2M [00:47<00:04,    1.50MB/s]\u001b[A\n",
      " 91%|█████████ |/mnt/d/UChicago/Q4/ADSP 3262.0M/68.2M [00:47<00:04,    1.49MB/s]\u001b[A\n",
      " 91%|█████████▏|/mnt/d/UChicago/Q4/ADSP 3262.3M/68.2M [00:47<00:04,    1.49MB/s]\u001b[A\n",
      " 92%|█████████▏|/mnt/d/UChicago/Q4/ADSP 3262.6M/68.2M [00:48<00:03,    1.48MB/s]\u001b[A\n",
      " 92%|█████████▏|/mnt/d/UChicago/Q4/ADSP 3262.9M/68.2M [00:48<00:03,    1.49MB/s]\u001b[A\n",
      " 93%|█████████▎|/mnt/d/UChicago/Q4/ADSP 3263.2M/68.2M [00:48<00:03,    1.48MB/s]\u001b[A\n",
      " 93%|█████████▎|/mnt/d/UChicago/Q4/ADSP 3263.5M/68.2M [00:48<00:03,    1.49MB/s]\u001b[A\n",
      " 93%|█████████▎|/mnt/d/UChicago/Q4/ADSP 3263.8M/68.2M [00:48<00:03,    1.48MB/s]\u001b[A\n",
      " 94%|█████████▍|/mnt/d/UChicago/Q4/ADSP 3264.1M/68.2M [00:49<00:02,    1.49MB/s]\u001b[A\n",
      " 94%|█████████▍|/mnt/d/UChicago/Q4/ADSP 3264.4M/68.2M [00:49<00:02,    1.48MB/s]\u001b[A\n",
      " 95%|█████████▍|/mnt/d/UChicago/Q4/ADSP 3264.7M/68.2M [00:49<00:02,    1.50MB/s]\u001b[A\n",
      " 95%|█████████▌|/mnt/d/UChicago/Q4/ADSP 3265.0M/68.2M [00:49<00:02,    1.48MB/s]\u001b[A\n",
      " 96%|█████████▌|/mnt/d/UChicago/Q4/ADSP 3265.3M/68.2M [00:49<00:02,    1.49MB/s]\u001b[A\n",
      " 96%|█████████▌|/mnt/d/UChicago/Q4/ADSP 3265.6M/68.2M [00:50<00:01,    1.48MB/s]\u001b[A\n",
      " 97%|█████████▋|/mnt/d/UChicago/Q4/ADSP 3265.9M/68.2M [00:50<00:01,    1.47MB/s]\u001b[A\n",
      " 97%|█████████▋|/mnt/d/UChicago/Q4/ADSP 3266.1M/68.2M [00:50<00:01,    1.47MB/s]\u001b[A\n",
      " 97%|█████████▋|/mnt/d/UChicago/Q4/ADSP 3266.4M/68.2M [00:50<00:01,    1.49MB/s]\u001b[A\n",
      " 98%|█████████▊|/mnt/d/UChicago/Q4/ADSP 3266.7M/68.2M [00:50<00:01,    1.47MB/s]\u001b[A\n",
      " 98%|█████████▊|/mnt/d/UChicago/Q4/ADSP 3267.0M/68.2M [00:51<00:00,    1.46MB/s]\u001b[A\n",
      " 99%|█████████▊|/mnt/d/UChicago/Q4/ADSP 3267.3M/68.2M [00:51<00:00,    1.48MB/s]\u001b[A\n",
      " 99%|█████████▉|/mnt/d/UChicago/Q4/ADSP 3267.5M/68.2M [00:51<00:00,    1.48MB/s]\u001b[A\n",
      " 99%|█████████▉|/mnt/d/UChicago/Q4/ADSP 3267.8M/68.2M [00:51<00:00,    1.49MB/s]\u001b[A\n",
      "100% Pushing to gdrive://1i8QDLTjDwMzeznRjHizajHFaEFA3O17U/files/md5|█|1/1 [00:5\u001b[A\n",
      "1 file pushed                                                                   \u001b[A\n",
      "\u001b[0m"
     ]
    }
   ],
   "source": [
    "!dvc push"
   ]
  },
  {
   "cell_type": "code",
   "execution_count": 45,
   "id": "d5c19eed-2395-4244-a792-ad237f44b2d5",
   "metadata": {
    "tags": []
   },
   "outputs": [],
   "source": [
    "import pandas as pd\n",
    "import numpy as np"
   ]
  },
  {
   "cell_type": "markdown",
   "id": "ed0e41ed-d423-4eeb-b523-5e39a24283bc",
   "metadata": {},
   "source": [
    "# 1. Dataset Version 1"
   ]
  },
  {
   "cell_type": "markdown",
   "id": "6321ec2a-2b56-4c58-9b36-6034d974196e",
   "metadata": {},
   "source": [
    "#### Clean cache to fresh pull the raw data as v1"
   ]
  },
  {
   "cell_type": "code",
   "execution_count": 46,
   "id": "471dfb45-c06a-410f-a688-333be1364f90",
   "metadata": {
    "tags": []
   },
   "outputs": [
    {
     "name": "stdout",
     "output_type": "stream",
     "text": [
      "Collecting                                            |1.00 [00:00,  189entry/s]\n",
      "Fetching\n",
      "!\u001b[A\n",
      "  0% Checking cache in '/mnt/d/UChicago/Q4/ADSP 32021 Machine Learning Operation\u001b[A\n",
      "Fetching                                                                        \u001b[A\n",
      "Building workspace index                              |1.00 [00:00,  116entry/s]\n",
      "Comparing indexes                                     |3.00 [00:00,  690entry/s]\n",
      "Applying changes                                      |0.00 [00:00,     ?file/s]\n",
      "!\u001b[A\n",
      "  0%|          |/mnt/d/UChicago/Q4/ADSP 32021 Machi0.00/? [00:00<?,        ?B/s]\u001b[A\n",
      "  0%|          |/mnt/d/UChicago/Q4/ADSP 32021 M0.00/68.2M [00:00<?,        ?B/s]\u001b[A\n",
      " 29%|██▉       |/mnt/d/UChicago/Q4/ADSP 3220.0M/68.2M [00:00<00:00,     203MB/s]\u001b[A\n",
      " 64%|██████▍   |/mnt/d/UChicago/Q4/ADSP 3244.0M/68.2M [00:00<00:00,     229MB/s]\u001b[A\n",
      "Applying changes                                      |1.00 [00:00,  2.90file/s]\u001b[A\n",
      "\u001b[32mA\u001b[0m       data/athletes.csv\n",
      "1 file added\n",
      "\u001b[0m"
     ]
    }
   ],
   "source": [
    "!rm -f data/athletes.csv\n",
    "!rm -f dvc/cache\n",
    "!dvc pull"
   ]
  },
  {
   "cell_type": "code",
   "execution_count": 47,
   "id": "5c3def7c-3270-4232-84f7-cb5240147d3f",
   "metadata": {},
   "outputs": [
    {
     "name": "stdout",
     "output_type": "stream",
     "text": [
      "total 81M\n",
      "-rwxrwxrwx 1 mariafshan mariafshan 69M Oct 16 15:39 athletes.csv\n",
      "-rwxrwxrwx 1 mariafshan mariafshan 111 Oct 16 15:38 athletes.csv.dvc\n",
      "-rwxrwxrwx 1 mariafshan mariafshan 13M Oct 16 13:43 athletes.csv.zip\n"
     ]
    }
   ],
   "source": [
    "!ls -lh data"
   ]
  },
  {
   "cell_type": "code",
   "execution_count": 49,
   "id": "82b47214-2c9c-4954-b6f6-16276b53abcc",
   "metadata": {
    "tags": []
   },
   "outputs": [
    {
     "data": {
      "text/plain": [
       "(423006, 27)"
      ]
     },
     "execution_count": 49,
     "metadata": {},
     "output_type": "execute_result"
    }
   ],
   "source": [
    "data = pd.read_csv(\"data/athletes.csv\")\n",
    "data.shape"
   ]
  },
  {
   "cell_type": "code",
   "execution_count": 50,
   "id": "62311acc-3fca-4d49-b19b-1628d4a19af2",
   "metadata": {
    "tags": []
   },
   "outputs": [
    {
     "data": {
      "text/html": [
       "<div>\n",
       "<style scoped>\n",
       "    .dataframe tbody tr th:only-of-type {\n",
       "        vertical-align: middle;\n",
       "    }\n",
       "\n",
       "    .dataframe tbody tr th {\n",
       "        vertical-align: top;\n",
       "    }\n",
       "\n",
       "    .dataframe thead th {\n",
       "        text-align: right;\n",
       "    }\n",
       "</style>\n",
       "<table border=\"1\" class=\"dataframe\">\n",
       "  <thead>\n",
       "    <tr style=\"text-align: right;\">\n",
       "      <th></th>\n",
       "      <th>athlete_id</th>\n",
       "      <th>name</th>\n",
       "      <th>region</th>\n",
       "      <th>team</th>\n",
       "      <th>affiliate</th>\n",
       "      <th>gender</th>\n",
       "      <th>age</th>\n",
       "      <th>height</th>\n",
       "      <th>weight</th>\n",
       "      <th>fran</th>\n",
       "      <th>...</th>\n",
       "      <th>snatch</th>\n",
       "      <th>deadlift</th>\n",
       "      <th>backsq</th>\n",
       "      <th>pullups</th>\n",
       "      <th>eat</th>\n",
       "      <th>train</th>\n",
       "      <th>background</th>\n",
       "      <th>experience</th>\n",
       "      <th>schedule</th>\n",
       "      <th>howlong</th>\n",
       "    </tr>\n",
       "  </thead>\n",
       "  <tbody>\n",
       "    <tr>\n",
       "      <th>0</th>\n",
       "      <td>2554.0</td>\n",
       "      <td>Pj Ablang</td>\n",
       "      <td>South West</td>\n",
       "      <td>Double Edge</td>\n",
       "      <td>Double Edge CrossFit</td>\n",
       "      <td>Male</td>\n",
       "      <td>24.0</td>\n",
       "      <td>70.0</td>\n",
       "      <td>166.0</td>\n",
       "      <td>NaN</td>\n",
       "      <td>...</td>\n",
       "      <td>NaN</td>\n",
       "      <td>400.0</td>\n",
       "      <td>305.0</td>\n",
       "      <td>NaN</td>\n",
       "      <td>NaN</td>\n",
       "      <td>I workout mostly at a CrossFit Affiliate|I hav...</td>\n",
       "      <td>I played youth or high school level sports|I r...</td>\n",
       "      <td>I began CrossFit with a coach (e.g. at an affi...</td>\n",
       "      <td>I do multiple workouts in a day 2x a week|</td>\n",
       "      <td>4+ years|</td>\n",
       "    </tr>\n",
       "  </tbody>\n",
       "</table>\n",
       "<p>1 rows × 27 columns</p>\n",
       "</div>"
      ],
      "text/plain": [
       "   athlete_id       name      region         team             affiliate  \\\n",
       "0      2554.0  Pj Ablang  South West  Double Edge  Double Edge CrossFit   \n",
       "\n",
       "  gender   age  height  weight  fran  ...  snatch  deadlift  backsq  pullups  \\\n",
       "0   Male  24.0    70.0   166.0   NaN  ...     NaN     400.0   305.0      NaN   \n",
       "\n",
       "   eat                                              train  \\\n",
       "0  NaN  I workout mostly at a CrossFit Affiliate|I hav...   \n",
       "\n",
       "                                          background  \\\n",
       "0  I played youth or high school level sports|I r...   \n",
       "\n",
       "                                          experience  \\\n",
       "0  I began CrossFit with a coach (e.g. at an affi...   \n",
       "\n",
       "                                     schedule    howlong  \n",
       "0  I do multiple workouts in a day 2x a week|  4+ years|  \n",
       "\n",
       "[1 rows x 27 columns]"
      ]
     },
     "execution_count": 50,
     "metadata": {},
     "output_type": "execute_result"
    }
   ],
   "source": [
    "data.head(1)"
   ]
  },
  {
   "cell_type": "markdown",
   "id": "53f2d24d-d62d-4f17-80fd-ca76d55c73a6",
   "metadata": {},
   "source": [
    "# 2. Dataset Version 2"
   ]
  },
  {
   "cell_type": "markdown",
   "id": "5cd274ec-0fc7-48bf-a879-85bd6cc3d05d",
   "metadata": {},
   "source": [
    "## 2.1. Remove Irrelevant Columns"
   ]
  },
  {
   "cell_type": "code",
   "execution_count": 51,
   "id": "e94c81d7-6e8a-4bfc-9e17-234833c82b9b",
   "metadata": {
    "tags": []
   },
   "outputs": [],
   "source": [
    "data = data.dropna(subset=['region','age','weight','height','howlong','gender','eat', \\\n",
    "                           'train','background','experience','schedule','howlong', \\\n",
    "                           'deadlift','candj','snatch','backsq','experience',\\\n",
    "                           'background','schedule','howlong'])\n",
    "data = data.drop(columns=['affiliate','team','name','athlete_id','fran','helen','grace',\\\n",
    "                          'filthy50','fgonebad','run400','run5k','pullups','train'])"
   ]
  },
  {
   "cell_type": "markdown",
   "id": "4da8f6ec-2809-4774-827b-638a79aea7b2",
   "metadata": {},
   "source": [
    "## 2.2. Remove Outliers"
   ]
  },
  {
   "cell_type": "code",
   "execution_count": 54,
   "id": "4e008e80-74e6-4494-ad2d-94a9d098a0e1",
   "metadata": {
    "tags": []
   },
   "outputs": [],
   "source": [
    "data = data[data['weight'] < 1500]\n",
    "data = data[data['gender'] != '--']\n",
    "data = data[data['age'] >= 18]\n",
    "data = data[(data['height'] < 96) & (data['height'] > 48)]"
   ]
  },
  {
   "cell_type": "code",
   "execution_count": 55,
   "id": "caf9dce0-6f85-42df-9894-4993e5327bbb",
   "metadata": {
    "tags": []
   },
   "outputs": [],
   "source": [
    "data = data[(data['deadlift'] > 0) & (data['deadlift'] <= 1105)|((data['gender'] == 'Female') \\\n",
    "             & (data['deadlift'] <= 636))]\n",
    "data = data[(data['candj'] > 0) & (data['candj'] <= 395)]\n",
    "data = data[(data['snatch'] > 0) & (data['snatch'] <= 496)]\n",
    "data = data[(data['backsq'] > 0) & (data['backsq'] <= 1069)]"
   ]
  },
  {
   "cell_type": "markdown",
   "id": "23aba59d-0a18-469d-b2e7-5506d1b5ed4e",
   "metadata": {},
   "source": [
    "## 2.3. Clean Survey Responses"
   ]
  },
  {
   "cell_type": "code",
   "execution_count": 57,
   "id": "f69b6768-5764-4849-bcc5-aa92242c0626",
   "metadata": {},
   "outputs": [
    {
     "data": {
      "text/plain": [
       "(30029, 14)"
      ]
     },
     "execution_count": 57,
     "metadata": {},
     "output_type": "execute_result"
    }
   ],
   "source": [
    "decline_dict = {'Decline to answer|': np.nan}\n",
    "data = data.replace(decline_dict)\n",
    "data = data.dropna(subset=['background','experience','schedule','howlong','eat'])\n",
    "data.shape"
   ]
  },
  {
   "cell_type": "code",
   "execution_count": 58,
   "id": "6a5c0036-ca56-43eb-bd21-29daaa30e965",
   "metadata": {},
   "outputs": [
    {
     "data": {
      "text/html": [
       "<div>\n",
       "<style scoped>\n",
       "    .dataframe tbody tr th:only-of-type {\n",
       "        vertical-align: middle;\n",
       "    }\n",
       "\n",
       "    .dataframe tbody tr th {\n",
       "        vertical-align: top;\n",
       "    }\n",
       "\n",
       "    .dataframe thead th {\n",
       "        text-align: right;\n",
       "    }\n",
       "</style>\n",
       "<table border=\"1\" class=\"dataframe\">\n",
       "  <thead>\n",
       "    <tr style=\"text-align: right;\">\n",
       "      <th></th>\n",
       "      <th>region</th>\n",
       "      <th>gender</th>\n",
       "      <th>age</th>\n",
       "      <th>height</th>\n",
       "      <th>weight</th>\n",
       "      <th>candj</th>\n",
       "      <th>snatch</th>\n",
       "      <th>deadlift</th>\n",
       "      <th>backsq</th>\n",
       "      <th>eat</th>\n",
       "      <th>background</th>\n",
       "      <th>experience</th>\n",
       "      <th>schedule</th>\n",
       "      <th>howlong</th>\n",
       "    </tr>\n",
       "  </thead>\n",
       "  <tbody>\n",
       "    <tr>\n",
       "      <th>21</th>\n",
       "      <td>Southern California</td>\n",
       "      <td>Male</td>\n",
       "      <td>30.0</td>\n",
       "      <td>71.0</td>\n",
       "      <td>200.0</td>\n",
       "      <td>235.0</td>\n",
       "      <td>175.0</td>\n",
       "      <td>385.0</td>\n",
       "      <td>315.0</td>\n",
       "      <td>I eat whatever is convenient|</td>\n",
       "      <td>I played youth or high school level sports|I p...</td>\n",
       "      <td>I began CrossFit by trying it alone (without a...</td>\n",
       "      <td>I do multiple workouts in a day 1x a week|I ty...</td>\n",
       "      <td>1-2 years|</td>\n",
       "    </tr>\n",
       "  </tbody>\n",
       "</table>\n",
       "</div>"
      ],
      "text/plain": [
       "                 region gender   age  height  weight  candj  snatch  deadlift  \\\n",
       "21  Southern California   Male  30.0    71.0   200.0  235.0   175.0     385.0   \n",
       "\n",
       "    backsq                            eat  \\\n",
       "21   315.0  I eat whatever is convenient|   \n",
       "\n",
       "                                           background  \\\n",
       "21  I played youth or high school level sports|I p...   \n",
       "\n",
       "                                           experience  \\\n",
       "21  I began CrossFit by trying it alone (without a...   \n",
       "\n",
       "                                             schedule     howlong  \n",
       "21  I do multiple workouts in a day 1x a week|I ty...  1-2 years|  "
      ]
     },
     "execution_count": 58,
     "metadata": {},
     "output_type": "execute_result"
    }
   ],
   "source": [
    "data.head(1)"
   ]
  },
  {
   "cell_type": "markdown",
   "id": "57b83f5c-c29a-49b7-898d-72cde6844cb8",
   "metadata": {},
   "source": [
    "### Save Data V.2 & Push to Cloud Storage"
   ]
  },
  {
   "cell_type": "code",
   "execution_count": 59,
   "id": "ad560c52-b56b-41d2-bc1c-bcff3f3b7be7",
   "metadata": {},
   "outputs": [],
   "source": [
    "data.to_csv(\"data/athletes.csv\", index=False)"
   ]
  },
  {
   "cell_type": "code",
   "execution_count": 60,
   "id": "4b116451-065f-46e9-b4d5-19b5a9b28dd1",
   "metadata": {},
   "outputs": [
    {
     "name": "stdout",
     "output_type": "stream",
     "text": [
      "total 23M\n",
      "-rwxrwxrwx 1 mariafshan mariafshan 11M Oct 16 15:41 athletes.csv\n",
      "-rwxrwxrwx 1 mariafshan mariafshan 111 Oct 16 15:38 athletes.csv.dvc\n",
      "-rwxrwxrwx 1 mariafshan mariafshan 13M Oct 16 13:43 athletes.csv.zip\n"
     ]
    }
   ],
   "source": [
    "# checking that the file is updated\n",
    "!ls -lh data"
   ]
  },
  {
   "cell_type": "code",
   "execution_count": 61,
   "id": "a46a28c6-cc4c-44d3-bf71-22c7ac17196a",
   "metadata": {
    "collapsed": true,
    "jupyter": {
     "outputs_hidden": true
    },
    "tags": []
   },
   "outputs": [
    {
     "name": "stdout",
     "output_type": "stream",
     "text": [
      "\u001b[?25l\u001b[32m⠋\u001b[0m Checking graph                                       core\u001b[39m>\n",
      "Adding...                                                                       \n",
      "!\u001b[A\n",
      "Collecting files and computing hashes in data/athletes.csv |0.00 [00:00,     ?fi\u001b[A\n",
      "                                                                                \u001b[A\n",
      "!\u001b[A\n",
      "  0% Checking cache in '/mnt/d/UChicago/Q4/ADSP 32021 Machine Learning Operation\u001b[A\n",
      "                                                                                \u001b[A\n",
      "!\u001b[A\n",
      "  0%|          |Adding data/athletes.csv to cache     0/? [00:00<?,     ?file/s]\u001b[A\n",
      "  0%|          |Adding data/athletes.csv to cache     0/1 [00:00<?,     ?file/s]\u001b[A\n",
      "  0%|          |Adding data/athletes.csv to cache     0/1 [00:00<?,     ?file/s]\u001b[A\n",
      "                                                                                \u001b[A\n",
      "!\u001b[A\n",
      "  0%|          |Checking out /mnt/d/UChicago/Q4/ADSP 30/? [00:00<?,    ?files/s]\u001b[A\n",
      "  0%|          |Checking out /mnt/d/UChicago/Q4/ADSP 30/1 [00:00<?,    ?files/s]\u001b[A\n",
      "100% Adding...|████████████████████████████████████████|1/1 [00:00,  2.66file/s]\u001b[A\n",
      "\n",
      "To track the changes with git, run:\n",
      "\n",
      "\tgit add data/athletes.csv.dvc\n",
      "\n",
      "To enable auto staging, run:\n",
      "\n",
      "\tdvc config core.autostage true\n",
      "\u001b[0m[master 88f3c51] Dataset update to v2\n",
      " 1 file changed, 2 insertions(+), 2 deletions(-)\n",
      "  0% Pushing to gdrive://1i8QDLTjDwMzeznRjHizajHFaEFA3O17U/files/md5| |0/1 [00:0\n",
      "!\u001b[A\n",
      "  0%|          |/mnt/d/UChicago/Q4/ADSP 32021 Machi0.00/? [00:00<?,        ?B/s]\u001b[A\n",
      "  0%|          |/mnt/d/UChicago/Q4/ADSP 32021 M0.00/10.3M [00:00<?,        ?B/s]\u001b[A\n",
      "  0%|          |/mnt/d/UChicago/Q4/ADSP 328.00k/10.3M [00:02<47:44,    3.76kB/s]\u001b[A\n",
      "  7%|▋         |/mnt/d/UChicago/Q4/ADSP 320704k/10.3M [00:02<00:24,     411kB/s]\u001b[A\n",
      "  9%|▉         |/mnt/d/UChicago/Q4/ADSP 320944k/10.3M [00:02<00:18,     540kB/s]\u001b[A\n",
      " 11%|█▏        |/mnt/d/UChicago/Q4/ADSP 321.16M/10.3M [00:02<00:14,     677kB/s]\u001b[A\n",
      " 14%|█▎        |/mnt/d/UChicago/Q4/ADSP 321.39M/10.3M [00:02<00:11,     817kB/s]\u001b[A\n",
      " 16%|█▌        |/mnt/d/UChicago/Q4/ADSP 321.62M/10.3M [00:03<00:09,     944kB/s]\u001b[A\n",
      " 18%|█▊        |/mnt/d/UChicago/Q4/ADSP 321.86M/10.3M [00:03<00:08,    1.06MB/s]\u001b[A\n",
      " 20%|██        |/mnt/d/UChicago/Q4/ADSP 322.09M/10.3M [00:03<00:07,    1.16MB/s]\u001b[A\n",
      " 23%|██▎       |/mnt/d/UChicago/Q4/ADSP 322.33M/10.3M [00:03<00:06,    1.26MB/s]\u001b[A\n",
      " 25%|██▍       |/mnt/d/UChicago/Q4/ADSP 322.56M/10.3M [00:03<00:06,    1.31MB/s]\u001b[A\n",
      " 27%|██▋       |/mnt/d/UChicago/Q4/ADSP 322.80M/10.3M [00:03<00:05,    1.36MB/s]\u001b[A\n",
      " 29%|██▉       |/mnt/d/UChicago/Q4/ADSP 323.03M/10.3M [00:04<00:05,    1.40MB/s]\u001b[A\n",
      " 32%|███▏      |/mnt/d/UChicago/Q4/ADSP 323.27M/10.3M [00:04<00:05,    1.42MB/s]\u001b[A\n",
      " 34%|███▍      |/mnt/d/UChicago/Q4/ADSP 323.50M/10.3M [00:04<00:04,    1.44MB/s]\u001b[A\n",
      " 36%|███▋      |/mnt/d/UChicago/Q4/ADSP 323.73M/10.3M [00:04<00:04,    1.45MB/s]\u001b[A\n",
      " 39%|███▊      |/mnt/d/UChicago/Q4/ADSP 323.97M/10.3M [00:04<00:04,    1.47MB/s]\u001b[A\n",
      " 41%|████      |/mnt/d/UChicago/Q4/ADSP 324.20M/10.3M [00:04<00:04,    1.46MB/s]\u001b[A\n",
      " 43%|████▎     |/mnt/d/UChicago/Q4/ADSP 324.44M/10.3M [00:05<00:04,    1.48MB/s]\u001b[A\n",
      " 45%|████▌     |/mnt/d/UChicago/Q4/ADSP 324.67M/10.3M [00:05<00:03,    1.48MB/s]\u001b[A\n",
      " 48%|████▊     |/mnt/d/UChicago/Q4/ADSP 324.91M/10.3M [00:05<00:03,    1.47MB/s]\u001b[A\n",
      " 50%|█████     |/mnt/d/UChicago/Q4/ADSP 325.14M/10.3M [00:05<00:03,    1.46MB/s]\u001b[A\n",
      " 52%|█████▏    |/mnt/d/UChicago/Q4/ADSP 325.38M/10.3M [00:05<00:03,    1.50MB/s]\u001b[A\n",
      " 55%|█████▍    |/mnt/d/UChicago/Q4/ADSP 325.61M/10.3M [00:05<00:03,    1.50MB/s]\u001b[A\n",
      " 57%|█████▋    |/mnt/d/UChicago/Q4/ADSP 325.84M/10.3M [00:06<00:03,    1.49MB/s]\u001b[A\n",
      " 59%|█████▉    |/mnt/d/UChicago/Q4/ADSP 326.08M/10.3M [00:06<00:02,    1.49MB/s]\u001b[A\n",
      " 61%|██████▏   |/mnt/d/UChicago/Q4/ADSP 326.31M/10.3M [00:06<00:02,    1.48MB/s]\u001b[A\n",
      " 64%|██████▎   |/mnt/d/UChicago/Q4/ADSP 326.55M/10.3M [00:06<00:02,    1.49MB/s]\u001b[A\n",
      " 66%|██████▌   |/mnt/d/UChicago/Q4/ADSP 326.78M/10.3M [00:06<00:02,    1.48MB/s]\u001b[A\n",
      " 68%|██████▊   |/mnt/d/UChicago/Q4/ADSP 327.02M/10.3M [00:06<00:02,    1.48MB/s]\u001b[A\n",
      " 71%|███████   |/mnt/d/UChicago/Q4/ADSP 327.25M/10.3M [00:07<00:02,    1.49MB/s]\u001b[A\n",
      " 73%|███████▎  |/mnt/d/UChicago/Q4/ADSP 327.48M/10.3M [00:07<00:01,    1.47MB/s]\u001b[A\n",
      " 75%|███████▌  |/mnt/d/UChicago/Q4/ADSP 327.72M/10.3M [00:07<00:01,    1.47MB/s]\u001b[A\n",
      " 77%|███████▋  |/mnt/d/UChicago/Q4/ADSP 327.95M/10.3M [00:07<00:01,    1.50MB/s]\u001b[A\n",
      " 80%|███████▉  |/mnt/d/UChicago/Q4/ADSP 328.19M/10.3M [00:07<00:01,    1.49MB/s]\u001b[A\n",
      " 82%|████████▏ |/mnt/d/UChicago/Q4/ADSP 328.42M/10.3M [00:07<00:01,    1.49MB/s]\u001b[A\n",
      " 84%|████████▍ |/mnt/d/UChicago/Q4/ADSP 328.66M/10.3M [00:08<00:01,    1.48MB/s]\u001b[A\n",
      " 87%|████████▋ |/mnt/d/UChicago/Q4/ADSP 328.89M/10.3M [00:08<00:00,    1.49MB/s]\u001b[A\n",
      " 89%|████████▉ |/mnt/d/UChicago/Q4/ADSP 329.12M/10.3M [00:08<00:00,    1.48MB/s]\u001b[A\n",
      " 91%|█████████ |/mnt/d/UChicago/Q4/ADSP 329.36M/10.3M [00:08<00:00,    1.48MB/s]\u001b[A\n",
      " 93%|█████████▎|/mnt/d/UChicago/Q4/ADSP 329.59M/10.3M [00:08<00:00,    1.48MB/s]\u001b[A\n",
      " 96%|█████████▌|/mnt/d/UChicago/Q4/ADSP 329.83M/10.3M [00:08<00:00,    1.48MB/s]\u001b[A\n",
      "100% Pushing to gdrive://1i8QDLTjDwMzeznRjHizajHFaEFA3O17U/files/md5|█|1/1 [00:1\u001b[A\n",
      "1 file pushed                                                                   \u001b[A\n",
      "\u001b[0m"
     ]
    }
   ],
   "source": [
    "# # remove tracker to update file\n",
    "# !git rm -r --cached 'data/athletes.csv'\n",
    "# !git commit -m \"stop tracking data/athletes.csv\"\n",
    "\n",
    "# push updated file\n",
    "!dvc add data/athletes.csv\n",
    "!git add data/athletes.csv.dvc\n",
    "!git commit -m \"Dataset update to v2\"\n",
    "!dvc push"
   ]
  },
  {
   "cell_type": "markdown",
   "id": "de09de70-66b9-43f0-8430-6b2693f0999b",
   "metadata": {},
   "source": [
    "# 3. For both versions calculate total_lift and divide dataset into train and test, keeping the same split ratio."
   ]
  },
  {
   "cell_type": "markdown",
   "id": "8622d5cb-2913-43da-ae50-27b466c4d63a",
   "metadata": {},
   "source": [
    "## 3.1 total_lift for V1"
   ]
  },
  {
   "cell_type": "markdown",
   "id": "ca379edf-22e1-4b28-a98d-5e9e495be584",
   "metadata": {},
   "source": [
    "### 3.1.1 Load V1 data"
   ]
  },
  {
   "cell_type": "code",
   "execution_count": 62,
   "id": "70e0dbc5-3d41-4ea2-9dd6-fb9d1f7f3158",
   "metadata": {},
   "outputs": [
    {
     "name": "stdout",
     "output_type": "stream",
     "text": [
      "\u001b[33m88f3c51\u001b[m\u001b[33m (\u001b[m\u001b[1;36mHEAD -> \u001b[m\u001b[1;32mmaster\u001b[m\u001b[33m)\u001b[m Dataset update to v2\n",
      "\u001b[33m3f8ec5b\u001b[m add raw (v1) athletes.csv\n",
      "\u001b[33ma119039\u001b[m Configure remote storage\n"
     ]
    }
   ],
   "source": [
    "!git log --oneline"
   ]
  },
  {
   "cell_type": "code",
   "execution_count": 63,
   "id": "07b1e81d-9ffe-46bd-acd1-1cfc3f9fdee9",
   "metadata": {},
   "outputs": [
    {
     "name": "stdout",
     "output_type": "stream",
     "text": [
      "Updated 1 path from e3504f6\n",
      "Building workspace index                              |2.00 [00:00,  174entry/s]\n",
      "Comparing indexes                                    |3.00 [00:00, 1.30kentry/s]\n",
      "Applying changes                                      |0.00 [00:00,     ?file/s]\n",
      "!\u001b[A\n",
      "  0%|          |/mnt/d/UChicago/Q4/ADSP 32021 Machi0.00/? [00:00<?,        ?B/s]\u001b[A\n",
      "  0%|          |/mnt/d/UChicago/Q4/ADSP 32021 M0.00/68.2M [00:00<?,        ?B/s]\u001b[A\n",
      " 29%|██▉       |/mnt/d/UChicago/Q4/ADSP 3220.0M/68.2M [00:00<00:00,     209MB/s]\u001b[A\n",
      " 66%|██████▌   |/mnt/d/UChicago/Q4/ADSP 3245.0M/68.2M [00:00<00:00,     236MB/s]\u001b[A\n",
      "Applying changes                                      |1.00 [00:00,  2.96file/s]\u001b[A\n",
      "\u001b[33mM\u001b[0m       data/athletes.csv\n",
      "\u001b[0m"
     ]
    }
   ],
   "source": [
    "!git checkout HEAD^1 data/athletes.csv.dvc\n",
    "!dvc checkout"
   ]
  },
  {
   "cell_type": "code",
   "execution_count": 64,
   "id": "b0f0212a-1062-43d8-950f-5b0b8b6fe02f",
   "metadata": {},
   "outputs": [
    {
     "name": "stdout",
     "output_type": "stream",
     "text": [
      "v1 dimension: (423006, 27)\n",
      "v2 dimension: (30029, 14)\n"
     ]
    }
   ],
   "source": [
    "v1 = pd.read_csv(\"data/athletes.csv\")\n",
    "print(\"v1 dimension:\", v1.shape)\n",
    "print(\"v2 dimension:\", data.shape)"
   ]
  },
  {
   "cell_type": "markdown",
   "id": "a50db60b-2ba7-4660-8f05-2b1498400bce",
   "metadata": {},
   "source": [
    "### 3.1.2 Calculate Total Lift for Data V1"
   ]
  },
  {
   "cell_type": "code",
   "execution_count": 65,
   "id": "4577eb05-f8c8-40d0-97d9-09d2c661f542",
   "metadata": {
    "tags": []
   },
   "outputs": [],
   "source": [
    "v1[\"total_lift\"] = v1[\"deadlift\"] + v1['candj'] + v1['snatch'] + v1['backsq']"
   ]
  },
  {
   "cell_type": "code",
   "execution_count": 66,
   "id": "cb08c56b-155f-4b59-9b86-a13f0f21c962",
   "metadata": {
    "tags": []
   },
   "outputs": [
    {
     "data": {
      "text/plain": [
       "0       NaN\n",
       "1       NaN\n",
       "2       NaN\n",
       "3    1145.0\n",
       "4       NaN\n",
       "Name: total_lift, dtype: float64"
      ]
     },
     "execution_count": 66,
     "metadata": {},
     "output_type": "execute_result"
    }
   ],
   "source": [
    "v1[\"total_lift\"].head()"
   ]
  },
  {
   "cell_type": "markdown",
   "id": "eb3c65d4-e3c9-41d9-a1b1-183521fc6c37",
   "metadata": {},
   "source": [
    "### 3.1.3 Save Data v1 with total lift & Push to Cloud Storage"
   ]
  },
  {
   "cell_type": "code",
   "execution_count": 67,
   "id": "e90d5b0f-0836-436a-80d6-a889273d05f7",
   "metadata": {
    "tags": []
   },
   "outputs": [],
   "source": [
    "v1.to_csv(\"data/athletes.csv\", index=False)"
   ]
  },
  {
   "cell_type": "code",
   "execution_count": 68,
   "id": "3c4a0f92-791c-4231-913c-1ceb9e23c82a",
   "metadata": {
    "tags": []
   },
   "outputs": [
    {
     "name": "stdout",
     "output_type": "stream",
     "text": [
      "total 81M\n",
      "-rwxrwxrwx 1 mariafshan mariafshan 69M Oct 16 15:42 athletes.csv\n",
      "-rwxrwxrwx 1 mariafshan mariafshan 111 Oct 16 15:42 athletes.csv.dvc\n",
      "-rwxrwxrwx 1 mariafshan mariafshan 13M Oct 16 13:43 athletes.csv.zip\n"
     ]
    }
   ],
   "source": [
    "# checking that the file is updated\n",
    "!ls -lh data"
   ]
  },
  {
   "cell_type": "code",
   "execution_count": 69,
   "id": "7a4aae1c-50d3-4ade-af2f-ecb8b153f073",
   "metadata": {
    "collapsed": true,
    "jupyter": {
     "outputs_hidden": true
    },
    "tags": []
   },
   "outputs": [
    {
     "name": "stdout",
     "output_type": "stream",
     "text": [
      "\u001b[?25l\u001b[32m⠋\u001b[0m Checking graph                                       core\u001b[39m>\n",
      "Adding...                                                                       \n",
      "!\u001b[A\n",
      "Collecting files and computing hashes in data/athletes.csv |0.00 [00:00,     ?fi\u001b[A\n",
      "                                                                                \u001b[A\n",
      "!\u001b[A\n",
      "  0% Checking cache in '/mnt/d/UChicago/Q4/ADSP 32021 Machine Learning Operation\u001b[A\n",
      "                                                                                \u001b[A\n",
      "!\u001b[A\n",
      "  0%|          |Adding data/athletes.csv to cache     0/? [00:00<?,     ?file/s]\u001b[A\n",
      "  0%|          |Adding data/athletes.csv to cache     0/1 [00:00<?,     ?file/s]\u001b[A\n",
      "  0%|          |Adding data/athletes.csv to cache     0/1 [00:00<?,     ?file/s]\u001b[A\n",
      "                                                                                \u001b[A\n",
      "!\u001b[A\n",
      "  0%|          |Checking out /mnt/d/UChicago/Q4/ADSP 30/? [00:00<?,    ?files/s]\u001b[A\n",
      "  0%|          |Checking out /mnt/d/UChicago/Q4/ADSP 30/1 [00:00<?,    ?files/s]\u001b[A\n",
      "100%|██████████|Checking out /mnt/d/UChicago/Q4/A1/1 [00:00<00:00,  3.03files/s]\u001b[A\n",
      "100% Adding...|████████████████████████████████████████|1/1 [00:00,  1.14file/s]\u001b[A\n",
      "\n",
      "To track the changes with git, run:\n",
      "\n",
      "\tgit add data/athletes.csv.dvc\n",
      "\n",
      "To enable auto staging, run:\n",
      "\n",
      "\tdvc config core.autostage true\n",
      "\u001b[0m[master c0b7957] Updated V1 Data with total lift\n",
      " 1 file changed, 2 insertions(+), 2 deletions(-)\n",
      "  0% Pushing to gdrive://1i8QDLTjDwMzeznRjHizajHFaEFA3O17U/files/md5| |0/1 [00:0\n",
      "!\u001b[A\n",
      "  0%|          |/mnt/d/UChicago/Q4/ADSP 32021 Machi0.00/? [00:00<?,        ?B/s]\u001b[A\n",
      "  0%|          |/mnt/d/UChicago/Q4/ADSP 32021 M0.00/68.7M [00:00<?,        ?B/s]\u001b[A\n",
      "  0%|          |/mnt/d/UChicago/Q4/ADSP 8.00k/68.7M [00:01<4:50:50,    4.13kB/s]\u001b[A\n",
      "  1%|          |/mnt/d/UChicago/Q4/ADSP 320408k/68.7M [00:02<04:22,     273kB/s]\u001b[A\n",
      "  1%|          |/mnt/d/UChicago/Q4/ADSP 320592k/68.7M [00:02<02:54,     409kB/s]\u001b[A\n",
      "  1%|          |/mnt/d/UChicago/Q4/ADSP 320768k/68.7M [00:02<02:07,     558kB/s]\u001b[A\n",
      "  1%|▏         |/mnt/d/UChicago/Q4/ADSP 320952k/68.7M [00:02<01:37,     732kB/s]\u001b[A\n",
      "  2%|▏         |/mnt/d/UChicago/Q4/ADSP 321.10M/68.7M [00:02<01:19,     896kB/s]\u001b[A\n",
      "  2%|▏         |/mnt/d/UChicago/Q4/ADSP 321.34M/68.7M [00:02<01:06,    1.06MB/s]\u001b[A\n",
      "  2%|▏         |/mnt/d/UChicago/Q4/ADSP 321.57M/68.7M [00:02<00:57,    1.22MB/s]\u001b[A\n",
      "  3%|▎         |/mnt/d/UChicago/Q4/ADSP 321.80M/68.7M [00:03<00:53,    1.30MB/s]\u001b[A\n",
      "  3%|▎         |/mnt/d/UChicago/Q4/ADSP 322.04M/68.7M [00:03<00:52,    1.34MB/s]\u001b[A\n",
      "  3%|▎         |/mnt/d/UChicago/Q4/ADSP 322.27M/68.7M [00:03<00:50,    1.39MB/s]\u001b[A\n",
      "  4%|▎         |/mnt/d/UChicago/Q4/ADSP 322.51M/68.7M [00:03<00:49,    1.41MB/s]\u001b[A\n",
      "  4%|▍         |/mnt/d/UChicago/Q4/ADSP 322.74M/68.7M [00:03<00:48,    1.43MB/s]\u001b[A\n",
      "  4%|▍         |/mnt/d/UChicago/Q4/ADSP 322.98M/68.7M [00:03<00:47,    1.44MB/s]\u001b[A\n",
      "  5%|▍         |/mnt/d/UChicago/Q4/ADSP 323.21M/68.7M [00:04<00:47,    1.45MB/s]\u001b[A\n",
      "  5%|▌         |/mnt/d/UChicago/Q4/ADSP 323.45M/68.7M [00:04<00:46,    1.48MB/s]\u001b[A\n",
      "  5%|▌         |/mnt/d/UChicago/Q4/ADSP 323.68M/68.7M [00:04<00:46,    1.48MB/s]\u001b[A\n",
      "  6%|▌         |/mnt/d/UChicago/Q4/ADSP 323.91M/68.7M [00:04<00:46,    1.47MB/s]\u001b[A\n",
      "  6%|▌         |/mnt/d/UChicago/Q4/ADSP 324.15M/68.7M [00:04<00:45,    1.49MB/s]\u001b[A\n",
      "  6%|▋         |/mnt/d/UChicago/Q4/ADSP 324.38M/68.7M [00:04<00:45,    1.48MB/s]\u001b[A\n",
      "  7%|▋         |/mnt/d/UChicago/Q4/ADSP 324.62M/68.7M [00:05<00:45,    1.48MB/s]\u001b[A\n",
      "  7%|▋         |/mnt/d/UChicago/Q4/ADSP 324.85M/68.7M [00:05<00:45,    1.48MB/s]\u001b[A\n",
      "  7%|▋         |/mnt/d/UChicago/Q4/ADSP 325.09M/68.7M [00:05<00:45,    1.47MB/s]\u001b[A\n",
      "  8%|▊         |/mnt/d/UChicago/Q4/ADSP 325.32M/68.7M [00:05<00:44,    1.48MB/s]\u001b[A\n",
      "  8%|▊         |/mnt/d/UChicago/Q4/ADSP 325.55M/68.7M [00:05<00:44,    1.49MB/s]\u001b[A\n",
      "  8%|▊         |/mnt/d/UChicago/Q4/ADSP 325.79M/68.7M [00:05<00:44,    1.48MB/s]\u001b[A\n",
      "  9%|▉         |/mnt/d/UChicago/Q4/ADSP 326.02M/68.7M [00:05<00:44,    1.49MB/s]\u001b[A\n",
      "  9%|▉         |/mnt/d/UChicago/Q4/ADSP 326.26M/68.7M [00:06<00:43,    1.51MB/s]\u001b[A\n",
      "  9%|▉         |/mnt/d/UChicago/Q4/ADSP 326.49M/68.7M [00:06<00:43,    1.50MB/s]\u001b[A\n",
      " 10%|▉         |/mnt/d/UChicago/Q4/ADSP 326.73M/68.7M [00:06<00:43,    1.49MB/s]\u001b[A\n",
      " 10%|█         |/mnt/d/UChicago/Q4/ADSP 326.96M/68.7M [00:06<00:43,    1.49MB/s]\u001b[A\n",
      " 10%|█         |/mnt/d/UChicago/Q4/ADSP 327.20M/68.7M [00:06<00:43,    1.48MB/s]\u001b[A\n",
      " 11%|█         |/mnt/d/UChicago/Q4/ADSP 327.43M/68.7M [00:06<00:43,    1.48MB/s]\u001b[A\n",
      " 11%|█         |/mnt/d/UChicago/Q4/ADSP 327.66M/68.7M [00:07<00:44,    1.43MB/s]\u001b[A\n",
      " 12%|█▏        |/mnt/d/UChicago/Q4/ADSP 327.90M/68.7M [00:07<00:43,    1.46MB/s]\u001b[A\n",
      " 12%|█▏        |/mnt/d/UChicago/Q4/ADSP 328.13M/68.7M [00:07<00:43,    1.47MB/s]\u001b[A\n",
      " 12%|█▏        |/mnt/d/UChicago/Q4/ADSP 328.37M/68.7M [00:07<00:42,    1.47MB/s]\u001b[A\n",
      " 13%|█▎        |/mnt/d/UChicago/Q4/ADSP 328.60M/68.7M [00:07<00:42,    1.48MB/s]\u001b[A\n",
      " 13%|█▎        |/mnt/d/UChicago/Q4/ADSP 328.84M/68.7M [00:07<00:42,    1.47MB/s]\u001b[A\n",
      " 13%|█▎        |/mnt/d/UChicago/Q4/ADSP 329.07M/68.7M [00:08<00:42,    1.47MB/s]\u001b[A\n",
      " 14%|█▎        |/mnt/d/UChicago/Q4/ADSP 329.30M/68.7M [00:08<00:42,    1.47MB/s]\u001b[A\n",
      " 14%|█▍        |/mnt/d/UChicago/Q4/ADSP 329.54M/68.7M [00:08<00:42,    1.47MB/s]\u001b[A\n",
      " 14%|█▍        |/mnt/d/UChicago/Q4/ADSP 329.77M/68.7M [00:08<00:41,    1.48MB/s]\u001b[A\n",
      " 15%|█▍        |/mnt/d/UChicago/Q4/ADSP 3210.0M/68.7M [00:08<00:41,    1.48MB/s]\u001b[A\n",
      " 15%|█▍        |/mnt/d/UChicago/Q4/ADSP 3210.2M/68.7M [00:08<00:41,    1.48MB/s]\u001b[A\n",
      " 15%|█▌        |/mnt/d/UChicago/Q4/ADSP 3210.5M/68.7M [00:09<00:41,    1.48MB/s]\u001b[A\n",
      " 16%|█▌        |/mnt/d/UChicago/Q4/ADSP 3210.7M/68.7M [00:09<00:41,    1.48MB/s]\u001b[A\n",
      " 16%|█▌        |/mnt/d/UChicago/Q4/ADSP 3210.9M/68.7M [00:09<00:44,    1.37MB/s]\u001b[A\n",
      " 16%|█▋        |/mnt/d/UChicago/Q4/ADSP 3211.2M/68.7M [00:09<00:39,    1.54MB/s]\u001b[A\n",
      " 17%|█▋        |/mnt/d/UChicago/Q4/ADSP 3211.5M/68.7M [00:09<00:39,    1.53MB/s]\u001b[A\n",
      " 17%|█▋        |/mnt/d/UChicago/Q4/ADSP 3211.7M/68.7M [00:10<00:39,    1.52MB/s]\u001b[A\n",
      " 17%|█▋        |/mnt/d/UChicago/Q4/ADSP 3211.9M/68.7M [00:10<00:40,    1.48MB/s]\u001b[A\n",
      " 18%|█▊        |/mnt/d/UChicago/Q4/ADSP 3212.2M/68.7M [00:10<00:39,    1.51MB/s]\u001b[A\n",
      " 18%|█▊        |/mnt/d/UChicago/Q4/ADSP 3212.4M/68.7M [00:10<00:39,    1.49MB/s]\u001b[A\n",
      " 18%|█▊        |/mnt/d/UChicago/Q4/ADSP 3212.6M/68.7M [00:10<00:39,    1.48MB/s]\u001b[A\n",
      " 19%|█▉        |/mnt/d/UChicago/Q4/ADSP 3212.9M/68.7M [00:10<00:39,    1.49MB/s]\u001b[A\n",
      " 19%|█▉        |/mnt/d/UChicago/Q4/ADSP 3213.1M/68.7M [00:11<00:39,    1.48MB/s]\u001b[A\n",
      " 19%|█▉        |/mnt/d/UChicago/Q4/ADSP 3213.4M/68.7M [00:11<00:39,    1.48MB/s]\u001b[A\n",
      " 20%|█▉        |/mnt/d/UChicago/Q4/ADSP 3213.6M/68.7M [00:11<00:38,    1.48MB/s]\u001b[A\n",
      " 20%|██        |/mnt/d/UChicago/Q4/ADSP 3213.8M/68.7M [00:11<00:38,    1.49MB/s]\u001b[A\n",
      " 20%|██        |/mnt/d/UChicago/Q4/ADSP 3214.1M/68.7M [00:11<00:38,    1.47MB/s]\u001b[A\n",
      " 21%|██        |/mnt/d/UChicago/Q4/ADSP 3214.3M/68.7M [00:11<00:37,    1.51MB/s]\u001b[A\n",
      " 21%|██        |/mnt/d/UChicago/Q4/ADSP 3214.5M/68.7M [00:12<00:37,    1.50MB/s]\u001b[A\n",
      " 21%|██▏       |/mnt/d/UChicago/Q4/ADSP 3214.8M/68.7M [00:12<00:37,    1.49MB/s]\u001b[A\n",
      " 22%|██▏       |/mnt/d/UChicago/Q4/ADSP 3215.0M/68.7M [00:12<00:37,    1.49MB/s]\u001b[A\n",
      " 22%|██▏       |/mnt/d/UChicago/Q4/ADSP 3215.2M/68.7M [00:12<00:38,    1.46MB/s]\u001b[A\n",
      " 23%|██▎       |/mnt/d/UChicago/Q4/ADSP 3215.5M/68.7M [00:12<00:37,    1.49MB/s]\u001b[A\n",
      " 23%|██▎       |/mnt/d/UChicago/Q4/ADSP 3215.7M/68.7M [00:12<00:37,    1.49MB/s]\u001b[A\n",
      " 23%|██▎       |/mnt/d/UChicago/Q4/ADSP 3215.9M/68.7M [00:13<00:37,    1.48MB/s]\u001b[A\n",
      " 24%|██▎       |/mnt/d/UChicago/Q4/ADSP 3216.2M/68.7M [00:13<00:37,    1.49MB/s]\u001b[A\n",
      " 24%|██▍       |/mnt/d/UChicago/Q4/ADSP 3216.4M/68.7M [00:13<00:37,    1.44MB/s]\u001b[A\n",
      " 24%|██▍       |/mnt/d/UChicago/Q4/ADSP 3216.6M/68.7M [00:13<00:36,    1.50MB/s]\u001b[A\n",
      " 25%|██▍       |/mnt/d/UChicago/Q4/ADSP 3216.9M/68.7M [00:13<00:36,    1.49MB/s]\u001b[A\n",
      " 25%|██▍       |/mnt/d/UChicago/Q4/ADSP 3217.1M/68.7M [00:13<00:35,    1.51MB/s]\u001b[A\n",
      " 25%|██▌       |/mnt/d/UChicago/Q4/ADSP 3217.3M/68.7M [00:13<00:36,    1.49MB/s]\u001b[A\n",
      " 26%|██▌       |/mnt/d/UChicago/Q4/ADSP 3217.6M/68.7M [00:14<00:36,    1.48MB/s]\u001b[A\n",
      " 26%|██▌       |/mnt/d/UChicago/Q4/ADSP 3217.8M/68.7M [00:14<00:35,    1.49MB/s]\u001b[A\n",
      " 26%|██▋       |/mnt/d/UChicago/Q4/ADSP 3218.0M/68.7M [00:14<00:35,    1.48MB/s]\u001b[A\n",
      " 27%|██▋       |/mnt/d/UChicago/Q4/ADSP 3218.3M/68.7M [00:14<00:35,    1.48MB/s]\u001b[A\n",
      " 27%|██▋       |/mnt/d/UChicago/Q4/ADSP 3218.5M/68.7M [00:14<00:35,    1.48MB/s]\u001b[A\n",
      " 27%|██▋       |/mnt/d/UChicago/Q4/ADSP 3218.7M/68.7M [00:14<00:35,    1.48MB/s]\u001b[A\n",
      " 28%|██▊       |/mnt/d/UChicago/Q4/ADSP 3219.0M/68.7M [00:15<00:34,    1.50MB/s]\u001b[A\n",
      " 28%|██▊       |/mnt/d/UChicago/Q4/ADSP 3219.2M/68.7M [00:15<00:35,    1.47MB/s]\u001b[A\n",
      " 28%|██▊       |/mnt/d/UChicago/Q4/ADSP 3219.4M/68.7M [00:15<00:35,    1.47MB/s]\u001b[A\n",
      " 29%|██▊       |/mnt/d/UChicago/Q4/ADSP 3219.7M/68.7M [00:15<00:37,    1.38MB/s]\u001b[A\n",
      " 29%|██▉       |/mnt/d/UChicago/Q4/ADSP 3220.0M/68.7M [00:15<00:33,    1.53MB/s]\u001b[A\n",
      " 29%|██▉       |/mnt/d/UChicago/Q4/ADSP 3220.2M/68.7M [00:16<00:33,    1.51MB/s]\u001b[A\n",
      " 30%|██▉       |/mnt/d/UChicago/Q4/ADSP 3220.4M/68.7M [00:16<00:33,    1.50MB/s]\u001b[A\n",
      " 30%|███       |/mnt/d/UChicago/Q4/ADSP 3220.7M/68.7M [00:16<00:33,    1.49MB/s]\u001b[A\n",
      " 30%|███       |/mnt/d/UChicago/Q4/ADSP 3220.9M/68.7M [00:16<00:33,    1.49MB/s]\u001b[A\n",
      " 31%|███       |/mnt/d/UChicago/Q4/ADSP 3221.1M/68.7M [00:16<00:33,    1.47MB/s]\u001b[A\n",
      " 31%|███       |/mnt/d/UChicago/Q4/ADSP 3221.4M/68.7M [00:16<00:33,    1.48MB/s]\u001b[A\n",
      " 31%|███▏      |/mnt/d/UChicago/Q4/ADSP 3221.6M/68.7M [00:17<00:33,    1.49MB/s]\u001b[A\n",
      " 32%|███▏      |/mnt/d/UChicago/Q4/ADSP 3221.8M/68.7M [00:17<00:33,    1.49MB/s]\u001b[A\n",
      " 32%|███▏      |/mnt/d/UChicago/Q4/ADSP 3222.1M/68.7M [00:17<00:33,    1.48MB/s]\u001b[A\n",
      " 32%|███▏      |/mnt/d/UChicago/Q4/ADSP 3222.3M/68.7M [00:17<00:32,    1.49MB/s]\u001b[A\n",
      " 33%|███▎      |/mnt/d/UChicago/Q4/ADSP 3222.5M/68.7M [00:17<00:32,    1.47MB/s]\u001b[A\n",
      " 33%|███▎      |/mnt/d/UChicago/Q4/ADSP 3222.8M/68.7M [00:17<00:32,    1.50MB/s]\u001b[A\n",
      " 34%|███▎      |/mnt/d/UChicago/Q4/ADSP 3223.0M/68.7M [00:18<00:31,    1.50MB/s]\u001b[A\n",
      " 34%|███▍      |/mnt/d/UChicago/Q4/ADSP 3223.2M/68.7M [00:18<00:31,    1.50MB/s]\u001b[A\n",
      " 34%|███▍      |/mnt/d/UChicago/Q4/ADSP 3223.5M/68.7M [00:18<00:31,    1.49MB/s]\u001b[A\n",
      " 35%|███▍      |/mnt/d/UChicago/Q4/ADSP 3223.7M/68.7M [00:18<00:31,    1.48MB/s]\u001b[A\n",
      " 35%|███▍      |/mnt/d/UChicago/Q4/ADSP 3224.0M/68.7M [00:18<00:31,    1.47MB/s]\u001b[A\n",
      " 35%|███▌      |/mnt/d/UChicago/Q4/ADSP 3224.2M/68.7M [00:18<00:31,    1.47MB/s]\u001b[A\n",
      " 36%|███▌      |/mnt/d/UChicago/Q4/ADSP 3224.4M/68.7M [00:19<00:31,    1.49MB/s]\u001b[A\n",
      " 36%|███▌      |/mnt/d/UChicago/Q4/ADSP 3224.7M/68.7M [00:19<00:31,    1.48MB/s]\u001b[A\n",
      " 36%|███▌      |/mnt/d/UChicago/Q4/ADSP 3224.9M/68.7M [00:19<00:30,    1.48MB/s]\u001b[A\n",
      " 37%|███▋      |/mnt/d/UChicago/Q4/ADSP 3225.1M/68.7M [00:19<00:30,    1.48MB/s]\u001b[A\n",
      " 37%|███▋      |/mnt/d/UChicago/Q4/ADSP 3225.4M/68.7M [00:19<00:30,    1.48MB/s]\u001b[A\n",
      " 37%|███▋      |/mnt/d/UChicago/Q4/ADSP 3225.6M/68.7M [00:19<00:32,    1.41MB/s]\u001b[A\n",
      " 38%|███▊      |/mnt/d/UChicago/Q4/ADSP 3225.8M/68.7M [00:19<00:29,    1.53MB/s]\u001b[A\n",
      " 38%|███▊      |/mnt/d/UChicago/Q4/ADSP 3226.1M/68.7M [00:20<00:29,    1.52MB/s]\u001b[A\n",
      " 38%|███▊      |/mnt/d/UChicago/Q4/ADSP 3226.3M/68.7M [00:20<00:29,    1.51MB/s]\u001b[A\n",
      " 39%|███▊      |/mnt/d/UChicago/Q4/ADSP 3226.5M/68.7M [00:20<00:29,    1.50MB/s]\u001b[A\n",
      " 39%|███▉      |/mnt/d/UChicago/Q4/ADSP 3226.8M/68.7M [00:20<00:29,    1.50MB/s]\u001b[A\n",
      " 39%|███▉      |/mnt/d/UChicago/Q4/ADSP 3227.0M/68.7M [00:20<00:29,    1.49MB/s]\u001b[A\n",
      " 40%|███▉      |/mnt/d/UChicago/Q4/ADSP 3227.2M/68.7M [00:20<00:29,    1.48MB/s]\u001b[A\n",
      " 40%|███▉      |/mnt/d/UChicago/Q4/ADSP 3227.5M/68.7M [00:21<00:29,    1.49MB/s]\u001b[A\n",
      " 40%|████      |/mnt/d/UChicago/Q4/ADSP 3227.7M/68.7M [00:21<00:28,    1.48MB/s]\u001b[A\n",
      " 41%|████      |/mnt/d/UChicago/Q4/ADSP 3227.9M/68.7M [00:21<00:28,    1.48MB/s]\u001b[A\n",
      " 41%|████      |/mnt/d/UChicago/Q4/ADSP 3228.2M/68.7M [00:21<00:28,    1.48MB/s]\u001b[A\n",
      " 41%|████▏     |/mnt/d/UChicago/Q4/ADSP 3228.4M/68.7M [00:21<00:28,    1.48MB/s]\u001b[A\n",
      " 42%|████▏     |/mnt/d/UChicago/Q4/ADSP 3228.6M/68.7M [00:21<00:28,    1.49MB/s]\u001b[A\n",
      " 42%|████▏     |/mnt/d/UChicago/Q4/ADSP 3228.9M/68.7M [00:22<00:27,    1.51MB/s]\u001b[A\n",
      " 42%|████▏     |/mnt/d/UChicago/Q4/ADSP 3229.1M/68.7M [00:22<00:27,    1.50MB/s]\u001b[A\n",
      " 43%|████▎     |/mnt/d/UChicago/Q4/ADSP 3229.3M/68.7M [00:22<00:27,    1.50MB/s]\u001b[A\n",
      " 43%|████▎     |/mnt/d/UChicago/Q4/ADSP 3229.6M/68.7M [00:22<00:27,    1.49MB/s]\u001b[A\n",
      " 43%|████▎     |/mnt/d/UChicago/Q4/ADSP 3229.8M/68.7M [00:22<00:27,    1.49MB/s]\u001b[A\n",
      " 44%|████▍     |/mnt/d/UChicago/Q4/ADSP 3230.0M/68.7M [00:22<00:27,    1.48MB/s]\u001b[A\n",
      " 44%|████▍     |/mnt/d/UChicago/Q4/ADSP 3230.3M/68.7M [00:23<00:27,    1.48MB/s]\u001b[A\n",
      " 44%|████▍     |/mnt/d/UChicago/Q4/ADSP 3230.5M/68.7M [00:23<00:26,    1.48MB/s]\u001b[A\n",
      " 45%|████▍     |/mnt/d/UChicago/Q4/ADSP 3230.8M/68.7M [00:23<00:26,    1.47MB/s]\u001b[A\n",
      " 45%|████▌     |/mnt/d/UChicago/Q4/ADSP 3231.0M/68.7M [00:23<00:26,    1.48MB/s]\u001b[A\n",
      " 45%|████▌     |/mnt/d/UChicago/Q4/ADSP 3231.2M/68.7M [00:23<00:26,    1.49MB/s]\u001b[A\n",
      " 46%|████▌     |/mnt/d/UChicago/Q4/ADSP 3231.5M/68.7M [00:23<00:26,    1.48MB/s]\u001b[A\n",
      " 46%|████▌     |/mnt/d/UChicago/Q4/ADSP 3231.7M/68.7M [00:24<00:25,    1.51MB/s]\u001b[A\n",
      " 46%|████▋     |/mnt/d/UChicago/Q4/ADSP 3231.9M/68.7M [00:24<00:25,    1.50MB/s]\u001b[A\n",
      " 47%|████▋     |/mnt/d/UChicago/Q4/ADSP 3232.2M/68.7M [00:24<00:25,    1.50MB/s]\u001b[A\n",
      " 47%|████▋     |/mnt/d/UChicago/Q4/ADSP 3232.4M/68.7M [00:24<00:25,    1.49MB/s]\u001b[A\n",
      " 48%|████▊     |/mnt/d/UChicago/Q4/ADSP 3232.6M/68.7M [00:24<00:25,    1.49MB/s]\u001b[A\n",
      " 48%|████▊     |/mnt/d/UChicago/Q4/ADSP 3232.9M/68.7M [00:24<00:25,    1.48MB/s]\u001b[A\n",
      " 48%|████▊     |/mnt/d/UChicago/Q4/ADSP 3233.1M/68.7M [00:25<00:25,    1.48MB/s]\u001b[A\n",
      " 49%|████▊     |/mnt/d/UChicago/Q4/ADSP 3233.3M/68.7M [00:25<00:24,    1.49MB/s]\u001b[A\n",
      " 49%|████▉     |/mnt/d/UChicago/Q4/ADSP 3233.6M/68.7M [00:25<00:24,    1.47MB/s]\u001b[A\n",
      " 49%|████▉     |/mnt/d/UChicago/Q4/ADSP 3233.8M/68.7M [00:25<00:24,    1.47MB/s]\u001b[A\n",
      " 50%|████▉     |/mnt/d/UChicago/Q4/ADSP 3234.0M/68.7M [00:25<00:24,    1.48MB/s]\u001b[A\n",
      " 50%|████▉     |/mnt/d/UChicago/Q4/ADSP 3234.3M/68.7M [00:25<00:24,    1.48MB/s]\u001b[A\n",
      " 50%|█████     |/mnt/d/UChicago/Q4/ADSP 3234.5M/68.7M [00:26<00:23,    1.51MB/s]\u001b[A\n",
      " 51%|█████     |/mnt/d/UChicago/Q4/ADSP 3234.7M/68.7M [00:26<00:23,    1.49MB/s]\u001b[A\n",
      " 51%|█████     |/mnt/d/UChicago/Q4/ADSP 3235.0M/68.7M [00:26<00:23,    1.50MB/s]\u001b[A\n",
      " 51%|█████▏    |/mnt/d/UChicago/Q4/ADSP 3235.2M/68.7M [00:26<00:23,    1.49MB/s]\u001b[A\n",
      " 52%|█████▏    |/mnt/d/UChicago/Q4/ADSP 3235.4M/68.7M [00:26<00:23,    1.48MB/s]\u001b[A\n",
      " 52%|█████▏    |/mnt/d/UChicago/Q4/ADSP 3235.7M/68.7M [00:26<00:23,    1.49MB/s]\u001b[A\n",
      " 52%|█████▏    |/mnt/d/UChicago/Q4/ADSP 3235.9M/68.7M [00:27<00:23,    1.47MB/s]\u001b[A\n",
      " 53%|█████▎    |/mnt/d/UChicago/Q4/ADSP 3236.1M/68.7M [00:27<00:23,    1.48MB/s]\u001b[A\n",
      " 53%|█████▎    |/mnt/d/UChicago/Q4/ADSP 3236.4M/68.7M [00:27<00:22,    1.48MB/s]\u001b[A\n",
      " 53%|█████▎    |/mnt/d/UChicago/Q4/ADSP 3236.6M/68.7M [00:27<00:22,    1.48MB/s]\u001b[A\n",
      " 54%|█████▎    |/mnt/d/UChicago/Q4/ADSP 3236.8M/68.7M [00:27<00:22,    1.49MB/s]\u001b[A\n",
      " 54%|█████▍    |/mnt/d/UChicago/Q4/ADSP 3237.1M/68.7M [00:27<00:22,    1.48MB/s]\u001b[A\n",
      " 54%|█████▍    |/mnt/d/UChicago/Q4/ADSP 3237.3M/68.7M [00:28<00:23,    1.43MB/s]\u001b[A\n",
      " 55%|█████▍    |/mnt/d/UChicago/Q4/ADSP 3237.5M/68.7M [00:28<00:21,    1.52MB/s]\u001b[A\n",
      " 55%|█████▌    |/mnt/d/UChicago/Q4/ADSP 3237.8M/68.7M [00:28<00:21,    1.51MB/s]\u001b[A\n",
      " 55%|█████▌    |/mnt/d/UChicago/Q4/ADSP 3238.0M/68.7M [00:28<00:21,    1.51MB/s]\u001b[A\n",
      " 56%|█████▌    |/mnt/d/UChicago/Q4/ADSP 3238.2M/68.7M [00:28<00:21,    1.50MB/s]\u001b[A\n",
      " 56%|█████▌    |/mnt/d/UChicago/Q4/ADSP 3238.5M/68.7M [00:28<00:21,    1.49MB/s]\u001b[A\n",
      " 56%|█████▋    |/mnt/d/UChicago/Q4/ADSP 3238.7M/68.7M [00:29<00:21,    1.49MB/s]\u001b[A\n",
      " 57%|█████▋    |/mnt/d/UChicago/Q4/ADSP 3239.0M/68.7M [00:29<00:20,    1.49MB/s]\u001b[A\n",
      " 57%|█████▋    |/mnt/d/UChicago/Q4/ADSP 3239.2M/68.7M [00:29<00:20,    1.48MB/s]\u001b[A\n",
      " 57%|█████▋    |/mnt/d/UChicago/Q4/ADSP 3239.4M/68.7M [00:29<00:20,    1.49MB/s]\u001b[A\n",
      " 58%|█████▊    |/mnt/d/UChicago/Q4/ADSP 3239.7M/68.7M [00:29<00:20,    1.48MB/s]\u001b[A\n",
      " 58%|█████▊    |/mnt/d/UChicago/Q4/ADSP 3239.9M/68.7M [00:29<00:20,    1.47MB/s]\u001b[A\n",
      " 58%|█████▊    |/mnt/d/UChicago/Q4/ADSP 3240.1M/68.7M [00:30<00:20,    1.48MB/s]\u001b[A\n",
      " 59%|█████▉    |/mnt/d/UChicago/Q4/ADSP 3240.4M/68.7M [00:30<00:20,    1.48MB/s]\u001b[A\n",
      " 59%|█████▉    |/mnt/d/UChicago/Q4/ADSP 3240.6M/68.7M [00:30<00:19,    1.51MB/s]\u001b[A\n",
      " 59%|█████▉    |/mnt/d/UChicago/Q4/ADSP 3240.8M/68.7M [00:30<00:19,    1.50MB/s]\u001b[A\n",
      " 60%|█████▉    |/mnt/d/UChicago/Q4/ADSP 3241.1M/68.7M [00:30<00:19,    1.49MB/s]\u001b[A\n",
      " 60%|██████    |/mnt/d/UChicago/Q4/ADSP 3241.3M/68.7M [00:30<00:19,    1.50MB/s]\u001b[A\n",
      " 60%|██████    |/mnt/d/UChicago/Q4/ADSP 3241.5M/68.7M [00:31<00:19,    1.49MB/s]\u001b[A\n",
      " 61%|██████    |/mnt/d/UChicago/Q4/ADSP 3241.8M/68.7M [00:31<00:19,    1.48MB/s]\u001b[A\n",
      " 61%|██████    |/mnt/d/UChicago/Q4/ADSP 3242.0M/68.7M [00:31<00:18,    1.49MB/s]\u001b[A\n",
      " 62%|██████▏   |/mnt/d/UChicago/Q4/ADSP 3242.2M/68.7M [00:31<00:18,    1.48MB/s]\u001b[A\n",
      " 62%|██████▏   |/mnt/d/UChicago/Q4/ADSP 3242.5M/68.7M [00:31<00:18,    1.48MB/s]\u001b[A\n",
      " 62%|██████▏   |/mnt/d/UChicago/Q4/ADSP 3242.7M/68.7M [00:31<00:18,    1.48MB/s]\u001b[A\n",
      " 63%|██████▎   |/mnt/d/UChicago/Q4/ADSP 3242.9M/68.7M [00:32<00:18,    1.48MB/s]\u001b[A\n",
      " 63%|██████▎   |/mnt/d/UChicago/Q4/ADSP 3243.2M/68.7M [00:32<00:17,    1.51MB/s]\u001b[A\n",
      " 63%|██████▎   |/mnt/d/UChicago/Q4/ADSP 3243.4M/68.7M [00:32<00:17,    1.49MB/s]\u001b[A\n",
      " 64%|██████▎   |/mnt/d/UChicago/Q4/ADSP 3243.6M/68.7M [00:32<00:17,    1.49MB/s]\u001b[A\n",
      " 64%|██████▍   |/mnt/d/UChicago/Q4/ADSP 3243.9M/68.7M [00:32<00:17,    1.49MB/s]\u001b[A\n",
      " 64%|██████▍   |/mnt/d/UChicago/Q4/ADSP 3244.1M/68.7M [00:32<00:17,    1.49MB/s]\u001b[A\n",
      " 65%|██████▍   |/mnt/d/UChicago/Q4/ADSP 3244.3M/68.7M [00:33<00:17,    1.48MB/s]\u001b[A\n",
      " 65%|██████▍   |/mnt/d/UChicago/Q4/ADSP 3244.6M/68.7M [00:33<00:16,    1.49MB/s]\u001b[A\n",
      " 65%|██████▌   |/mnt/d/UChicago/Q4/ADSP 3244.8M/68.7M [00:33<00:17,    1.47MB/s]\u001b[A\n",
      " 66%|██████▌   |/mnt/d/UChicago/Q4/ADSP 3245.0M/68.7M [00:33<00:16,    1.48MB/s]\u001b[A\n",
      " 66%|██████▌   |/mnt/d/UChicago/Q4/ADSP 3245.3M/68.7M [00:33<00:16,    1.48MB/s]\u001b[A\n",
      " 66%|██████▋   |/mnt/d/UChicago/Q4/ADSP 3245.5M/68.7M [00:33<00:16,    1.49MB/s]\u001b[A\n",
      " 67%|██████▋   |/mnt/d/UChicago/Q4/ADSP 3245.8M/68.7M [00:34<00:15,    1.51MB/s]\u001b[A\n",
      " 67%|██████▋   |/mnt/d/UChicago/Q4/ADSP 3246.0M/68.7M [00:34<00:15,    1.50MB/s]\u001b[A\n",
      " 67%|██████▋   |/mnt/d/UChicago/Q4/ADSP 3246.2M/68.7M [00:34<00:15,    1.49MB/s]\u001b[A\n",
      " 68%|██████▊   |/mnt/d/UChicago/Q4/ADSP 3246.5M/68.7M [00:34<00:15,    1.49MB/s]\u001b[A\n",
      " 68%|██████▊   |/mnt/d/UChicago/Q4/ADSP 3246.7M/68.7M [00:34<00:15,    1.48MB/s]\u001b[A\n",
      " 68%|██████▊   |/mnt/d/UChicago/Q4/ADSP 3246.9M/68.7M [00:34<00:15,    1.48MB/s]\u001b[A\n",
      " 69%|██████▊   |/mnt/d/UChicago/Q4/ADSP 3247.2M/68.7M [00:35<00:15,    1.48MB/s]\u001b[A\n",
      " 69%|██████▉   |/mnt/d/UChicago/Q4/ADSP 3247.4M/68.7M [00:35<00:15,    1.47MB/s]\u001b[A\n",
      " 69%|██████▉   |/mnt/d/UChicago/Q4/ADSP 3247.6M/68.7M [00:35<00:14,    1.48MB/s]\u001b[A\n",
      " 70%|██████▉   |/mnt/d/UChicago/Q4/ADSP 3247.9M/68.7M [00:35<00:14,    1.47MB/s]\u001b[A\n",
      " 70%|███████   |/mnt/d/UChicago/Q4/ADSP 3248.1M/68.7M [00:35<00:14,    1.48MB/s]\u001b[A\n",
      " 70%|███████   |/mnt/d/UChicago/Q4/ADSP 3248.3M/68.7M [00:35<00:14,    1.49MB/s]\u001b[A\n",
      " 71%|███████   |/mnt/d/UChicago/Q4/ADSP 3248.6M/68.7M [00:36<00:14,    1.50MB/s]\u001b[A\n",
      " 71%|███████   |/mnt/d/UChicago/Q4/ADSP 3248.8M/68.7M [00:36<00:13,    1.50MB/s]\u001b[A\n",
      " 71%|███████▏  |/mnt/d/UChicago/Q4/ADSP 3249.0M/68.7M [00:36<00:13,    1.49MB/s]\u001b[A\n",
      " 72%|███████▏  |/mnt/d/UChicago/Q4/ADSP 3249.3M/68.7M [00:36<00:13,    1.49MB/s]\u001b[A\n",
      " 72%|███████▏  |/mnt/d/UChicago/Q4/ADSP 3249.5M/68.7M [00:36<00:13,    1.48MB/s]\u001b[A\n",
      " 72%|███████▏  |/mnt/d/UChicago/Q4/ADSP 3249.7M/68.7M [00:36<00:13,    1.47MB/s]\u001b[A\n",
      " 73%|███████▎  |/mnt/d/UChicago/Q4/ADSP 3250.0M/68.7M [00:37<00:13,    1.48MB/s]\u001b[A\n",
      " 73%|███████▎  |/mnt/d/UChicago/Q4/ADSP 3250.2M/68.7M [00:37<00:12,    1.49MB/s]\u001b[A\n",
      " 73%|███████▎  |/mnt/d/UChicago/Q4/ADSP 3250.4M/68.7M [00:37<00:12,    1.49MB/s]\u001b[A\n",
      " 74%|███████▍  |/mnt/d/UChicago/Q4/ADSP 3250.7M/68.7M [00:37<00:12,    1.48MB/s]\u001b[A\n",
      " 74%|███████▍  |/mnt/d/UChicago/Q4/ADSP 3250.9M/68.7M [00:37<00:12,    1.48MB/s]\u001b[A\n",
      " 74%|███████▍  |/mnt/d/UChicago/Q4/ADSP 3251.1M/68.7M [00:37<00:12,    1.48MB/s]\u001b[A\n",
      " 75%|███████▍  |/mnt/d/UChicago/Q4/ADSP 3251.4M/68.7M [00:38<00:12,    1.47MB/s]\u001b[A\n",
      " 75%|███████▌  |/mnt/d/UChicago/Q4/ADSP 3251.6M/68.7M [00:38<00:11,    1.50MB/s]\u001b[A\n",
      " 75%|███████▌  |/mnt/d/UChicago/Q4/ADSP 3251.8M/68.7M [00:38<00:12,    1.47MB/s]\u001b[A\n",
      " 76%|███████▌  |/mnt/d/UChicago/Q4/ADSP 3252.1M/68.7M [00:38<00:11,    1.49MB/s]\u001b[A\n",
      " 76%|███████▌  |/mnt/d/UChicago/Q4/ADSP 3252.3M/68.7M [00:38<00:11,    1.48MB/s]\u001b[A\n",
      " 77%|███████▋  |/mnt/d/UChicago/Q4/ADSP 3252.5M/68.7M [00:38<00:11,    1.49MB/s]\u001b[A\n",
      " 77%|███████▋  |/mnt/d/UChicago/Q4/ADSP 3252.8M/68.7M [00:39<00:11,    1.47MB/s]\u001b[A\n",
      " 77%|███████▋  |/mnt/d/UChicago/Q4/ADSP 3253.0M/68.7M [00:39<00:11,    1.47MB/s]\u001b[A\n",
      " 78%|███████▊  |/mnt/d/UChicago/Q4/ADSP 3253.2M/68.7M [00:39<00:10,    1.47MB/s]\u001b[A\n",
      " 78%|███████▊  |/mnt/d/UChicago/Q4/ADSP 3253.5M/68.7M [00:39<00:10,    1.48MB/s]\u001b[A\n",
      " 78%|███████▊  |/mnt/d/UChicago/Q4/ADSP 3253.7M/68.7M [00:39<00:10,    1.49MB/s]\u001b[A\n",
      " 79%|███████▊  |/mnt/d/UChicago/Q4/ADSP 3254.0M/68.7M [00:39<00:10,    1.47MB/s]\u001b[A\n",
      " 79%|███████▉  |/mnt/d/UChicago/Q4/ADSP 3254.2M/68.7M [00:40<00:10,    1.48MB/s]\u001b[A\n",
      " 79%|███████▉  |/mnt/d/UChicago/Q4/ADSP 3254.4M/68.7M [00:40<00:10,    1.48MB/s]\u001b[A\n",
      " 80%|███████▉  |/mnt/d/UChicago/Q4/ADSP 3254.7M/68.7M [00:40<00:09,    1.48MB/s]\u001b[A\n",
      " 80%|███████▉  |/mnt/d/UChicago/Q4/ADSP 3254.9M/68.7M [00:40<00:09,    1.48MB/s]\u001b[A\n",
      " 80%|████████  |/mnt/d/UChicago/Q4/ADSP 3255.1M/68.7M [00:40<00:09,    1.48MB/s]\u001b[A\n",
      " 81%|████████  |/mnt/d/UChicago/Q4/ADSP 3255.4M/68.7M [00:40<00:09,    1.47MB/s]\u001b[A\n",
      " 81%|████████  |/mnt/d/UChicago/Q4/ADSP 3255.6M/68.7M [00:41<00:09,    1.49MB/s]\u001b[A\n",
      " 81%|████████▏ |/mnt/d/UChicago/Q4/ADSP 3255.8M/68.7M [00:41<00:09,    1.47MB/s]\u001b[A\n",
      " 82%|████████▏ |/mnt/d/UChicago/Q4/ADSP 3256.1M/68.7M [00:41<00:08,    1.48MB/s]\u001b[A\n",
      " 82%|████████▏ |/mnt/d/UChicago/Q4/ADSP 3256.3M/68.7M [00:41<00:08,    1.46MB/s]\u001b[A\n",
      " 82%|████████▏ |/mnt/d/UChicago/Q4/ADSP 3256.5M/68.7M [00:41<00:08,    1.48MB/s]\u001b[A\n",
      " 83%|████████▎ |/mnt/d/UChicago/Q4/ADSP 3256.8M/68.7M [00:41<00:08,    1.49MB/s]\u001b[A\n",
      " 83%|████████▎ |/mnt/d/UChicago/Q4/ADSP 3257.0M/68.7M [00:42<00:08,    1.50MB/s]\u001b[A\n",
      " 83%|████████▎ |/mnt/d/UChicago/Q4/ADSP 3257.2M/68.7M [00:42<00:08,    1.49MB/s]\u001b[A\n",
      " 84%|████████▎ |/mnt/d/UChicago/Q4/ADSP 3257.5M/68.7M [00:42<00:07,    1.49MB/s]\u001b[A\n",
      " 84%|████████▍ |/mnt/d/UChicago/Q4/ADSP 3257.7M/68.7M [00:42<00:07,    1.48MB/s]\u001b[A\n",
      " 84%|████████▍ |/mnt/d/UChicago/Q4/ADSP 3257.9M/68.7M [00:42<00:07,    1.48MB/s]\u001b[A\n",
      " 85%|████████▍ |/mnt/d/UChicago/Q4/ADSP 3258.2M/68.7M [00:42<00:07,    1.48MB/s]\u001b[A\n",
      " 85%|████████▌ |/mnt/d/UChicago/Q4/ADSP 3258.4M/68.7M [00:43<00:07,    1.48MB/s]\u001b[A\n",
      " 85%|████████▌ |/mnt/d/UChicago/Q4/ADSP 3258.6M/68.7M [00:43<00:07,    1.48MB/s]\u001b[A\n",
      " 86%|████████▌ |/mnt/d/UChicago/Q4/ADSP 3258.9M/68.7M [00:43<00:06,    1.48MB/s]\u001b[A\n",
      " 86%|████████▌ |/mnt/d/UChicago/Q4/ADSP 3259.1M/68.7M [00:43<00:06,    1.49MB/s]\u001b[A\n",
      " 86%|████████▋ |/mnt/d/UChicago/Q4/ADSP 3259.3M/68.7M [00:43<00:06,    1.49MB/s]\u001b[A\n",
      " 87%|████████▋ |/mnt/d/UChicago/Q4/ADSP 3259.6M/68.7M [00:43<00:06,    1.48MB/s]\u001b[A\n",
      " 87%|████████▋ |/mnt/d/UChicago/Q4/ADSP 3259.8M/68.7M [00:43<00:06,    1.51MB/s]\u001b[A\n",
      " 87%|████████▋ |/mnt/d/UChicago/Q4/ADSP 3260.0M/68.7M [00:44<00:06,    1.50MB/s]\u001b[A\n",
      " 88%|████████▊ |/mnt/d/UChicago/Q4/ADSP 3260.3M/68.7M [00:44<00:05,    1.49MB/s]\u001b[A\n",
      " 88%|████████▊ |/mnt/d/UChicago/Q4/ADSP 3260.5M/68.7M [00:44<00:05,    1.48MB/s]\u001b[A\n",
      " 88%|████████▊ |/mnt/d/UChicago/Q4/ADSP 3260.8M/68.7M [00:44<00:05,    1.48MB/s]\u001b[A\n",
      " 89%|████████▉ |/mnt/d/UChicago/Q4/ADSP 3261.0M/68.7M [00:44<00:05,    1.49MB/s]\u001b[A\n",
      " 89%|████████▉ |/mnt/d/UChicago/Q4/ADSP 3261.2M/68.7M [00:44<00:05,    1.48MB/s]\u001b[A\n",
      " 89%|████████▉ |/mnt/d/UChicago/Q4/ADSP 3261.5M/68.7M [00:45<00:05,    1.48MB/s]\u001b[A\n",
      " 90%|████████▉ |/mnt/d/UChicago/Q4/ADSP 3261.7M/68.7M [00:45<00:04,    1.48MB/s]\u001b[A\n",
      " 90%|█████████ |/mnt/d/UChicago/Q4/ADSP 3261.9M/68.7M [00:45<00:04,    1.48MB/s]\u001b[A\n",
      " 91%|█████████ |/mnt/d/UChicago/Q4/ADSP 3262.2M/68.7M [00:45<00:04,    1.45MB/s]\u001b[A\n",
      " 91%|█████████ |/mnt/d/UChicago/Q4/ADSP 3262.4M/68.7M [00:45<00:04,    1.45MB/s]\u001b[A\n",
      " 91%|█████████ |/mnt/d/UChicago/Q4/ADSP 3262.6M/68.7M [00:45<00:04,    1.52MB/s]\u001b[A\n",
      " 92%|█████████▏|/mnt/d/UChicago/Q4/ADSP 3262.9M/68.7M [00:46<00:04,    1.52MB/s]\u001b[A\n",
      " 92%|█████████▏|/mnt/d/UChicago/Q4/ADSP 3263.1M/68.7M [00:46<00:03,    1.50MB/s]\u001b[A\n",
      " 92%|█████████▏|/mnt/d/UChicago/Q4/ADSP 3263.3M/68.7M [00:46<00:03,    1.50MB/s]\u001b[A\n",
      " 93%|█████████▎|/mnt/d/UChicago/Q4/ADSP 3263.6M/68.7M [00:46<00:03,    1.48MB/s]\u001b[A\n",
      " 93%|█████████▎|/mnt/d/UChicago/Q4/ADSP 3263.8M/68.7M [00:46<00:03,    1.48MB/s]\u001b[A\n",
      " 93%|█████████▎|/mnt/d/UChicago/Q4/ADSP 3264.0M/68.7M [00:46<00:03,    1.49MB/s]\u001b[A\n",
      " 94%|█████████▎|/mnt/d/UChicago/Q4/ADSP 3264.3M/68.7M [00:47<00:03,    1.49MB/s]\u001b[A\n",
      " 94%|█████████▍|/mnt/d/UChicago/Q4/ADSP 3264.5M/68.7M [00:47<00:02,    1.48MB/s]\u001b[A\n",
      " 94%|█████████▍|/mnt/d/UChicago/Q4/ADSP 3264.7M/68.7M [00:47<00:02,    1.38MB/s]\u001b[A\n",
      " 95%|█████████▍|/mnt/d/UChicago/Q4/ADSP 3265.0M/68.7M [00:47<00:02,    1.52MB/s]\u001b[A\n",
      " 95%|█████████▌|/mnt/d/UChicago/Q4/ADSP 3265.3M/68.7M [00:47<00:02,    1.51MB/s]\u001b[A\n",
      " 95%|█████████▌|/mnt/d/UChicago/Q4/ADSP 3265.5M/68.7M [00:48<00:02,    1.51MB/s]\u001b[A\n",
      " 96%|█████████▌|/mnt/d/UChicago/Q4/ADSP 3265.7M/68.7M [00:48<00:02,    1.50MB/s]\u001b[A\n",
      " 96%|█████████▌|/mnt/d/UChicago/Q4/ADSP 3266.0M/68.7M [00:48<00:01,    1.50MB/s]\u001b[A\n",
      " 96%|█████████▋|/mnt/d/UChicago/Q4/ADSP 3266.2M/68.7M [00:48<00:01,    1.48MB/s]\u001b[A\n",
      " 97%|█████████▋|/mnt/d/UChicago/Q4/ADSP 3266.4M/68.7M [00:48<00:01,    1.49MB/s]\u001b[A\n",
      " 97%|█████████▋|/mnt/d/UChicago/Q4/ADSP 3266.7M/68.7M [00:48<00:01,    1.48MB/s]\u001b[A\n",
      " 97%|█████████▋|/mnt/d/UChicago/Q4/ADSP 3266.9M/68.7M [00:49<00:01,    1.48MB/s]\u001b[A\n",
      " 98%|█████████▊|/mnt/d/UChicago/Q4/ADSP 3267.1M/68.7M [00:49<00:01,    1.47MB/s]\u001b[A\n",
      " 98%|█████████▊|/mnt/d/UChicago/Q4/ADSP 3267.4M/68.7M [00:49<00:00,    1.49MB/s]\u001b[A\n",
      " 98%|█████████▊|/mnt/d/UChicago/Q4/ADSP 3267.6M/68.7M [00:49<00:00,    1.48MB/s]\u001b[A\n",
      " 99%|█████████▉|/mnt/d/UChicago/Q4/ADSP 3267.8M/68.7M [00:49<00:00,    1.49MB/s]\u001b[A\n",
      " 99%|█████████▉|/mnt/d/UChicago/Q4/ADSP 3268.1M/68.7M [00:49<00:00,    1.50MB/s]\u001b[A\n",
      " 99%|█████████▉|/mnt/d/UChicago/Q4/ADSP 3268.3M/68.7M [00:49<00:00,    1.49MB/s]\u001b[A\n",
      "100% Pushing to gdrive://1i8QDLTjDwMzeznRjHizajHFaEFA3O17U/files/md5|█|1/1 [00:5\u001b[A\n",
      "1 file pushed                                                                   \u001b[A\n",
      "\u001b[0m"
     ]
    }
   ],
   "source": [
    "# push updated file\n",
    "!dvc add data/athletes.csv\n",
    "!git add data/athletes.csv.dvc\n",
    "!git commit -m \"Updated V1 Data with total lift\"\n",
    "!dvc push"
   ]
  },
  {
   "cell_type": "markdown",
   "id": "0f8bf6cf-2e10-4149-acb6-1a048711a11e",
   "metadata": {},
   "source": [
    "### 3.1.4 Checking different version of data"
   ]
  },
  {
   "cell_type": "code",
   "execution_count": 70,
   "id": "d5af7037-cb3b-451d-b199-42f4277dcd93",
   "metadata": {
    "tags": []
   },
   "outputs": [
    {
     "name": "stdout",
     "output_type": "stream",
     "text": [
      "\u001b[33mc0b7957\u001b[m\u001b[33m (\u001b[m\u001b[1;36mHEAD -> \u001b[m\u001b[1;32mmaster\u001b[m\u001b[33m)\u001b[m Updated V1 Data with total lift\n",
      "\u001b[33m88f3c51\u001b[m Dataset update to v2\n",
      "\u001b[33m3f8ec5b\u001b[m add raw (v1) athletes.csv\n",
      "\u001b[33ma119039\u001b[m Configure remote storage\n"
     ]
    }
   ],
   "source": [
    "!git log --oneline"
   ]
  },
  {
   "cell_type": "code",
   "execution_count": 71,
   "id": "8de10018-6a2b-48a5-8a43-8e16c97d044c",
   "metadata": {
    "tags": []
   },
   "outputs": [
    {
     "name": "stdout",
     "output_type": "stream",
     "text": [
      "Updated 1 path from e3504f6\n",
      "Building workspace index                              |2.00 [00:00,  167entry/s]\n",
      "Comparing indexes                                    |3.00 [00:00, 1.31kentry/s]\n",
      "Applying changes                                      |0.00 [00:00,     ?file/s]\n",
      "!\u001b[A\n",
      "  0%|          |/mnt/d/UChicago/Q4/ADSP 32021 Machi0.00/? [00:00<?,        ?B/s]\u001b[A\n",
      "  0%|          |/mnt/d/UChicago/Q4/ADSP 32021 M0.00/68.2M [00:00<?,        ?B/s]\u001b[A\n",
      " 29%|██▉       |/mnt/d/UChicago/Q4/ADSP 3220.0M/68.2M [00:00<00:00,     208MB/s]\u001b[A\n",
      " 62%|██████▏   |/mnt/d/UChicago/Q4/ADSP 3242.0M/68.2M [00:00<00:00,     219MB/s]\u001b[A\n",
      "100%|█████████▉|/mnt/d/UChicago/Q4/ADSP 3268.0M/68.2M [00:00<00:00,     240MB/s]\u001b[A\n",
      "Applying changes                                      |1.00 [00:00,  2.80file/s]\u001b[A\n",
      "\u001b[33mM\u001b[0m       data/athletes.csv\n",
      "\u001b[0m"
     ]
    },
    {
     "data": {
      "text/plain": [
       "(423006, 27)"
      ]
     },
     "execution_count": 71,
     "metadata": {},
     "output_type": "execute_result"
    }
   ],
   "source": [
    "# raw data (v1)\n",
    "\n",
    "!git checkout 3f8ec5b data/athletes.csv.dvc\n",
    "!dvc checkout\n",
    "pd.read_csv(\"data/athletes.csv\").shape"
   ]
  },
  {
   "cell_type": "markdown",
   "id": "3a7963e2-6ce4-4609-b201-fc0b1833b072",
   "metadata": {},
   "source": [
    "## 3.2 total_lift for V2"
   ]
  },
  {
   "cell_type": "markdown",
   "id": "0642979e-1a02-42ee-9b0a-6577cd349018",
   "metadata": {},
   "source": [
    "### 3.2.1 Load V2 data"
   ]
  },
  {
   "cell_type": "code",
   "execution_count": 72,
   "id": "e35e3b79-6d8e-4c2c-888e-a7ffd5711ca4",
   "metadata": {
    "tags": []
   },
   "outputs": [],
   "source": [
    "del data"
   ]
  },
  {
   "cell_type": "code",
   "execution_count": 73,
   "id": "12ef6a0d-69ab-4877-a71c-b5620ec4de6a",
   "metadata": {
    "tags": []
   },
   "outputs": [
    {
     "name": "stdout",
     "output_type": "stream",
     "text": [
      "\u001b[33mc0b7957\u001b[m\u001b[33m (\u001b[m\u001b[1;36mHEAD -> \u001b[m\u001b[1;32mmaster\u001b[m\u001b[33m)\u001b[m Updated V1 Data with total lift\n",
      "\u001b[33m88f3c51\u001b[m Dataset update to v2\n",
      "\u001b[33m3f8ec5b\u001b[m add raw (v1) athletes.csv\n",
      "\u001b[33ma119039\u001b[m Configure remote storage\n"
     ]
    }
   ],
   "source": [
    "!git log --oneline"
   ]
  },
  {
   "cell_type": "code",
   "execution_count": 74,
   "id": "1e41edc2-31ad-4c39-a3e6-e3a1cc07ab28",
   "metadata": {
    "tags": []
   },
   "outputs": [
    {
     "name": "stdout",
     "output_type": "stream",
     "text": [
      "Updated 1 path from 47e9285\n",
      "Building workspace index                              |2.00 [00:00, 83.9entry/s]\n",
      "Comparing indexes                                    |3.00 [00:00, 1.07kentry/s]\n",
      "Applying changes                                      |0.00 [00:00,     ?file/s]\n",
      "!\u001b[A\n",
      "  0%|          |/mnt/d/UChicago/Q4/ADSP 32021 Machi0.00/? [00:00<?,        ?B/s]\u001b[A\n",
      "  0%|          |/mnt/d/UChicago/Q4/ADSP 32021 M0.00/10.3M [00:00<?,        ?B/s]\u001b[A\n",
      "Applying changes                                      |1.00 [00:00,  8.72file/s]\u001b[A\n",
      "\u001b[33mM\u001b[0m       data/athletes.csv\n",
      "\u001b[0m"
     ]
    },
    {
     "data": {
      "text/plain": [
       "(30029, 14)"
      ]
     },
     "execution_count": 74,
     "metadata": {},
     "output_type": "execute_result"
    }
   ],
   "source": [
    "!git checkout 88f3c51 data/athletes.csv.dvc\n",
    "!dvc checkout\n",
    "v2 = pd.read_csv(\"data/athletes.csv\")\n",
    "v2.shape"
   ]
  },
  {
   "cell_type": "markdown",
   "id": "7cbde422-6918-434f-aabd-fd671daf3392",
   "metadata": {},
   "source": [
    "### 3.1.2 Calculate Total Lift for Data V1"
   ]
  },
  {
   "cell_type": "code",
   "execution_count": 75,
   "id": "7b2cf4bd-6cbb-481f-8170-f5bbf74bfeec",
   "metadata": {
    "tags": []
   },
   "outputs": [],
   "source": [
    "v2[\"total_lift\"] = v2[\"deadlift\"] + v2['candj'] + v2['snatch'] + v2['backsq']"
   ]
  },
  {
   "cell_type": "code",
   "execution_count": 76,
   "id": "ad2c3a07-27af-4470-a63a-587f29d2cdbe",
   "metadata": {
    "tags": []
   },
   "outputs": [
    {
     "data": {
      "text/plain": [
       "0    1110.0\n",
       "1     910.0\n",
       "2    1335.0\n",
       "3    1354.0\n",
       "4    1225.0\n",
       "Name: total_lift, dtype: float64"
      ]
     },
     "execution_count": 76,
     "metadata": {},
     "output_type": "execute_result"
    }
   ],
   "source": [
    "v2[\"total_lift\"].head()"
   ]
  },
  {
   "cell_type": "markdown",
   "id": "8c59d79e-6385-43ce-a512-5d8dcc5cd773",
   "metadata": {},
   "source": [
    "### 3.2.3 Save Data v2 with total lift & Push to Cloud Storage"
   ]
  },
  {
   "cell_type": "code",
   "execution_count": 77,
   "id": "b3ba227b-f3ee-4878-8e78-42dd10dc1b28",
   "metadata": {
    "tags": []
   },
   "outputs": [],
   "source": [
    "v2.to_csv(\"data/athletes.csv\", index=False)"
   ]
  },
  {
   "cell_type": "code",
   "execution_count": 78,
   "id": "23ff3efa-84c7-40d0-a358-093eee7962f4",
   "metadata": {
    "tags": []
   },
   "outputs": [
    {
     "name": "stdout",
     "output_type": "stream",
     "text": [
      "total 23M\n",
      "-rwxrwxrwx 1 mariafshan mariafshan 11M Oct 16 15:45 athletes.csv\n",
      "-rwxrwxrwx 1 mariafshan mariafshan 111 Oct 16 15:45 athletes.csv.dvc\n",
      "-rwxrwxrwx 1 mariafshan mariafshan 13M Oct 16 13:43 athletes.csv.zip\n"
     ]
    }
   ],
   "source": [
    "# checking that the file is updated\n",
    "!ls -lh data"
   ]
  },
  {
   "cell_type": "code",
   "execution_count": 79,
   "id": "2a3821d7-7bda-439f-ab61-0da083031397",
   "metadata": {
    "collapsed": true,
    "jupyter": {
     "outputs_hidden": true
    },
    "tags": []
   },
   "outputs": [
    {
     "name": "stdout",
     "output_type": "stream",
     "text": [
      "\u001b[?25l\u001b[32m⠋\u001b[0m Checking graph                                       core\u001b[39m>\n",
      "Adding...                                                                       \n",
      "!\u001b[A\n",
      "Collecting files and computing hashes in data/athletes.csv |0.00 [00:00,     ?fi\u001b[A\n",
      "                                                                                \u001b[A\n",
      "!\u001b[A\n",
      "  0% Checking cache in '/mnt/d/UChicago/Q4/ADSP 32021 Machine Learning Operation\u001b[A\n",
      "                                                                                \u001b[A\n",
      "!\u001b[A\n",
      "  0%|          |Adding data/athletes.csv to cache     0/? [00:00<?,     ?file/s]\u001b[A\n",
      "  0%|          |Adding data/athletes.csv to cache     0/1 [00:00<?,     ?file/s]\u001b[A\n",
      "  0%|          |Adding data/athletes.csv to cache     0/1 [00:00<?,     ?file/s]\u001b[A\n",
      "                                                                                \u001b[A\n",
      "!\u001b[A\n",
      "  0%|          |Checking out /mnt/d/UChicago/Q4/ADSP 30/? [00:00<?,    ?files/s]\u001b[A\n",
      "  0%|          |Checking out /mnt/d/UChicago/Q4/ADSP 30/1 [00:00<?,    ?files/s]\u001b[A\n",
      "100% Adding...|████████████████████████████████████████|1/1 [00:00,  2.64file/s]\u001b[A\n",
      "\n",
      "To track the changes with git, run:\n",
      "\n",
      "\tgit add data/athletes.csv.dvc\n",
      "\n",
      "To enable auto staging, run:\n",
      "\n",
      "\tdvc config core.autostage true\n",
      "\u001b[0m[master e6635e0] Updated V2 Data with total lift\n",
      " 1 file changed, 2 insertions(+), 2 deletions(-)\n",
      "  0% Pushing to gdrive://1i8QDLTjDwMzeznRjHizajHFaEFA3O17U/files/md5| |0/1 [00:0\n",
      "!\u001b[A\n",
      "  0%|          |/mnt/d/UChicago/Q4/ADSP 32021 Machi0.00/? [00:00<?,        ?B/s]\u001b[A\n",
      "  0%|          |/mnt/d/UChicago/Q4/ADSP 32021 M0.00/10.5M [00:00<?,        ?B/s]\u001b[A\n",
      "  0%|          |/mnt/d/UChicago/Q4/ADSP 328.00k/10.5M [00:01<41:54,    4.36kB/s]\u001b[A\n",
      "  7%|▋         |/mnt/d/UChicago/Q4/ADSP 320704k/10.5M [00:02<00:21,     470kB/s]\u001b[A\n",
      "  9%|▉         |/mnt/d/UChicago/Q4/ADSP 320944k/10.5M [00:02<00:16,     610kB/s]\u001b[A\n",
      " 11%|█         |/mnt/d/UChicago/Q4/ADSP 321.16M/10.5M [00:02<00:13,     746kB/s]\u001b[A\n",
      " 13%|█▎        |/mnt/d/UChicago/Q4/ADSP 321.39M/10.5M [00:02<00:10,     885kB/s]\u001b[A\n",
      " 16%|█▌        |/mnt/d/UChicago/Q4/ADSP 321.62M/10.5M [00:02<00:09,    1.01MB/s]\u001b[A\n",
      " 18%|█▊        |/mnt/d/UChicago/Q4/ADSP 321.86M/10.5M [00:02<00:08,    1.12MB/s]\u001b[A\n",
      " 20%|██        |/mnt/d/UChicago/Q4/ADSP 322.09M/10.5M [00:03<00:07,    1.21MB/s]\u001b[A\n",
      " 23%|██▎       |/mnt/d/UChicago/Q4/ADSP 322.39M/10.5M [00:03<00:06,    1.32MB/s]\u001b[A\n",
      " 25%|██▌       |/mnt/d/UChicago/Q4/ADSP 322.62M/10.5M [00:03<00:06,    1.36MB/s]\u001b[A\n",
      " 27%|██▋       |/mnt/d/UChicago/Q4/ADSP 322.86M/10.5M [00:03<00:05,    1.39MB/s]\u001b[A\n",
      " 30%|██▉       |/mnt/d/UChicago/Q4/ADSP 323.09M/10.5M [00:03<00:05,    1.42MB/s]\u001b[A\n",
      " 32%|███▏      |/mnt/d/UChicago/Q4/ADSP 323.33M/10.5M [00:03<00:05,    1.44MB/s]\u001b[A\n",
      " 34%|███▍      |/mnt/d/UChicago/Q4/ADSP 323.56M/10.5M [00:04<00:05,    1.44MB/s]\u001b[A\n",
      " 36%|███▋      |/mnt/d/UChicago/Q4/ADSP 323.80M/10.5M [00:04<00:04,    1.46MB/s]\u001b[A\n",
      " 39%|███▊      |/mnt/d/UChicago/Q4/ADSP 324.03M/10.5M [00:04<00:04,    1.46MB/s]\u001b[A\n",
      " 41%|████      |/mnt/d/UChicago/Q4/ADSP 324.27M/10.5M [00:04<00:04,    1.48MB/s]\u001b[A\n",
      " 43%|████▎     |/mnt/d/UChicago/Q4/ADSP 324.50M/10.5M [00:04<00:04,    1.48MB/s]\u001b[A\n",
      " 45%|████▌     |/mnt/d/UChicago/Q4/ADSP 324.73M/10.5M [00:04<00:04,    1.36MB/s]\u001b[A\n",
      " 49%|████▊     |/mnt/d/UChicago/Q4/ADSP 325.09M/10.5M [00:05<00:03,    1.53MB/s]\u001b[A\n",
      " 51%|█████     |/mnt/d/UChicago/Q4/ADSP 325.32M/10.5M [00:05<00:03,    1.51MB/s]\u001b[A\n",
      " 53%|█████▎    |/mnt/d/UChicago/Q4/ADSP 325.55M/10.5M [00:05<00:03,    1.51MB/s]\u001b[A\n",
      " 55%|█████▌    |/mnt/d/UChicago/Q4/ADSP 325.79M/10.5M [00:05<00:03,    1.50MB/s]\u001b[A\n",
      " 58%|█████▊    |/mnt/d/UChicago/Q4/ADSP 326.02M/10.5M [00:05<00:03,    1.50MB/s]\u001b[A\n",
      " 60%|█████▉    |/mnt/d/UChicago/Q4/ADSP 326.26M/10.5M [00:06<00:02,    1.49MB/s]\u001b[A\n",
      " 62%|██████▏   |/mnt/d/UChicago/Q4/ADSP 326.49M/10.5M [00:06<00:02,    1.49MB/s]\u001b[A\n",
      " 64%|██████▍   |/mnt/d/UChicago/Q4/ADSP 326.72M/10.5M [00:06<00:02,    1.47MB/s]\u001b[A\n",
      " 66%|██████▋   |/mnt/d/UChicago/Q4/ADSP 326.95M/10.5M [00:06<00:02,    1.47MB/s]\u001b[A\n",
      " 69%|██████▊   |/mnt/d/UChicago/Q4/ADSP 327.19M/10.5M [00:06<00:02,    1.47MB/s]\u001b[A\n",
      " 71%|███████   |/mnt/d/UChicago/Q4/ADSP 327.42M/10.5M [00:06<00:02,    1.50MB/s]\u001b[A\n",
      " 73%|███████▎  |/mnt/d/UChicago/Q4/ADSP 327.66M/10.5M [00:07<00:01,    1.49MB/s]\u001b[A\n",
      " 75%|███████▌  |/mnt/d/UChicago/Q4/ADSP 327.89M/10.5M [00:07<00:01,    1.49MB/s]\u001b[A\n",
      " 78%|███████▊  |/mnt/d/UChicago/Q4/ADSP 328.12M/10.5M [00:07<00:01,    1.49MB/s]\u001b[A\n",
      " 80%|███████▉  |/mnt/d/UChicago/Q4/ADSP 328.36M/10.5M [00:07<00:01,    1.47MB/s]\u001b[A\n",
      " 82%|████████▏ |/mnt/d/UChicago/Q4/ADSP 328.59M/10.5M [00:07<00:01,    1.49MB/s]\u001b[A\n",
      " 84%|████████▍ |/mnt/d/UChicago/Q4/ADSP 328.83M/10.5M [00:07<00:01,    1.49MB/s]\u001b[A\n",
      " 87%|████████▋ |/mnt/d/UChicago/Q4/ADSP 329.06M/10.5M [00:07<00:00,    1.48MB/s]\u001b[A\n",
      " 89%|████████▉ |/mnt/d/UChicago/Q4/ADSP 329.30M/10.5M [00:08<00:00,    1.48MB/s]\u001b[A\n",
      " 91%|█████████ |/mnt/d/UChicago/Q4/ADSP 329.53M/10.5M [00:08<00:00,    1.48MB/s]\u001b[A\n",
      " 93%|█████████▎|/mnt/d/UChicago/Q4/ADSP 329.77M/10.5M [00:08<00:00,    1.48MB/s]\u001b[A\n",
      " 96%|█████████▌|/mnt/d/UChicago/Q4/ADSP 3210.1M/10.5M [00:08<00:00,    1.49MB/s]\u001b[A\n",
      "100% Pushing to gdrive://1i8QDLTjDwMzeznRjHizajHFaEFA3O17U/files/md5|█|1/1 [00:1\u001b[A\n",
      "1 file pushed                                                                   \u001b[A\n",
      "\u001b[0m"
     ]
    }
   ],
   "source": [
    "# push updated file\n",
    "!dvc add data/athletes.csv\n",
    "!git add data/athletes.csv.dvc\n",
    "!git commit -m \"Updated V2 Data with total lift\"\n",
    "!dvc push"
   ]
  },
  {
   "cell_type": "code",
   "execution_count": 80,
   "id": "a44be715-c2ba-4cf3-bfab-b37f4211d9e7",
   "metadata": {
    "tags": []
   },
   "outputs": [
    {
     "name": "stdout",
     "output_type": "stream",
     "text": [
      "\u001b[33me6635e0\u001b[m\u001b[33m (\u001b[m\u001b[1;36mHEAD -> \u001b[m\u001b[1;32mmaster\u001b[m\u001b[33m)\u001b[m Updated V2 Data with total lift\n",
      "\u001b[33mc0b7957\u001b[m Updated V1 Data with total lift\n",
      "\u001b[33m88f3c51\u001b[m Dataset update to v2\n",
      "\u001b[33m3f8ec5b\u001b[m add raw (v1) athletes.csv\n",
      "\u001b[33ma119039\u001b[m Configure remote storage\n"
     ]
    }
   ],
   "source": [
    "# checking upload log\n",
    "!git log --oneline"
   ]
  }
 ],
 "metadata": {
  "kernelspec": {
   "display_name": "python39",
   "language": "python",
   "name": "python39"
  },
  "language_info": {
   "codemirror_mode": {
    "name": "ipython",
    "version": 3
   },
   "file_extension": ".py",
   "mimetype": "text/x-python",
   "name": "python",
   "nbconvert_exporter": "python",
   "pygments_lexer": "ipython3",
   "version": "3.9.18"
  }
 },
 "nbformat": 4,
 "nbformat_minor": 5
}
