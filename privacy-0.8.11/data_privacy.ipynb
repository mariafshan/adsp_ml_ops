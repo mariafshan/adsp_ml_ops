{
 "cells": [
  {
   "cell_type": "code",
   "execution_count": 1,
   "metadata": {},
   "outputs": [],
   "source": [
    "# !rm -rf build\n",
    "\n"
   ]
  },
  {
   "cell_type": "code",
   "execution_count": 61,
   "metadata": {},
   "outputs": [],
   "source": [
    "# !python setup.py install"
   ]
  },
  {
   "cell_type": "code",
   "execution_count": 60,
   "metadata": {},
   "outputs": [],
   "source": [
    "# pip install tensorflow"
   ]
  },
  {
   "cell_type": "code",
   "execution_count": 59,
   "metadata": {},
   "outputs": [],
   "source": [
    "# pip install tensorflow_privacy"
   ]
  },
  {
   "cell_type": "code",
   "execution_count": 1,
   "metadata": {},
   "outputs": [
    {
     "name": "stdout",
     "output_type": "stream",
     "text": [
      "tensorflow                    2.14.0\n",
      "tensorflow-datasets           4.9.3\n",
      "tensorflow-estimator          2.14.0\n",
      "tensorflow-io-gcs-filesystem  0.34.0\n",
      "tensorflow-macos              2.14.0\n",
      "tensorflow-privacy            0.8.11\n",
      "tensorflow-probability        0.20.1\n"
     ]
    }
   ],
   "source": [
    "!pip list | grep tensorflow"
   ]
  },
  {
   "cell_type": "code",
   "execution_count": 2,
   "metadata": {},
   "outputs": [
    {
     "name": "stdout",
     "output_type": "stream",
     "text": [
      "WARNING:tensorflow:From /Users/kajalshukla/anaconda3/envs/Desktop/lib/python3.10/site-packages/tensorflow/python/compat/v2_compat.py:108: disable_resource_variables (from tensorflow.python.ops.variable_scope) is deprecated and will be removed in a future version.\n",
      "Instructions for updating:\n",
      "non-resource variables are not supported in the long term\n"
     ]
    }
   ],
   "source": [
    "import tensorflow as tf\n",
    "tf.compat.v1.disable_v2_behavior()\n",
    "\n",
    "import numpy as np\n",
    "\n",
    "tf.get_logger().setLevel('ERROR')\n"
   ]
  },
  {
   "cell_type": "code",
   "execution_count": 5,
   "metadata": {},
   "outputs": [],
   "source": [
    "from tensorflow_privacy.privacy.analysis import compute_dp_sgd_privacy\n"
   ]
  },
  {
   "cell_type": "code",
   "execution_count": 53,
   "metadata": {},
   "outputs": [],
   "source": [
    "from tensorflow_privacy.privacy.optimizers.dp_optimizer import DPGradientDescentGaussianOptimizer\n"
   ]
  },
  {
   "cell_type": "code",
   "execution_count": 58,
   "metadata": {},
   "outputs": [],
   "source": [
    "# pip install 'dvc-gdrive'"
   ]
  },
  {
   "cell_type": "code",
   "execution_count": 62,
   "metadata": {},
   "outputs": [],
   "source": [
    "# !dvc init"
   ]
  },
  {
   "cell_type": "code",
   "execution_count": 7,
   "metadata": {},
   "outputs": [
    {
     "name": "stdout",
     "output_type": "stream",
     "text": [
      "Updated 0 paths from 75509c6\n"
     ]
    }
   ],
   "source": [
    "!git checkout 34bd5a261208081c21f975c08ea19a75afc53448 /Users/kajalshukla/Desktop/MLOPs/Assignments/Assignment-1/adsp_ml_ops/data/athletes.csv.dvc  # version-2"
   ]
  },
  {
   "cell_type": "code",
   "execution_count": 8,
   "metadata": {},
   "outputs": [
    {
     "name": "stdout",
     "output_type": "stream",
     "text": [
      "Collecting                                            |0.00 [00:00,    ?entry/s]\n",
      "Fetching\n",
      "!\u001b[A\n",
      "  0% Checking cache in '/Users/kajalshukla/Desktop/MLOPs/Assignments/Assignment-\u001b[A\n",
      "Fetching                                                                        \u001b[A\n",
      "Building workspace index                             |2.00 [00:00, 1.17kentry/s]\n",
      "Comparing indexes                                    |3.00 [00:00, 2.26kentry/s]\n",
      "Applying changes                                      |0.00 [00:00,     ?file/s]\n",
      "Everything is up to date.\n",
      "\u001b[0m"
     ]
    }
   ],
   "source": [
    "!dvc pull /Users/kajalshukla/Desktop/MLOPs/Assignments/Assignment-1/adsp_ml_ops/data/athletes.csv.dvc"
   ]
  },
  {
   "cell_type": "code",
   "execution_count": 10,
   "metadata": {},
   "outputs": [],
   "source": [
    "from sklearn.linear_model import LinearRegression\n",
    "from sklearn.metrics import mean_squared_error, r2_score\n",
    "from sklearn.model_selection import train_test_split\n",
    "import pandas as pd"
   ]
  },
  {
   "cell_type": "code",
   "execution_count": 11,
   "metadata": {},
   "outputs": [],
   "source": [
    "import tensorflow as tf\n",
    "tf.compat.v1.disable_v2_behavior()\n",
    "\n",
    "import numpy as np\n",
    "\n",
    "tf.get_logger().setLevel('ERROR')"
   ]
  },
  {
   "cell_type": "code",
   "execution_count": 39,
   "metadata": {},
   "outputs": [],
   "source": [
    "# Load the data\n",
    "data = pd.read_csv('/Users/kajalshukla/Desktop/MLOPs/Assignments/Assignment-1/adsp_ml_ops/data/athletes.csv')"
   ]
  },
  {
   "cell_type": "code",
   "execution_count": 40,
   "metadata": {},
   "outputs": [
    {
     "data": {
      "text/html": [
       "<div>\n",
       "<style scoped>\n",
       "    .dataframe tbody tr th:only-of-type {\n",
       "        vertical-align: middle;\n",
       "    }\n",
       "\n",
       "    .dataframe tbody tr th {\n",
       "        vertical-align: top;\n",
       "    }\n",
       "\n",
       "    .dataframe thead th {\n",
       "        text-align: right;\n",
       "    }\n",
       "</style>\n",
       "<table border=\"1\" class=\"dataframe\">\n",
       "  <thead>\n",
       "    <tr style=\"text-align: right;\">\n",
       "      <th></th>\n",
       "      <th>age</th>\n",
       "      <th>height</th>\n",
       "      <th>weight</th>\n",
       "      <th>candj</th>\n",
       "      <th>snatch</th>\n",
       "      <th>deadlift</th>\n",
       "      <th>backsq</th>\n",
       "      <th>total_lift</th>\n",
       "      <th>region_Asia</th>\n",
       "      <th>region_Australia</th>\n",
       "      <th>...</th>\n",
       "      <th>howlong_Less than 6 months|6-12 months|1-2 years|2-4 years|4+ years|Decline to answer|</th>\n",
       "      <th>howlong_Less than 6 months|Decline to answer|</th>\n",
       "      <th>bmi</th>\n",
       "      <th>age_group_Young Adult</th>\n",
       "      <th>age_group_Adult</th>\n",
       "      <th>age_group_Senior</th>\n",
       "      <th>weight_group_Normal weight</th>\n",
       "      <th>weight_group_Overweight</th>\n",
       "      <th>weight_group_Obese</th>\n",
       "      <th>weight_group_Extremely Obese</th>\n",
       "    </tr>\n",
       "  </thead>\n",
       "  <tbody>\n",
       "    <tr>\n",
       "      <th>0</th>\n",
       "      <td>30</td>\n",
       "      <td>71</td>\n",
       "      <td>200</td>\n",
       "      <td>235</td>\n",
       "      <td>175</td>\n",
       "      <td>385</td>\n",
       "      <td>315</td>\n",
       "      <td>1110</td>\n",
       "      <td>0</td>\n",
       "      <td>0</td>\n",
       "      <td>...</td>\n",
       "      <td>0</td>\n",
       "      <td>0</td>\n",
       "      <td>396</td>\n",
       "      <td>1</td>\n",
       "      <td>0</td>\n",
       "      <td>0</td>\n",
       "      <td>0</td>\n",
       "      <td>1</td>\n",
       "      <td>0</td>\n",
       "      <td>0</td>\n",
       "    </tr>\n",
       "    <tr>\n",
       "      <th>1</th>\n",
       "      <td>28</td>\n",
       "      <td>70</td>\n",
       "      <td>176</td>\n",
       "      <td>187</td>\n",
       "      <td>134</td>\n",
       "      <td>335</td>\n",
       "      <td>254</td>\n",
       "      <td>910</td>\n",
       "      <td>0</td>\n",
       "      <td>0</td>\n",
       "      <td>...</td>\n",
       "      <td>0</td>\n",
       "      <td>0</td>\n",
       "      <td>359</td>\n",
       "      <td>1</td>\n",
       "      <td>0</td>\n",
       "      <td>0</td>\n",
       "      <td>0</td>\n",
       "      <td>1</td>\n",
       "      <td>0</td>\n",
       "      <td>0</td>\n",
       "    </tr>\n",
       "    <tr>\n",
       "      <th>2</th>\n",
       "      <td>35</td>\n",
       "      <td>68</td>\n",
       "      <td>225</td>\n",
       "      <td>285</td>\n",
       "      <td>205</td>\n",
       "      <td>440</td>\n",
       "      <td>405</td>\n",
       "      <td>1335</td>\n",
       "      <td>0</td>\n",
       "      <td>0</td>\n",
       "      <td>...</td>\n",
       "      <td>0</td>\n",
       "      <td>0</td>\n",
       "      <td>486</td>\n",
       "      <td>0</td>\n",
       "      <td>1</td>\n",
       "      <td>0</td>\n",
       "      <td>0</td>\n",
       "      <td>0</td>\n",
       "      <td>1</td>\n",
       "      <td>0</td>\n",
       "    </tr>\n",
       "    <tr>\n",
       "      <th>3</th>\n",
       "      <td>36</td>\n",
       "      <td>71</td>\n",
       "      <td>199</td>\n",
       "      <td>267</td>\n",
       "      <td>212</td>\n",
       "      <td>485</td>\n",
       "      <td>390</td>\n",
       "      <td>1354</td>\n",
       "      <td>0</td>\n",
       "      <td>0</td>\n",
       "      <td>...</td>\n",
       "      <td>0</td>\n",
       "      <td>0</td>\n",
       "      <td>394</td>\n",
       "      <td>0</td>\n",
       "      <td>1</td>\n",
       "      <td>0</td>\n",
       "      <td>0</td>\n",
       "      <td>1</td>\n",
       "      <td>0</td>\n",
       "      <td>0</td>\n",
       "    </tr>\n",
       "  </tbody>\n",
       "</table>\n",
       "<p>4 rows × 320 columns</p>\n",
       "</div>"
      ],
      "text/plain": [
       "   age  height  weight  candj  snatch  deadlift  backsq  total_lift  \\\n",
       "0   30      71     200    235     175       385     315        1110   \n",
       "1   28      70     176    187     134       335     254         910   \n",
       "2   35      68     225    285     205       440     405        1335   \n",
       "3   36      71     199    267     212       485     390        1354   \n",
       "\n",
       "   region_Asia  region_Australia  ...  \\\n",
       "0            0                 0  ...   \n",
       "1            0                 0  ...   \n",
       "2            0                 0  ...   \n",
       "3            0                 0  ...   \n",
       "\n",
       "   howlong_Less than 6 months|6-12 months|1-2 years|2-4 years|4+ years|Decline to answer|  \\\n",
       "0                                                  0                                        \n",
       "1                                                  0                                        \n",
       "2                                                  0                                        \n",
       "3                                                  0                                        \n",
       "\n",
       "   howlong_Less than 6 months|Decline to answer|  bmi  age_group_Young Adult  \\\n",
       "0                                              0  396                      1   \n",
       "1                                              0  359                      1   \n",
       "2                                              0  486                      0   \n",
       "3                                              0  394                      0   \n",
       "\n",
       "   age_group_Adult  age_group_Senior  weight_group_Normal weight  \\\n",
       "0                0                 0                           0   \n",
       "1                0                 0                           0   \n",
       "2                1                 0                           0   \n",
       "3                1                 0                           0   \n",
       "\n",
       "   weight_group_Overweight  weight_group_Obese  weight_group_Extremely Obese  \n",
       "0                        1                   0                             0  \n",
       "1                        1                   0                             0  \n",
       "2                        0                   1                             0  \n",
       "3                        1                   0                             0  \n",
       "\n",
       "[4 rows x 320 columns]"
      ]
     },
     "execution_count": 40,
     "metadata": {},
     "output_type": "execute_result"
    }
   ],
   "source": [
    "data.head(4)"
   ]
  },
  {
   "cell_type": "markdown",
   "metadata": {},
   "source": [
    "### Load and Split X_train and y_train"
   ]
  },
  {
   "cell_type": "code",
   "execution_count": 41,
   "metadata": {},
   "outputs": [],
   "source": [
    "#Split data for data_v1\n",
    "X  = data.drop('total_lift', axis=1)\n",
    "y  = data['total_lift']\n",
    "X_train, X_test, y_train, y_test = train_test_split(X, y, test_size=0.2, random_state=42) "
   ]
  },
  {
   "cell_type": "markdown",
   "metadata": {},
   "source": [
    "# Part - 13"
   ]
  },
  {
   "cell_type": "markdown",
   "metadata": {},
   "source": [
    "### Set Differential Privacy Parameters"
   ]
  },
  {
   "cell_type": "code",
   "execution_count": 42,
   "metadata": {},
   "outputs": [],
   "source": [
    "# Hyperparameters\n",
    "\n",
    "learning_rate = 0.001\n",
    "epochs = 10\n",
    "batch_size = 250\n",
    "n_features = X_train.shape[1]"
   ]
  },
  {
   "cell_type": "code",
   "execution_count": 43,
   "metadata": {},
   "outputs": [],
   "source": [
    "l2_norm_clip = 1.5\n",
    "noise_multiplier = 1.3\n",
    "num_microbatches = 1"
   ]
  },
  {
   "cell_type": "markdown",
   "metadata": {},
   "source": [
    "### Create a Model"
   ]
  },
  {
   "cell_type": "code",
   "execution_count": 44,
   "metadata": {},
   "outputs": [],
   "source": [
    "model = tf.keras.Sequential([\n",
    "    tf.keras.layers.Dense(1, input_dim=X_train.shape[1])\n",
    "])"
   ]
  },
  {
   "cell_type": "markdown",
   "metadata": {},
   "source": [
    "### Use Differential Privacy Optimizer"
   ]
  },
  {
   "cell_type": "code",
   "execution_count": 54,
   "metadata": {},
   "outputs": [],
   "source": [
    "optimizer = DPGradientDescentGaussianOptimizer(\n",
    "    l2_norm_clip = l2_norm_clip,\n",
    "    noise_multiplier = noise_multiplier,\n",
    "    num_microbatches = num_microbatches,\n",
    "    learning_rate = learning_rate)"
   ]
  },
  {
   "cell_type": "code",
   "execution_count": 55,
   "metadata": {},
   "outputs": [],
   "source": [
    "from keras.models import Sequential\n",
    "from keras.layers import Dense\n",
    "\n",
    "input_shape = X_train.shape[1]  # Number of features\n",
    "\n",
    "model = Sequential()\n",
    "model.add(Dense(128, input_shape=(input_shape,), activation='relu'))\n",
    "model.add(Dense(1, activation='linear'))  # Assuming it's a regression problem"
   ]
  },
  {
   "cell_type": "markdown",
   "metadata": {},
   "source": [
    "### Compile and Train the Model:"
   ]
  },
  {
   "cell_type": "code",
   "execution_count": 56,
   "metadata": {},
   "outputs": [],
   "source": [
    "model.compile(optimizer=optimizer, loss='mean_squared_error')  # Assuming a regression problem\n"
   ]
  },
  {
   "cell_type": "code",
   "execution_count": 57,
   "metadata": {},
   "outputs": [
    {
     "name": "stdout",
     "output_type": "stream",
     "text": [
      "Train on 24023 samples\n",
      "Epoch 1/10\n",
      "  171/24023 [..............................] - ETA: 14s - loss: 837484.6282  "
     ]
    },
    {
     "name": "stderr",
     "output_type": "stream",
     "text": [
      "2023-10-17 22:07:17.424622: I tensorflow/compiler/mlir/mlir_graph_optimization_pass.cc:382] MLIR V1 optimization pass is not enabled\n",
      "2023-10-17 22:07:17.436681: W tensorflow/c/c_api.cc:305] Operation '{name:'TFOptimizer/iterations/Assign' id:68 op device:{requested: '', assigned: ''} def:{{{node TFOptimizer/iterations/Assign}} = AssignVariableOp[_has_manual_control_dependencies=true, dtype=DT_INT64, validate_shape=false](TFOptimizer/iterations, TFOptimizer/iterations/Initializer/initial_value)}}' was changed by setting attribute after it was run by a session. This mutation will have no effect, and will trigger an error in the future. Either don't modify nodes after running them or create a new session.\n"
     ]
    },
    {
     "name": "stdout",
     "output_type": "stream",
     "text": [
      "24023/24023 [==============================] - 13s 535us/sample - loss: 12692.0402\n",
      "Epoch 2/10\n",
      "24023/24023 [==============================] - 13s 531us/sample - loss: 2196.6083\n",
      "Epoch 3/10\n",
      "24023/24023 [==============================] - 13s 541us/sample - loss: 2102.5663\n",
      "Epoch 4/10\n",
      "24023/24023 [==============================] - 13s 540us/sample - loss: 5295.8608\n",
      "Epoch 5/10\n",
      "24023/24023 [==============================] - 13s 559us/sample - loss: 3673.3687\n",
      "Epoch 6/10\n",
      "24023/24023 [==============================] - 13s 540us/sample - loss: 5116.9607\n",
      "Epoch 7/10\n",
      "24023/24023 [==============================] - 13s 547us/sample - loss: 7529.1802\n",
      "Epoch 8/10\n",
      "24023/24023 [==============================] - 13s 530us/sample - loss: 7500.0398\n",
      "Epoch 9/10\n",
      "24023/24023 [==============================] - 12s 519us/sample - loss: 9163.5780\n",
      "Epoch 10/10\n",
      "24023/24023 [==============================] - 12s 512us/sample - loss: 19303.8495\n"
     ]
    },
    {
     "data": {
      "text/plain": [
       "<keras.src.callbacks.History at 0x17275d1e0>"
      ]
     },
     "execution_count": 57,
     "metadata": {},
     "output_type": "execute_result"
    }
   ],
   "source": [
    "epochs = 10  # or whatever value you've chosen\n",
    "batch_size = 1  # Using a batch size of 1 for simplicity, but you can adjust\n",
    "\n",
    "model.fit(X_train, y_train, epochs=epochs, batch_size=batch_size)\n"
   ]
  },
  {
   "cell_type": "markdown",
   "metadata": {},
   "source": [
    "### Evaluate and Get Metrics:"
   ]
  },
  {
   "cell_type": "code",
   "execution_count": 66,
   "metadata": {},
   "outputs": [
    {
     "name": "stdout",
     "output_type": "stream",
     "text": [
      "Test Loss: 18871.213699711745\n"
     ]
    }
   ],
   "source": [
    "metrics = model.evaluate(X_test, y_test)\n",
    "print(\"Test Loss:\", metrics)\n"
   ]
  },
  {
   "cell_type": "markdown",
   "metadata": {},
   "source": [
    "# Part - 14"
   ]
  },
  {
   "cell_type": "code",
   "execution_count": 67,
   "metadata": {},
   "outputs": [],
   "source": [
    "n = 10000  # Number of training examples.\n",
    "batch_size = 256\n",
    "noise_multiplier = 1.1\n",
    "epochs = 5\n",
    "delta = 1e-5"
   ]
  },
  {
   "cell_type": "code",
   "execution_count": 131,
   "metadata": {},
   "outputs": [],
   "source": [
    "from tensorflow_privacy.privacy.analysis import compute_dp_sgd_privacy"
   ]
  },
  {
   "cell_type": "code",
   "execution_count": 132,
   "metadata": {},
   "outputs": [
    {
     "data": {
      "text/plain": [
       "['_BATCH_SIZE',\n",
       " '_DELTA',\n",
       " '_MAX_EXAMPLES_PER_USER',\n",
       " '_NOISE_MULTIPLIER',\n",
       " '_NUM_EPOCHS',\n",
       " '_NUM_EXAMPLES',\n",
       " '_USED_MICROBATCHING',\n",
       " '__builtins__',\n",
       " '__cached__',\n",
       " '__doc__',\n",
       " '__file__',\n",
       " '__loader__',\n",
       " '__name__',\n",
       " '__package__',\n",
       " '__spec__',\n",
       " 'app',\n",
       " 'compute_dp_sgd_privacy_statement',\n",
       " 'flags',\n",
       " 'main']"
      ]
     },
     "execution_count": 132,
     "metadata": {},
     "output_type": "execute_result"
    }
   ],
   "source": [
    "dir(compute_dp_sgd_privacy)\n"
   ]
  },
  {
   "cell_type": "code",
   "execution_count": 144,
   "metadata": {},
   "outputs": [],
   "source": [
    "from tensorflow_privacy.privacy.analysis.compute_dp_sgd_privacy_lib import compute_dp_sgd_privacy_statement\n"
   ]
  },
  {
   "cell_type": "code",
   "execution_count": 145,
   "metadata": {},
   "outputs": [],
   "source": [
    "def compute_dp_sgd_privacy(N, batch_size, epochs, noise_multiplier, delta=1e-6, used_microbatching=True, max_examples_per_user=None):\n",
    "    statement = compute_dp_sgd_privacy_statement(\n",
    "        N, batch_size, epochs, noise_multiplier, delta, used_microbatching, max_examples_per_user\n",
    "    )\n",
    "    return statement\n",
    "\n",
    "# Example usage\n",
    "N = 60000\n",
    "batch_size = 256\n",
    "noise_multiplier = 1.12\n",
    "epochs = 60\n",
    "delta = 1e-5"
   ]
  },
  {
   "cell_type": "code",
   "execution_count": 146,
   "metadata": {},
   "outputs": [
    {
     "name": "stdout",
     "output_type": "stream",
     "text": [
      "DP-SGD performed over 60000 examples with 256 examples per iteration, noise\n",
      "multiplier 1.12 for 60 epochs with microbatching, and no bound on number of\n",
      "examples per user.\n",
      "\n",
      "This privacy guarantee protects the release of all model checkpoints in addition\n",
      "to the final model.\n",
      "\n",
      "Example-level DP with add-or-remove-one adjacency at delta = 1e-05 computed with\n",
      "RDP accounting:\n",
      "    Epsilon with each example occurring once per epoch:       160.398\n",
      "    Epsilon assuming Poisson sampling (*):                     15.344\n",
      "\n",
      "No user-level privacy guarantee is possible without a bound on the number of\n",
      "examples per user.\n",
      "\n",
      "(*) Poisson sampling is not usually done in training pipelines, but assuming\n",
      "that the data was randomly shuffled, it is believed the actual epsilon should be\n",
      "closer to this value than the conservative assumption of an arbitrary data\n",
      "order.\n",
      "\n"
     ]
    }
   ],
   "source": [
    "result = compute_dp_sgd_privacy(N, batch_size, epochs, noise_multiplier, delta)\n",
    "print(result)"
   ]
  },
  {
   "cell_type": "code",
   "execution_count": null,
   "metadata": {},
   "outputs": [],
   "source": []
  },
  {
   "cell_type": "code",
   "execution_count": null,
   "metadata": {},
   "outputs": [],
   "source": []
  }
 ],
 "metadata": {
  "kernelspec": {
   "display_name": "Python 3",
   "language": "python",
   "name": "python3"
  },
  "language_info": {
   "codemirror_mode": {
    "name": "ipython",
    "version": 3
   },
   "file_extension": ".py",
   "mimetype": "text/x-python",
   "name": "python",
   "nbconvert_exporter": "python",
   "pygments_lexer": "ipython3",
   "version": "3.10.11"
  }
 },
 "nbformat": 4,
 "nbformat_minor": 2
}
